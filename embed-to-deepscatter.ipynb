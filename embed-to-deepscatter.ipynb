{
 "cells": [
  {
   "cell_type": "code",
   "execution_count": 2,
   "metadata": {},
   "outputs": [],
   "source": [
    "import pyarrow as pa\n",
    "from pyarrow import csv, feather, parquet, compute as pc\n",
    "from pyarrow import parquet as pq\n",
    "import pyarrow as pa\n",
    "import json\n"
   ]
  },
  {
   "cell_type": "markdown",
   "metadata": {},
   "source": [
    "# Data Schema\n",
    "\n",
    "Deepscatter won't be able to directly plot things encoded as strings but they can display and be used for lookup.\n",
    "\n",
    "Other fields should be float32 arrays to minimize size."
   ]
  },
  {
   "cell_type": "code",
   "execution_count": 3,
   "metadata": {},
   "outputs": [],
   "source": [
    "schema = pa.schema({\n",
    "  \"Title\": pa.string(),\n",
    "  \"Journal\": pa.string(),\n",
    "  \"PMID\": pa.string(),\n",
    "  \"X_tfidf\": pa.float32(),\n",
    "  \"Y_tfidf\": pa.float32(),\n",
    "  \"X_bert\": pa.float32(),\n",
    "  \"Y_bert\": pa.float32(),\n",
    "  \"Year\": pa.float32(),\n",
    "  \"Labels\": pa.dictionary(pa.int32(), pa.string())\n",
    "})"
   ]
  },
  {
   "cell_type": "code",
   "execution_count": 4,
   "metadata": {},
   "outputs": [],
   "source": [
    "big = csv.read_csv(\"/Users/benschmidt/Downloads/pubmed_dataset_v3.csv\",\n",
    "  convert_options=csv.ConvertOptions(column_types=schema, include_columns=schema.names))"
   ]
  },
  {
   "cell_type": "markdown",
   "metadata": {},
   "source": [
    "Rename columns in the form 'tfidf.x' b/c that format is easy to display in deepscatter."
   ]
  },
  {
   "cell_type": "code",
   "execution_count": 6,
   "metadata": {},
   "outputs": [],
   "source": [
    "clean = big.append_column(\"x\", big[\"X_bert\"])\\\n",
    "  .append_column(\"y\", pc.multiply(big[\"Y_bert\"], -1))\\\n",
    "  .drop([\"Y_bert\", \"X_bert\"])\\\n",
    "  .append_column(\"tfidf.x\", big[\"X_tfidf\"])\\\n",
    "  .append_column(\"tfidf.y\", pc.multiply(big[\"Y_tfidf\"], -1))\\\n",
    "  .drop([\"Y_tfidf\", \"X_tfidf\"])"
   ]
  },
  {
   "cell_type": "markdown",
   "metadata": {},
   "source": [
    "Change the ordering for display. We're displaying the labeled fields first, randomly shuffled, followed by the unlabeled fields."
   ]
  },
  {
   "cell_type": "code",
   "execution_count": 7,
   "metadata": {},
   "outputs": [],
   "source": [
    "from pyarrow import compute as pc\n",
    "lab = pc.filter(clean, pc.invert(pc.equal(clean['Labels'], \"unlabeled\")))\n",
    "unlab = pc.filter(clean, pc.equal(clean['Labels'], \"unlabeled\"))"
   ]
  },
  {
   "cell_type": "code",
   "execution_count": 8,
   "metadata": {},
   "outputs": [],
   "source": [
    "import numpy as np\n",
    "from numpy import random\n",
    "ix1 = np.arange(0, len(lab))\n",
    "np.random.shuffle(ix1)\n",
    "ix2 = np.arange(0, len(unlab))\n",
    "np.random.shuffle(ix2)\n",
    "lab = lab.take(ix1)\n",
    "unlab = unlab.take(ix2)\n",
    "joint = pa.concat_tables([lab, unlab])"
   ]
  },
  {
   "cell_type": "markdown",
   "metadata": {},
   "source": [
    "Actually write out and run the quadtiling operation to be able to serve through deepscatter."
   ]
  },
  {
   "cell_type": "code",
   "execution_count": 10,
   "metadata": {},
   "outputs": [
    {
     "ename": "",
     "evalue": "",
     "output_type": "error",
     "traceback": [
      "\u001b[1;31mThe Kernel crashed while executing code in the the current cell or a previous cell. Please review the code in the cell(s) to identify a possible cause of the failure. Click <a href='https://aka.ms/vscodeJupyterKernelCrash'>here</a> for more info. View Jupyter <a href='command:jupyter.viewOutput'>log</a> for further details."
     ]
    },
    {
     "ename": "",
     "evalue": "",
     "output_type": "error",
     "traceback": [
      "\u001b[1;31mCanceled future for execute_request message before replies were done"
     ]
    }
   ],
   "source": [
    "parquet.write_table(joint, \"/tmp/big.parquet\")\n"
   ]
  },
  {
   "cell_type": "code",
   "execution_count": 1,
   "metadata": {},
   "outputs": [],
   "source": [
    "import quadfeather as qf\n",
    "qf.main([\"--files\", \"/tmp/big.parquet\", \"--destination\", \"/Users/benschmidt/scrolly_tiles/pubmed\"])"
   ]
  },
  {
   "cell_type": "code",
   "execution_count": null,
   "metadata": {},
   "outputs": [],
   "source": []
  }
 ],
 "metadata": {
  "interpreter": {
   "hash": "f4203a5cb41a9b3ea84e99fe66c07097d8c9544709fbc84b9fa75e017137c69a"
  },
  "kernelspec": {
   "display_name": "Python 3.10.0 ('analytics')",
   "language": "python",
   "name": "python3"
  },
  "language_info": {
   "codemirror_mode": {
    "name": "ipython",
    "version": 3
   },
   "file_extension": ".py",
   "mimetype": "text/x-python",
   "name": "python",
   "nbconvert_exporter": "python",
   "pygments_lexer": "ipython3",
   "version": "3.10.0"
  },
  "orig_nbformat": 4
 },
 "nbformat": 4,
 "nbformat_minor": 2
}
