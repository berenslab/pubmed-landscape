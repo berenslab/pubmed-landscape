{
 "cells": [
  {
   "cell_type": "code",
   "execution_count": 1,
   "id": "348d05c2-5bfa-412d-9fca-5ce90dd1f626",
   "metadata": {},
   "outputs": [],
   "source": [
    "import pandas as pd\n",
    "import numpy as np\n",
    "import scipy as sp\n",
    "from scipy import sparse\n",
    "from scipy.sparse import csr_matrix\n",
    "\n",
    "import time\n",
    "import pickle\n",
    "\n",
    "import memory_profiler\n",
    "%load_ext memory_profiler\n",
    "\n",
    "from pathlib import Path"
   ]
  },
  {
   "cell_type": "code",
   "execution_count": 2,
   "id": "8fe2b05e-13aa-4097-bd0d-845dfe1b817a",
   "metadata": {},
   "outputs": [
    {
     "data": {
      "text/html": [
       "\n",
       "                <script type=\"application/javascript\" id=\"jupyter_black\">\n",
       "                (function() {\n",
       "                    if (window.IPython === undefined) {\n",
       "                        return\n",
       "                    }\n",
       "                    var msg = \"WARNING: it looks like you might have loaded \" +\n",
       "                        \"jupyter_black in a non-lab notebook with \" +\n",
       "                        \"`is_lab=True`. Please double check, and if \" +\n",
       "                        \"loading with `%load_ext` please review the README!\"\n",
       "                    console.log(msg)\n",
       "                    alert(msg)\n",
       "                })()\n",
       "                </script>\n",
       "                "
      ],
      "text/plain": [
       "<IPython.core.display.HTML object>"
      ]
     },
     "metadata": {},
     "output_type": "display_data"
    }
   ],
   "source": [
    "import black\n",
    "import jupyter_black\n",
    "\n",
    "jupyter_black.load(line_length=79)"
   ]
  },
  {
   "cell_type": "code",
   "execution_count": 8,
   "id": "b24b4300-2487-4298-8c08-94d0770e406e",
   "metadata": {},
   "outputs": [
    {
     "name": "stdout",
     "output_type": "stream",
     "text": [
      "The autoreload extension is already loaded. To reload it, use:\n",
      "  %reload_ext autoreload\n"
     ]
    }
   ],
   "source": [
    "%load_ext autoreload\n",
    "%autoreload 2\n",
    "\n",
    "from pubmed_landscape_src.plotting import improved_coloring"
   ]
  },
  {
   "cell_type": "code",
   "execution_count": 7,
   "id": "b5f8a9b8-ab53-4aee-8ad6-36b4a28c265b",
   "metadata": {},
   "outputs": [],
   "source": [
    "variables_path = Path(\"../results/variables\")\n",
    "figures_path = Path(\"../results/figures\")\n",
    "berenslab_data_path = Path(\"/gpfs01/berens/data/data/pubmed_processed\")"
   ]
  },
  {
   "cell_type": "markdown",
   "id": "5ade5cbc-6e1c-46e0-9c48-9aa5880e8b4b",
   "metadata": {},
   "source": [
    "# Import"
   ]
  },
  {
   "cell_type": "code",
   "execution_count": 9,
   "id": "fa27d224-5ab2-4a63-91d1-0c10d51338d5",
   "metadata": {},
   "outputs": [],
   "source": [
    "tsne_reparsed = np.load(variables_path / \"bert/tsne_reparsed.npy\")"
   ]
  },
  {
   "cell_type": "code",
   "execution_count": 10,
   "id": "557a8c7a-e8af-41ab-95de-2b54765aca99",
   "metadata": {},
   "outputs": [],
   "source": [
    "tsne = np.vstack((-tsne_reparsed[:, 0], tsne_reparsed[:, 1])).T"
   ]
  },
  {
   "cell_type": "code",
   "execution_count": 11,
   "id": "a1ab8eda-ebcd-4ffd-b343-2e2fb8815415",
   "metadata": {},
   "outputs": [],
   "source": [
    "mask_covid = np.load(variables_path / \"mask_reparsed_covid.npy\")"
   ]
  },
  {
   "cell_type": "code",
   "execution_count": 12,
   "id": "f16dff0f-f775-45c4-8508-f1c849b46523",
   "metadata": {
    "tags": []
   },
   "outputs": [],
   "source": [
    "mask_covid_2 = np.load(variables_path / \"mask_covid_2.npy\")"
   ]
  },
  {
   "cell_type": "code",
   "execution_count": 13,
   "id": "0a0c729e-5888-4179-809a-00dfcdacbcd4",
   "metadata": {},
   "outputs": [],
   "source": [
    "mask_covid_tfidf_island = np.load(\n",
    "    variables_path / \"mask_covid_tfidf_island.npy\"\n",
    ")"
   ]
  },
  {
   "cell_type": "code",
   "execution_count": 30,
   "id": "7f67f278-52a3-40e2-87c5-0dafb8416177",
   "metadata": {},
   "outputs": [],
   "source": [
    "date_year = np.load(variables_path / \"date_year_reparsed.npy\")"
   ]
  },
  {
   "cell_type": "markdown",
   "id": "c79aa00b-963b-4720-b650-9a9d65595222",
   "metadata": {
    "tags": []
   },
   "source": [
    "# Colors based on title keywords"
   ]
  },
  {
   "cell_type": "markdown",
   "id": "7f44bcf0-2d03-41c0-9e73-dd3810b4429d",
   "metadata": {},
   "source": [
    "## Import"
   ]
  },
  {
   "cell_type": "code",
   "execution_count": 1419,
   "id": "451568ae-b385-402d-b8b8-f3b87dfc4f05",
   "metadata": {},
   "outputs": [],
   "source": [
    "# import clean_df_updated\n",
    "clean_df_updated_reparsed_filtered_with_authors_ISSN = pd.read_pickle(variables_path / \"clean_df_updated_reparsed_filtered_with_authors_ISSN\")"
   ]
  },
  {
   "cell_type": "markdown",
   "id": "9cbfb036-635f-43ee-9353-b6dfe3121549",
   "metadata": {
    "tags": []
   },
   "source": [
    "## Colors"
   ]
  },
  {
   "cell_type": "code",
   "execution_count": 15,
   "id": "a0bad255-c687-4be2-98bb-24593d179c0e",
   "metadata": {},
   "outputs": [],
   "source": [
    "covid_words = [\n",
    "    \"Cancer\",\n",
    "    \"Children\",\n",
    "    \"Treatment\",\n",
    "    \"Mental\",\n",
    "    \"Mortality\",\n",
    "    \"Transmission\",\n",
    "    \"Psychological\",\n",
    "    \"Workers\",\n",
    "    \"Pneumonia\",\n",
    "    \"Pediatric\",\n",
    "    \"Healthcare\",\n",
    "    \"Vaccine\",\n",
    "    \"Outbreak\",\n",
    "    \"Implications\",\n",
    "    \"Strategies\",\n",
    "    \"Clinical\",\n",
    "    \"Epidemic\",\n",
    "    \"Symptoms\",\n",
    "    \"Respiratory\",\n",
    "    \"Therapy\",\n",
    "    \"Surgery\",\n",
    "    \"Population\",\n",
    "    \"Social\",\n",
    "    \"Anxiety\",\n",
    "    \"Students\",\n",
    "    \"Antibody\",\n",
    "    \"Immune\",\n",
    "]\n",
    "covid_colors = [\n",
    "    \"#ffbe00\",\n",
    "    \"#1CE6FF\",\n",
    "    \"#FF34FF\",\n",
    "    \"#FF4A46\",\n",
    "    \"#008941\",\n",
    "    \"#006FA6\",\n",
    "    \"#A30059\",\n",
    "    \"#7A4900\",\n",
    "    \"#0000A6\",\n",
    "    \"#63FFAC\",\n",
    "    \"#B79762\",\n",
    "    \"#004D43\",\n",
    "    \"#5A0007\",\n",
    "    \"#1B4400\",\n",
    "    \"#4FC601\",\n",
    "    \"#3B5DFF\",\n",
    "    \"#4A3B53\",\n",
    "    \"#FF2F80\",\n",
    "    \"#6B7900\",\n",
    "    \"#00C2A0\",\n",
    "    \"#FFAA92\",\n",
    "    \"#FF90C9\",\n",
    "    \"#B903AA\",\n",
    "    \"#D16100\",\n",
    "    \"#7B4F4B\",\n",
    "    \"#0AA6D8\",\n",
    "    \"#00846F\",\n",
    "]"
   ]
  },
  {
   "cell_type": "code",
   "execution_count": 21,
   "id": "877ba0a6-f73e-4ce9-b75d-410864465ae1",
   "metadata": {},
   "outputs": [],
   "source": [
    "covid_legend = dict(zip(covid_words, covid_colors))"
   ]
  },
  {
   "cell_type": "code",
   "execution_count": 66,
   "id": "0fca89ff-cba5-4b5b-894f-99311e08fd8c",
   "metadata": {},
   "outputs": [
    {
     "name": "stdout",
     "output_type": "stream",
     "text": [
      "CPU times: user 12min 12s, sys: 41.1 s, total: 12min 53s\n",
      "Wall time: 12min 53s\n"
     ]
    }
   ],
   "source": [
    "%%time\n",
    "covid_titles = clean_df_updated_reparsed_filtered_with_authors_ISSN['Title'][mask_covid_island]\n",
    "_, covid_colors = improved_coloring(covid_titles, covid_legend)"
   ]
  },
  {
   "cell_type": "code",
   "execution_count": 1424,
   "id": "14de0092-aef6-4ab3-ae5d-1853661177c1",
   "metadata": {},
   "outputs": [],
   "source": [
    "#save results\n",
    "np.save(variables_path / \"covid_colors\", covid_colors)\n",
    "\n",
    "#save results\n",
    "f = open(variables_path / \"covid_legend.pkl\",\"wb\")\n",
    "pickle.dump(covid_legend,f)\n",
    "f.close()"
   ]
  },
  {
   "cell_type": "markdown",
   "id": "0de99b78-ada5-4eb0-aa45-dc9007bdf1c5",
   "metadata": {},
   "source": [
    "# Numbers"
   ]
  },
  {
   "cell_type": "code",
   "execution_count": 33,
   "id": "c0f4a2e8-79a1-45d1-91a9-fc515769be3e",
   "metadata": {},
   "outputs": [
    {
     "name": "stdout",
     "output_type": "stream",
     "text": [
      "Total number of Covid-19 papers: 132802\n",
      "Percentage of Covid-19 papers: 0.6419540632711611\n",
      "Percentage of Covid-19 papers out of papers published in 2020-2022: 5.159451055107391\n"
     ]
    }
   ],
   "source": [
    "print(\"Total number of Covid-19 papers:\", np.sum(mask_covid_2))\n",
    "print(\n",
    "    \"Percentage of Covid-19 papers:\",\n",
    "    np.sum(mask_covid_2) / tsne_reparsed.shape[0] * 100,\n",
    ")\n",
    "\n",
    "print(\n",
    "    \"Percentage of Covid-19 papers out of papers published in 2020-2022:\",\n",
    "    np.sum(mask_covid_2)\n",
    "    / np.sum([(date_year >= 2020) & (date_year <= 2022)])\n",
    "    * 100,\n",
    ")"
   ]
  },
  {
   "cell_type": "code",
   "execution_count": 20,
   "id": "475b006c-9e6a-41c4-a671-001ac8ac6510",
   "metadata": {},
   "outputs": [],
   "source": [
    "# mask island 1\n",
    "tsne = np.vstack((-tsne_reparsed[:, 0], tsne_reparsed[:, 1])).T\n",
    "\n",
    "right = 15\n",
    "left = -15\n",
    "top = -40\n",
    "bottom = -85\n",
    "\n",
    "mask_covid_island = (\n",
    "    mask_covid_2\n",
    "    & (tsne[:, 0] < right)\n",
    "    & (tsne[:, 0] > left)\n",
    "    & (tsne[:, 1] < top)\n",
    "    & (tsne[:, 1] > bottom)\n",
    ")"
   ]
  },
  {
   "cell_type": "code",
   "execution_count": 23,
   "id": "deac50a0-73a3-4bc2-9d73-2c78cb42a6ae",
   "metadata": {},
   "outputs": [
    {
     "name": "stdout",
     "output_type": "stream",
     "text": [
      "Number of Covid-19 papers grouped in the Covid island: 78732\n",
      "Percentage of Covid-19 papers grouped in the Covid island: 59.28525172813662\n"
     ]
    }
   ],
   "source": [
    "print(\n",
    "    \"Number of Covid-19 papers grouped in the Covid island:\",\n",
    "    np.sum(mask_covid_island),\n",
    ")\n",
    "print(\n",
    "    \"Percentage of Covid-19 papers grouped in the Covid island:\",\n",
    "    np.sum(mask_covid_island) / np.sum(mask_covid_2) * 100,\n",
    ")"
   ]
  },
  {
   "cell_type": "code",
   "execution_count": 36,
   "id": "976e79a1-8d41-4998-8138-35abec89c92d",
   "metadata": {},
   "outputs": [],
   "source": [
    "# mask island 1\n",
    "tsne = np.vstack((-tsne_reparsed[:, 0], tsne_reparsed[:, 1])).T\n",
    "\n",
    "right = 15\n",
    "left = -15\n",
    "top = -40\n",
    "bottom = -85\n",
    "\n",
    "mask_island = (\n",
    "    (tsne[:, 0] < right)\n",
    "    & (tsne[:, 0] > left)\n",
    "    & (tsne[:, 1] < top)\n",
    "    & (tsne[:, 1] > bottom)\n",
    ")"
   ]
  },
  {
   "cell_type": "code",
   "execution_count": 39,
   "id": "859b53f5-c9cf-444f-969a-a0253239a25b",
   "metadata": {},
   "outputs": [
    {
     "name": "stdout",
     "output_type": "stream",
     "text": [
      "Number of total papers in the island: 249187\n",
      "Percentage of non-covid papers in the covid island: 68.40445127554808\n"
     ]
    }
   ],
   "source": [
    "print(\"Number of total papers in the island:\", np.sum(mask_island))"
   ]
  },
  {
   "cell_type": "code",
   "execution_count": 45,
   "id": "45016037-b306-4790-9ced-4dbd0b51a045",
   "metadata": {},
   "outputs": [
    {
     "name": "stdout",
     "output_type": "stream",
     "text": [
      "Percentage of unlabeled papers in the covid island: 54.43529949702789\n"
     ]
    }
   ],
   "source": [
    "print(\n",
    "    \"Percentage of unlabeled papers in the covid island:\",\n",
    "    np.sum([covid_colors == \"lightgrey\"]) / covid_colors.shape[0] * 100,\n",
    ")"
   ]
  }
 ],
 "metadata": {
  "kernelspec": {
   "display_name": "Python 3 (ipykernel)",
   "language": "python",
   "name": "python3"
  },
  "language_info": {
   "codemirror_mode": {
    "name": "ipython",
    "version": 3
   },
   "file_extension": ".py",
   "mimetype": "text/x-python",
   "name": "python",
   "nbconvert_exporter": "python",
   "pygments_lexer": "ipython3",
   "version": "3.8.10"
  }
 },
 "nbformat": 4,
 "nbformat_minor": 5
}
