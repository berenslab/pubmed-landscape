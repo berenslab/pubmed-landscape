{
 "cells": [
  {
   "cell_type": "code",
   "execution_count": 1,
   "id": "a4170199-7901-42dd-b434-270b268fc8ee",
   "metadata": {},
   "outputs": [],
   "source": [
    "import pandas as pd\n",
    "import random\n",
    "import numpy as np\n",
    "from random import randint\n",
    "\n",
    "import torch\n",
    "from transformers import AutoTokenizer, AutoModel\n",
    "\n",
    "import time\n",
    "\n",
    "import memory_profiler\n",
    "\n",
    "%load_ext memory_profiler\n",
    "\n",
    "from pathlib import Path"
   ]
  },
  {
   "cell_type": "code",
   "execution_count": 2,
   "id": "8eb75c4d-f7cc-4e24-a9cc-d847c74babba",
   "metadata": {},
   "outputs": [
    {
     "data": {
      "text/html": [
       "\n",
       "                <script type=\"application/javascript\" id=\"jupyter_black\">\n",
       "                (function() {\n",
       "                    if (window.IPython === undefined) {\n",
       "                        return\n",
       "                    }\n",
       "                    var msg = \"WARNING: it looks like you might have loaded \" +\n",
       "                        \"jupyter_black in a non-lab notebook with \" +\n",
       "                        \"`is_lab=True`. Please double check, and if \" +\n",
       "                        \"loading with `%load_ext` please review the README!\"\n",
       "                    console.log(msg)\n",
       "                    alert(msg)\n",
       "                })()\n",
       "                </script>\n",
       "                "
      ],
      "text/plain": [
       "<IPython.core.display.HTML object>"
      ]
     },
     "metadata": {},
     "output_type": "display_data"
    }
   ],
   "source": [
    "import black\n",
    "import jupyter_black\n",
    "\n",
    "jupyter_black.load(line_length=79)"
   ]
  },
  {
   "cell_type": "code",
   "execution_count": 3,
   "id": "ff358df3-e296-443a-80f6-89a2cb36b9aa",
   "metadata": {},
   "outputs": [],
   "source": [
    "%load_ext autoreload\n",
    "%autoreload 2\n",
    "\n",
    "from pubmed_landscape_src.metrics import knn_accuracy_ls\n",
    "from pubmed_landscape_src.data import generate_embeddings"
   ]
  },
  {
   "cell_type": "code",
   "execution_count": 4,
   "id": "8ae35256-d326-4f2b-b5e2-35dd0d79e8f2",
   "metadata": {},
   "outputs": [],
   "source": [
    "variables_path = Path(\"../../results/variables\")\n",
    "figures_path = Path(\"../../results/figures\")\n",
    "berenslab_data_path = Path(\"/gpfs01/berens/data/data/pubmed_processed\")"
   ]
  },
  {
   "cell_type": "markdown",
   "id": "a9c10088-db05-4384-88f4-e037c237d359",
   "metadata": {},
   "source": [
    "# Import"
   ]
  },
  {
   "cell_type": "code",
   "execution_count": 5,
   "id": "7c7bd099-fb29-426c-92f3-3b0b52e5ebe4",
   "metadata": {},
   "outputs": [],
   "source": [
    "# Import\n",
    "df = pd.read_pickle(berenslab_data_path / \"df_labeled_papers_subset\")\n",
    "df = df.reset_index(drop=True)\n",
    "abstracts = df[\"AbstractText\"].tolist()"
   ]
  },
  {
   "cell_type": "markdown",
   "id": "da8cbf54-4b4c-4172-82f0-b1a4e9191a71",
   "metadata": {},
   "source": [
    "# Obtain embeddings"
   ]
  },
  {
   "cell_type": "code",
   "execution_count": 6,
   "id": "0d502b56-13bf-49f3-9e94-ed21b3b460c2",
   "metadata": {
    "tags": []
   },
   "outputs": [],
   "source": [
    "# random seed\n",
    "random_state = random.seed(42)"
   ]
  },
  {
   "cell_type": "code",
   "execution_count": 7,
   "id": "9b12b486-6582-407a-b3d2-723bf20bc97b",
   "metadata": {},
   "outputs": [
    {
     "name": "stdout",
     "output_type": "stream",
     "text": [
      "running on device: cuda\n"
     ]
    }
   ],
   "source": [
    "# specify & check gpu usage\n",
    "device = (\n",
    "    \"cuda\" if torch.cuda.is_available() else \"cpu\"\n",
    ")  # put cuda:0 if else not working\n",
    "print(\"running on device: {}\".format(device))"
   ]
  },
  {
   "cell_type": "code",
   "execution_count": 8,
   "id": "5ed10a80-e70f-4652-9746-6b5fd46253b9",
   "metadata": {},
   "outputs": [
    {
     "name": "stderr",
     "output_type": "stream",
     "text": [
      "Some weights of the model checkpoint at bert-base-uncased were not used when initializing BertModel: ['cls.seq_relationship.weight', 'cls.predictions.transform.dense.weight', 'cls.predictions.transform.dense.bias', 'cls.predictions.transform.LayerNorm.weight', 'cls.predictions.decoder.weight', 'cls.predictions.transform.LayerNorm.bias', 'cls.predictions.bias', 'cls.seq_relationship.bias']\n",
      "- This IS expected if you are initializing BertModel from the checkpoint of a model trained on another task or with another architecture (e.g. initializing a BertForSequenceClassification model from a BertForPreTraining model).\n",
      "- This IS NOT expected if you are initializing BertModel from the checkpoint of a model that you expect to be exactly identical (initializing a BertForSequenceClassification model from a BertForSequenceClassification model).\n"
     ]
    },
    {
     "name": "stdout",
     "output_type": "stream",
     "text": [
      "model: BERT\n"
     ]
    }
   ],
   "source": [
    "# load model and tokenizer\n",
    "tokenizer = AutoTokenizer.from_pretrained(\"bert-base-uncased\")\n",
    "model = AutoModel.from_pretrained(\"bert-base-uncased\")\n",
    "\n",
    "print(\"model: BERT\")"
   ]
  },
  {
   "cell_type": "code",
   "execution_count": 9,
   "id": "d2d6413c-c162-466a-8b7e-bd03c30923e7",
   "metadata": {},
   "outputs": [],
   "source": [
    "# set device\n",
    "model = model.to(device)"
   ]
  },
  {
   "cell_type": "code",
   "execution_count": null,
   "id": "891eb700-1850-406b-be33-125a3ff79a70",
   "metadata": {
    "tags": []
   },
   "outputs": [
    {
     "name": "stderr",
     "output_type": "stream",
     "text": [
      "tcmalloc: large alloc 6144000000 bytes == 0x7f8f2fca0000 @ \n",
      "tcmalloc: large alloc 6144000000 bytes == 0x7f8dc1940000 @ \n",
      "tcmalloc: large alloc 6144000000 bytes == 0x7f8c535e0000 @ \n"
     ]
    }
   ],
   "source": [
    "%%capture cap\n",
    "%%time\n",
    "%%memit\n",
    "\n",
    "embeddings_av = np.empty([len(abstracts), 768])\n",
    "embeddings_sep = np.empty([len(abstracts), 768])\n",
    "embeddings_cls = np.empty([len(abstracts), 768])\n",
    "\n",
    "for i, abstr in enumerate(abstracts):\n",
    "    np.save(variables_path / \"experiment_iter\", i)\n",
    "\n",
    "    embd_cls, embd_sep, embd_av = generate_embeddings(\n",
    "        abstr, tokenizer, model, device\n",
    "    )\n",
    "\n",
    "    embeddings_cls[i] = embd_cls\n",
    "    embeddings_sep[i] = embd_sep\n",
    "    embeddings_av[i] = embd_av\n",
    "\n",
    "    if (i % 50000) == 0:\n",
    "        np.save(\n",
    "            berenslab_data_path\n",
    "            / \"embeddings/embeddings_BERT/embeddings_cls_interm\",\n",
    "            embeddings_cls,\n",
    "        )\n",
    "        np.save(\n",
    "            berenslab_data_path\n",
    "            / \"embeddings/embeddings_BERT/embeddings_sep_interm\",\n",
    "            embeddings_sep,\n",
    "        )\n",
    "        np.save(\n",
    "            berenslab_data_path\n",
    "            / \"embeddings/embeddings_BERT/embeddings_av_interm\",\n",
    "            embeddings_av,\n",
    "        )\n",
    "\n",
    "np.save(\n",
    "    berenslab_data_path / \"embeddings/embeddings_BERT/embeddings_cls\",\n",
    "    embeddings_cls,\n",
    ")\n",
    "np.save(\n",
    "    berenslab_data_path / \"embeddings/embeddings_BERT/embeddings_sep\",\n",
    "    embeddings_sep,\n",
    ")\n",
    "np.save(\n",
    "    berenslab_data_path / \"embeddings/embeddings_BERT/embeddings_av\",\n",
    "    embeddings_av,\n",
    ")"
   ]
  },
  {
   "cell_type": "code",
   "execution_count": null,
   "id": "0c3b600a-7e75-4e51-ab90-3dd1d0aa33ff",
   "metadata": {},
   "outputs": [],
   "source": [
    "with open(variables_path / \"verbose_batches_BERT.txt\", \"w\") as f:\n",
    "    f.write(cap.stdout)"
   ]
  },
  {
   "cell_type": "markdown",
   "id": "df083cca-dc5c-4239-8ea9-6b57d893f919",
   "metadata": {
    "tags": []
   },
   "source": [
    "# kNN accuracies "
   ]
  },
  {
   "cell_type": "code",
   "execution_count": null,
   "id": "c4e6a0fd-8a4b-4c93-b4c7-0fc696e66b94",
   "metadata": {},
   "outputs": [],
   "source": [
    "# Import\n",
    "#df = pd.read_pickle(berenslab_data_path / \"df_labeled_papers_subset\")\n",
    "#df = df.reset_index(drop=True)\n",
    "labels = df[\"Colors\"].tolist()"
   ]
  },
  {
   "cell_type": "markdown",
   "id": "18047381-1434-4cea-90f3-4541f120006f",
   "metadata": {},
   "source": [
    "## CLS"
   ]
  },
  {
   "cell_type": "code",
   "execution_count": null,
   "id": "d489a4cf-36ad-4160-8ade-b8a9c16a699e",
   "metadata": {},
   "outputs": [],
   "source": [
    "#embeddings_cls = np.load(berenslab_data_path / 'embeddings/embeddings_BERT/embeddings_cls.npy', allow_pickle=True, fix_imports=True)"
   ]
  },
  {
   "cell_type": "code",
   "execution_count": 15,
   "id": "48bdeb5e-48dc-4f44-bd4a-57e557b1260e",
   "metadata": {},
   "outputs": [
    {
     "data": {
      "text/plain": [
       "(1000000, 768)"
      ]
     },
     "execution_count": 15,
     "metadata": {},
     "output_type": "execute_result"
    }
   ],
   "source": [
    "embeddings_cls.shape"
   ]
  },
  {
   "cell_type": "code",
   "execution_count": null,
   "id": "e09154e7-c018-4805-84e8-88b0c5a11c4e",
   "metadata": {},
   "outputs": [],
   "source": [
    "%%capture cap\n",
    "%%time\n",
    "knn_accuracy_BERT_cls = knn_accuracy_ls(embeddings_cls, labels)"
   ]
  },
  {
   "cell_type": "code",
   "execution_count": null,
   "id": "da23894b-643d-4f4e-9e1e-f716cb16dff6",
   "metadata": {},
   "outputs": [],
   "source": [
    "with open(variables_path / \"verbose_knn_accuracy_BERT_cls.txt\", \"w\") as f:\n",
    "    f.write(cap.stdout)"
   ]
  },
  {
   "cell_type": "code",
   "execution_count": 27,
   "id": "e40be006-f2fb-46f0-b455-35ff5770897f",
   "metadata": {},
   "outputs": [
    {
     "name": "stdout",
     "output_type": "stream",
     "text": [
      "0.5038\n"
     ]
    }
   ],
   "source": [
    "print(knn_accuracy_BERT_cls)"
   ]
  },
  {
   "cell_type": "code",
   "execution_count": null,
   "id": "923b570f-27e1-473e-9142-1e6b9006ba55",
   "metadata": {},
   "outputs": [],
   "source": [
    "np.save(variables_path / \"knn_accuracy_BERT_cls\", knn_accuracy_BERT_cls)"
   ]
  },
  {
   "cell_type": "markdown",
   "id": "c87c9c0c-aa1b-4769-a197-1e99e2f074cc",
   "metadata": {},
   "source": [
    "## SEP"
   ]
  },
  {
   "cell_type": "code",
   "execution_count": null,
   "id": "d412f1bf-ea85-4763-9661-459d16369bd0",
   "metadata": {},
   "outputs": [],
   "source": [
    "#embeddings_sep = np.load(berenslab_data_path / 'embeddings/embeddings_BERT/embeddings_sep.npy', allow_pickle=True, fix_imports=True)"
   ]
  },
  {
   "cell_type": "code",
   "execution_count": 35,
   "id": "dadc1c52-31a2-482b-91a4-af4fdf1f5952",
   "metadata": {},
   "outputs": [
    {
     "data": {
      "text/plain": [
       "(1000000, 768)"
      ]
     },
     "execution_count": 35,
     "metadata": {},
     "output_type": "execute_result"
    }
   ],
   "source": [
    "embeddings_sep.shape"
   ]
  },
  {
   "cell_type": "code",
   "execution_count": null,
   "id": "45c9f55f-5714-4ec0-bb4b-9978981c40ad",
   "metadata": {},
   "outputs": [],
   "source": [
    "%%capture cap\n",
    "%%time\n",
    "knn_accuracy_BERT_sep = knn_accuracy_ls(embeddings_sep, labels)"
   ]
  },
  {
   "cell_type": "code",
   "execution_count": null,
   "id": "77a0610b-36e7-4da0-8a4d-7fbcae38ecbc",
   "metadata": {},
   "outputs": [],
   "source": [
    "with open(variables_path / \"verbose_knn_accuracy_BERT_sep.txt\", \"w\") as f:\n",
    "    f.write(cap.stdout)"
   ]
  },
  {
   "cell_type": "code",
   "execution_count": 26,
   "id": "53c01482-9a7d-49be-b89e-532d83f26674",
   "metadata": {},
   "outputs": [
    {
     "name": "stdout",
     "output_type": "stream",
     "text": [
      "0.5338\n"
     ]
    }
   ],
   "source": [
    "print(knn_accuracy_BERT_sep)"
   ]
  },
  {
   "cell_type": "code",
   "execution_count": null,
   "id": "e789a29c-b3b9-445c-990d-0155d7e9c047",
   "metadata": {},
   "outputs": [],
   "source": [
    "np.save(variables_path / \"knn_accuracy_BERT_sep\", knn_accuracy_BERT_sep)"
   ]
  },
  {
   "cell_type": "markdown",
   "id": "4c11aa31-b3b8-4592-94b2-d966d3ff8ccb",
   "metadata": {},
   "source": [
    "## Average"
   ]
  },
  {
   "cell_type": "code",
   "execution_count": null,
   "id": "bf4c56ae-2a81-4355-b8f3-8c65648b3d6c",
   "metadata": {},
   "outputs": [],
   "source": [
    "#embeddings_av = np.load(berenslab_data_path / 'embeddings/embeddings_BERT/embeddings_av.npy', allow_pickle=True, fix_imports=True)"
   ]
  },
  {
   "cell_type": "code",
   "execution_count": 39,
   "id": "d05556e8-7fb0-444c-9ae8-e3658adc27d9",
   "metadata": {},
   "outputs": [
    {
     "data": {
      "text/plain": [
       "(1000000, 768)"
      ]
     },
     "execution_count": 39,
     "metadata": {},
     "output_type": "execute_result"
    }
   ],
   "source": [
    "embeddings_av.shape"
   ]
  },
  {
   "cell_type": "code",
   "execution_count": null,
   "id": "edd6de6a-9495-45b2-ab0d-65e3e7bd4008",
   "metadata": {},
   "outputs": [],
   "source": [
    "%%capture cap\n",
    "%%time\n",
    "knn_accuracy_BERT_av = knn_accuracy_ls(embeddings_av, labels)"
   ]
  },
  {
   "cell_type": "code",
   "execution_count": null,
   "id": "2373ade8-22db-4e4e-889c-1e7095a96461",
   "metadata": {},
   "outputs": [],
   "source": [
    "with open(variables_path / \"verbose_knn_accuracy_BERT_av.txt\", \"w\") as f:\n",
    "    f.write(cap.stdout)"
   ]
  },
  {
   "cell_type": "code",
   "execution_count": 25,
   "id": "1d46ebfc-9cf3-4e30-b19d-594e7a3c6192",
   "metadata": {},
   "outputs": [
    {
     "name": "stdout",
     "output_type": "stream",
     "text": [
      "0.5709\n"
     ]
    }
   ],
   "source": [
    "print(knn_accuracy_BERT_av)"
   ]
  },
  {
   "cell_type": "code",
   "execution_count": null,
   "id": "b2342c8f-c404-4ea0-9a77-d058b5f84818",
   "metadata": {},
   "outputs": [],
   "source": [
    "np.save(variables_path / \"knn_accuracy_BERT_av\", knn_accuracy_BERT_av)"
   ]
  }
 ],
 "metadata": {
  "kernelspec": {
   "display_name": "Python 3 (ipykernel)",
   "language": "python",
   "name": "python3"
  },
  "language_info": {
   "codemirror_mode": {
    "name": "ipython",
    "version": 3
   },
   "file_extension": ".py",
   "mimetype": "text/x-python",
   "name": "python",
   "nbconvert_exporter": "python",
   "pygments_lexer": "ipython3",
   "version": "3.8.10"
  }
 },
 "nbformat": 4,
 "nbformat_minor": 5
}
