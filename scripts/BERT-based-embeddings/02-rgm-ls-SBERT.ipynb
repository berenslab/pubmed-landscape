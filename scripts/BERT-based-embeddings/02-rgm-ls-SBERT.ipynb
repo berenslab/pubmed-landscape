{
 "cells": [
  {
   "cell_type": "code",
   "execution_count": 2,
   "id": "a4170199-7901-42dd-b434-270b268fc8ee",
   "metadata": {},
   "outputs": [],
   "source": [
    "import pandas as pd\n",
    "import random\n",
    "import numpy as np\n",
    "from random import randint\n",
    "\n",
    "import torch\n",
    "from transformers import AutoTokenizer, AutoModel\n",
    "\n",
    "import time\n",
    "\n",
    "import memory_profiler\n",
    "\n",
    "%load_ext memory_profiler\n",
    "\n",
    "from pathlib import Path"
   ]
  },
  {
   "cell_type": "code",
   "execution_count": 3,
   "id": "8eb75c4d-f7cc-4e24-a9cc-d847c74babba",
   "metadata": {},
   "outputs": [
    {
     "data": {
      "text/html": [
       "\n",
       "                <script type=\"application/javascript\" id=\"jupyter_black\">\n",
       "                (function() {\n",
       "                    if (window.IPython === undefined) {\n",
       "                        return\n",
       "                    }\n",
       "                    var msg = \"WARNING: it looks like you might have loaded \" +\n",
       "                        \"jupyter_black in a non-lab notebook with \" +\n",
       "                        \"`is_lab=True`. Please double check, and if \" +\n",
       "                        \"loading with `%load_ext` please review the README!\"\n",
       "                    console.log(msg)\n",
       "                    alert(msg)\n",
       "                })()\n",
       "                </script>\n",
       "                "
      ],
      "text/plain": [
       "<IPython.core.display.HTML object>"
      ]
     },
     "metadata": {},
     "output_type": "display_data"
    }
   ],
   "source": [
    "import black\n",
    "import jupyter_black\n",
    "\n",
    "jupyter_black.load(line_length=79)"
   ]
  },
  {
   "cell_type": "code",
   "execution_count": 4,
   "id": "ff358df3-e296-443a-80f6-89a2cb36b9aa",
   "metadata": {},
   "outputs": [],
   "source": [
    "%load_ext autoreload\n",
    "%autoreload 2\n",
    "\n",
    "from pubmed_landscape_src.metrics import knn_accuracy_ls\n",
    "from pubmed_landscape_src.data import generate_embeddings"
   ]
  },
  {
   "cell_type": "code",
   "execution_count": 5,
   "id": "8ae35256-d326-4f2b-b5e2-35dd0d79e8f2",
   "metadata": {},
   "outputs": [],
   "source": [
    "variables_path = Path(\"../../results/variables\")\n",
    "figures_path = Path(\"../../results/figures\")\n",
    "berenslab_data_path = Path(\"/gpfs01/berens/data/data/pubmed_processed\")"
   ]
  },
  {
   "cell_type": "markdown",
   "id": "a9c10088-db05-4384-88f4-e037c237d359",
   "metadata": {},
   "source": [
    "# Import"
   ]
  },
  {
   "cell_type": "code",
   "execution_count": 5,
   "id": "7c7bd099-fb29-426c-92f3-3b0b52e5ebe4",
   "metadata": {},
   "outputs": [],
   "source": [
    "# Import\n",
    "df = pd.read_pickle(berenslab_data_path / \"df_labeled_papers_subset\")\n",
    "df = df.reset_index(drop=True)\n",
    "abstracts = df[\"AbstractText\"].tolist()"
   ]
  },
  {
   "cell_type": "markdown",
   "id": "da8cbf54-4b4c-4172-82f0-b1a4e9191a71",
   "metadata": {},
   "source": [
    "# Obtain embeddings"
   ]
  },
  {
   "cell_type": "code",
   "execution_count": 6,
   "id": "0d502b56-13bf-49f3-9e94-ed21b3b460c2",
   "metadata": {
    "tags": []
   },
   "outputs": [],
   "source": [
    "# random seed\n",
    "random_state = random.seed(42)"
   ]
  },
  {
   "cell_type": "code",
   "execution_count": 7,
   "id": "9b12b486-6582-407a-b3d2-723bf20bc97b",
   "metadata": {},
   "outputs": [
    {
     "name": "stdout",
     "output_type": "stream",
     "text": [
      "running on device: cuda\n"
     ]
    }
   ],
   "source": [
    "# specify & check gpu usage\n",
    "device = (\n",
    "    \"cuda\" if torch.cuda.is_available() else \"cpu\"\n",
    ")  # put cuda:0 if else not working\n",
    "print(\"running on device: {}\".format(device))"
   ]
  },
  {
   "cell_type": "code",
   "execution_count": 8,
   "id": "5ed10a80-e70f-4652-9746-6b5fd46253b9",
   "metadata": {},
   "outputs": [
    {
     "data": {
      "application/vnd.jupyter.widget-view+json": {
       "model_id": "5b6268ca614f4096990edcf4e01e5439",
       "version_major": 2,
       "version_minor": 0
      },
      "text/plain": [
       "Downloading:   0%|          | 0.00/363 [00:00<?, ?B/s]"
      ]
     },
     "metadata": {},
     "output_type": "display_data"
    },
    {
     "data": {
      "application/vnd.jupyter.widget-view+json": {
       "model_id": "dbf4e52d2a234e14ab52154c0dc56519",
       "version_major": 2,
       "version_minor": 0
      },
      "text/plain": [
       "Downloading:   0%|          | 0.00/226k [00:00<?, ?B/s]"
      ]
     },
     "metadata": {},
     "output_type": "display_data"
    },
    {
     "data": {
      "application/vnd.jupyter.widget-view+json": {
       "model_id": "b3d8cb0a901b424dad84da6923937a62",
       "version_major": 2,
       "version_minor": 0
      },
      "text/plain": [
       "Downloading:   0%|          | 0.00/455k [00:00<?, ?B/s]"
      ]
     },
     "metadata": {},
     "output_type": "display_data"
    },
    {
     "data": {
      "application/vnd.jupyter.widget-view+json": {
       "model_id": "71bdec9e76c54264981ff004634beeb6",
       "version_major": 2,
       "version_minor": 0
      },
      "text/plain": [
       "Downloading:   0%|          | 0.00/239 [00:00<?, ?B/s]"
      ]
     },
     "metadata": {},
     "output_type": "display_data"
    },
    {
     "data": {
      "application/vnd.jupyter.widget-view+json": {
       "model_id": "bc3d50622c894ab6a551f889787eaf6a",
       "version_major": 2,
       "version_minor": 0
      },
      "text/plain": [
       "Downloading:   0%|          | 0.00/571 [00:00<?, ?B/s]"
      ]
     },
     "metadata": {},
     "output_type": "display_data"
    },
    {
     "data": {
      "application/vnd.jupyter.widget-view+json": {
       "model_id": "5716972542f440589c1b243d2de0c7bd",
       "version_major": 2,
       "version_minor": 0
      },
      "text/plain": [
       "Downloading:   0%|          | 0.00/418M [00:00<?, ?B/s]"
      ]
     },
     "metadata": {},
     "output_type": "display_data"
    },
    {
     "name": "stdout",
     "output_type": "stream",
     "text": [
      "model: SBERT\n"
     ]
    }
   ],
   "source": [
    "# load model and tokenizer\n",
    "tokenizer = AutoTokenizer.from_pretrained(\n",
    "    \"sentence-transformers/all-mpnet-base-v2\"\n",
    ")\n",
    "model = AutoModel.from_pretrained(\"sentence-transformers/all-mpnet-base-v2\")\n",
    "\n",
    "print(\"model: SBERT\")"
   ]
  },
  {
   "cell_type": "code",
   "execution_count": 9,
   "id": "d2d6413c-c162-466a-8b7e-bd03c30923e7",
   "metadata": {},
   "outputs": [],
   "source": [
    "# set device\n",
    "model = model.to(device)"
   ]
  },
  {
   "cell_type": "code",
   "execution_count": null,
   "id": "891eb700-1850-406b-be33-125a3ff79a70",
   "metadata": {
    "tags": []
   },
   "outputs": [
    {
     "name": "stderr",
     "output_type": "stream",
     "text": [
      "tcmalloc: large alloc 6144000000 bytes == 0x7fc1a5ca0000 @ \n",
      "tcmalloc: large alloc 6144000000 bytes == 0x7fc037940000 @ \n",
      "tcmalloc: large alloc 6144000000 bytes == 0x7fbec95e0000 @ \n"
     ]
    }
   ],
   "source": [
    "%%capture cap\n",
    "%%time\n",
    "%%memit\n",
    "\n",
    "embeddings_av = np.empty([len(abstracts), 768])\n",
    "embeddings_sep = np.empty([len(abstracts), 768])\n",
    "embeddings_cls = np.empty([len(abstracts), 768])\n",
    "\n",
    "for i, abstr in enumerate(abstracts):\n",
    "    np.save(variables_path / \"experiment_iter\", i)\n",
    "\n",
    "    embd_cls, embd_sep, embd_av = generate_embeddings(\n",
    "        abstr, tokenizer, model, device\n",
    "    )\n",
    "\n",
    "    embeddings_cls[i] = embd_cls\n",
    "    embeddings_sep[i] = embd_sep\n",
    "    embeddings_av[i] = embd_av\n",
    "\n",
    "    if (i % 50000) == 0:\n",
    "        np.save(\n",
    "            berenslab_data_path\n",
    "            / \"embeddings/embeddings_SBERT/embeddings_cls_interm\",\n",
    "            embeddings_cls,\n",
    "        )\n",
    "        np.save(\n",
    "            berenslab_data_path\n",
    "            / \"embeddings/embeddings_SBERT/embeddings_sep_interm\",\n",
    "            embeddings_sep,\n",
    "        )\n",
    "        np.save(\n",
    "            berenslab_data_path\n",
    "            / \"embeddings/embeddings_SBERT/embeddings_av_interm\",\n",
    "            embeddings_av,\n",
    "        )\n",
    "\n",
    "np.save(\n",
    "    berenslab_data_path / \"embeddings/embeddings_SBERT/embeddings_cls\",\n",
    "    embeddings_cls,\n",
    ")\n",
    "np.save(\n",
    "    berenslab_data_path / \"embeddings/embeddings_SBERT/embeddings_sep\",\n",
    "    embeddings_sep,\n",
    ")\n",
    "np.save(\n",
    "    berenslab_data_path / \"embeddings/embeddings_SBERT/embeddings_av\",\n",
    "    embeddings_av,\n",
    ")"
   ]
  },
  {
   "cell_type": "code",
   "execution_count": null,
   "id": "0c3b600a-7e75-4e51-ab90-3dd1d0aa33ff",
   "metadata": {},
   "outputs": [],
   "source": [
    "with open(variables_path / \"verbose_batches_SBERT.txt\", \"w\") as f:\n",
    "    f.write(cap.stdout)"
   ]
  },
  {
   "cell_type": "markdown",
   "id": "df083cca-dc5c-4239-8ea9-6b57d893f919",
   "metadata": {
    "tags": []
   },
   "source": [
    "# kNN accuracies (RERUN)"
   ]
  },
  {
   "cell_type": "code",
   "execution_count": 27,
   "id": "c4e6a0fd-8a4b-4c93-b4c7-0fc696e66b94",
   "metadata": {},
   "outputs": [],
   "source": [
    "# Import\n",
    "df = pd.read_pickle(berenslab_data_path / \"df_labeled_papers_subset\")\n",
    "df = df.reset_index(drop=True)\n",
    "labels = df[\"Colors\"].tolist()"
   ]
  },
  {
   "cell_type": "markdown",
   "id": "18047381-1434-4cea-90f3-4541f120006f",
   "metadata": {},
   "source": [
    "## CLS"
   ]
  },
  {
   "cell_type": "code",
   "execution_count": null,
   "id": "d489a4cf-36ad-4160-8ade-b8a9c16a699e",
   "metadata": {},
   "outputs": [],
   "source": [
    "embeddings_cls = np.load(berenslab_data_path / 'embeddings/embeddings_SBERT/embeddings_cls.npy', allow_pickle=True, fix_imports=True)"
   ]
  },
  {
   "cell_type": "code",
   "execution_count": 15,
   "id": "48bdeb5e-48dc-4f44-bd4a-57e557b1260e",
   "metadata": {},
   "outputs": [
    {
     "data": {
      "text/plain": [
       "(1000000, 768)"
      ]
     },
     "execution_count": 15,
     "metadata": {},
     "output_type": "execute_result"
    }
   ],
   "source": [
    "embeddings_cls.shape"
   ]
  },
  {
   "cell_type": "code",
   "execution_count": null,
   "id": "e09154e7-c018-4805-84e8-88b0c5a11c4e",
   "metadata": {},
   "outputs": [],
   "source": [
    "%%capture cap\n",
    "%%time\n",
    "knn_accuracy_SBERT_cls = knn_accuracy_ls(embeddings_cls, labels)"
   ]
  },
  {
   "cell_type": "code",
   "execution_count": null,
   "id": "da23894b-643d-4f4e-9e1e-f716cb16dff6",
   "metadata": {},
   "outputs": [],
   "source": [
    "with open(variables_path / \"verbose_knn_accuracy_SBERT_cls.txt\", \"w\") as f:\n",
    "    f.write(cap.stdout)"
   ]
  },
  {
   "cell_type": "code",
   "execution_count": 25,
   "id": "e40be006-f2fb-46f0-b455-35ff5770897f",
   "metadata": {},
   "outputs": [
    {
     "name": "stdout",
     "output_type": "stream",
     "text": [
      "0.6074\n"
     ]
    }
   ],
   "source": [
    "print(knn_accuracy_SBERT_cls)"
   ]
  },
  {
   "cell_type": "code",
   "execution_count": null,
   "id": "923b570f-27e1-473e-9142-1e6b9006ba55",
   "metadata": {},
   "outputs": [],
   "source": [
    "np.save(variables_path / \"knn_accuracy_SBERT_cls\", knn_accuracy_SBERT_cls)"
   ]
  },
  {
   "cell_type": "markdown",
   "id": "c87c9c0c-aa1b-4769-a197-1e99e2f074cc",
   "metadata": {},
   "source": [
    "## SEP"
   ]
  },
  {
   "cell_type": "code",
   "execution_count": null,
   "id": "d412f1bf-ea85-4763-9661-459d16369bd0",
   "metadata": {},
   "outputs": [],
   "source": [
    "embeddings_sep = np.load(berenslab_data_path / 'embeddings/embeddings_SBERT/embeddings_sep.npy', allow_pickle=True, fix_imports=True)"
   ]
  },
  {
   "cell_type": "code",
   "execution_count": 35,
   "id": "dadc1c52-31a2-482b-91a4-af4fdf1f5952",
   "metadata": {},
   "outputs": [
    {
     "data": {
      "text/plain": [
       "(1000000, 768)"
      ]
     },
     "execution_count": 35,
     "metadata": {},
     "output_type": "execute_result"
    }
   ],
   "source": [
    "embeddings_sep.shape"
   ]
  },
  {
   "cell_type": "code",
   "execution_count": null,
   "id": "45c9f55f-5714-4ec0-bb4b-9978981c40ad",
   "metadata": {},
   "outputs": [],
   "source": [
    "%%capture cap\n",
    "%%time\n",
    "knn_accuracy_SBERT_sep = knn_accuracy_ls(embeddings_sep, labels)"
   ]
  },
  {
   "cell_type": "code",
   "execution_count": null,
   "id": "77a0610b-36e7-4da0-8a4d-7fbcae38ecbc",
   "metadata": {},
   "outputs": [],
   "source": [
    "with open(variables_path / \"verbose_knn_accuracy_SBERT_sep.txt\", \"w\") as f:\n",
    "    f.write(cap.stdout)"
   ]
  },
  {
   "cell_type": "code",
   "execution_count": 26,
   "id": "53c01482-9a7d-49be-b89e-532d83f26674",
   "metadata": {},
   "outputs": [
    {
     "name": "stdout",
     "output_type": "stream",
     "text": [
      "0.6215\n"
     ]
    }
   ],
   "source": [
    "print(knn_accuracy_SBERT_sep)"
   ]
  },
  {
   "cell_type": "code",
   "execution_count": null,
   "id": "e789a29c-b3b9-445c-990d-0155d7e9c047",
   "metadata": {},
   "outputs": [],
   "source": [
    "np.save(variables_path / \"knn_accuracy_SBERT_sep\", knn_accuracy_SBERT_sep)"
   ]
  },
  {
   "cell_type": "markdown",
   "id": "4c11aa31-b3b8-4592-94b2-d966d3ff8ccb",
   "metadata": {},
   "source": [
    "## Average"
   ]
  },
  {
   "cell_type": "code",
   "execution_count": null,
   "id": "bf4c56ae-2a81-4355-b8f3-8c65648b3d6c",
   "metadata": {},
   "outputs": [],
   "source": [
    "embeddings_av = np.load(berenslab_data_path / 'embeddings/embeddings_SBERT/embeddings_av.npy', allow_pickle=True, fix_imports=True)"
   ]
  },
  {
   "cell_type": "code",
   "execution_count": 39,
   "id": "d05556e8-7fb0-444c-9ae8-e3658adc27d9",
   "metadata": {},
   "outputs": [
    {
     "data": {
      "text/plain": [
       "(1000000, 768)"
      ]
     },
     "execution_count": 39,
     "metadata": {},
     "output_type": "execute_result"
    }
   ],
   "source": [
    "embeddings_av.shape"
   ]
  },
  {
   "cell_type": "code",
   "execution_count": null,
   "id": "edd6de6a-9495-45b2-ab0d-65e3e7bd4008",
   "metadata": {},
   "outputs": [],
   "source": [
    "%%capture cap\n",
    "%%time\n",
    "knn_accuracy_SBERT_av = knn_accuracy_ls(embeddings_av, labels)"
   ]
  },
  {
   "cell_type": "code",
   "execution_count": null,
   "id": "2373ade8-22db-4e4e-889c-1e7095a96461",
   "metadata": {},
   "outputs": [],
   "source": [
    "with open(variables_path / \"verbose_knn_accuracy_SBERT_av.txt\", \"w\") as f:\n",
    "    f.write(cap.stdout)"
   ]
  },
  {
   "cell_type": "code",
   "execution_count": 34,
   "id": "1d46ebfc-9cf3-4e30-b19d-594e7a3c6192",
   "metadata": {},
   "outputs": [
    {
     "name": "stdout",
     "output_type": "stream",
     "text": [
      "0.6447\n"
     ]
    }
   ],
   "source": [
    "print(knn_accuracy_SBERT_av)"
   ]
  },
  {
   "cell_type": "code",
   "execution_count": null,
   "id": "b2342c8f-c404-4ea0-9a77-d058b5f84818",
   "metadata": {},
   "outputs": [],
   "source": [
    "np.save(variables_path / \"knn_accuracy_SBERT_av\", knn_accuracy_SBERT_av)"
   ]
  },
  {
   "cell_type": "markdown",
   "id": "8e065ecf-330f-435b-a16c-f83cf0fdfb22",
   "metadata": {},
   "source": [
    "## Normalized average"
   ]
  },
  {
   "cell_type": "code",
   "execution_count": 7,
   "id": "1a8f86da-441b-4267-ba43-48c11e1644eb",
   "metadata": {},
   "outputs": [
    {
     "name": "stderr",
     "output_type": "stream",
     "text": [
      "tcmalloc: large alloc 6144000000 bytes == 0xaeae000 @ \n"
     ]
    }
   ],
   "source": [
    "embeddings_av = np.load(\n",
    "    berenslab_data_path / \"embeddings/embeddings_SBERT/embeddings_av.npy\",\n",
    "    allow_pickle=True,\n",
    "    fix_imports=True,\n",
    ")"
   ]
  },
  {
   "cell_type": "code",
   "execution_count": 28,
   "id": "47ea0db3-0350-4da5-b942-b2faa7bba655",
   "metadata": {},
   "outputs": [
    {
     "data": {
      "text/plain": [
       "(1000000, 768)"
      ]
     },
     "execution_count": 28,
     "metadata": {},
     "output_type": "execute_result"
    }
   ],
   "source": [
    "embeddings_av.shape"
   ]
  },
  {
   "cell_type": "code",
   "execution_count": 29,
   "id": "f759bf2a-b866-4252-9af0-63e8a1284493",
   "metadata": {},
   "outputs": [
    {
     "name": "stderr",
     "output_type": "stream",
     "text": [
      "tcmalloc: large alloc 6144000000 bytes == 0x7fbd1bb8c000 @ \n",
      "tcmalloc: large alloc 6082560000 bytes == 0x7fbaeceba000 @ \n"
     ]
    }
   ],
   "source": [
    "%%time\n",
    "knn_accuracy_SBERT_av_norm = knn_accuracy_ls(\n",
    "    embeddings_av / np.linalg.norm(embeddings_av), labels\n",
    ")"
   ]
  },
  {
   "cell_type": "code",
   "execution_count": 30,
   "id": "c0194daa-036e-4411-935a-d2c357396348",
   "metadata": {},
   "outputs": [],
   "source": [
    "with open(variables_path / \"verbose_knn_accuracy_SBERT_av_norm.txt\", \"w\") as f:\n",
    "    f.write(cap.stdout)"
   ]
  },
  {
   "cell_type": "code",
   "execution_count": 33,
   "id": "fa28275b-1892-4923-aba4-d3b97cba0b1d",
   "metadata": {},
   "outputs": [
    {
     "name": "stdout",
     "output_type": "stream",
     "text": [
      "0.6447\n"
     ]
    }
   ],
   "source": [
    "print(knn_accuracy_SBERT_av_norm)"
   ]
  },
  {
   "cell_type": "code",
   "execution_count": 32,
   "id": "eea1c12c-d1df-444d-b5d5-c750b1ac1805",
   "metadata": {},
   "outputs": [],
   "source": [
    "np.save(\n",
    "    variables_path / \"knn_accuracy_SBERT_av_norm\", knn_accuracy_SBERT_av_norm\n",
    ")"
   ]
  },
  {
   "cell_type": "code",
   "execution_count": 16,
   "id": "01c80365-a124-4de0-a1d1-d4c24025d4f1",
   "metadata": {},
   "outputs": [
    {
     "name": "stderr",
     "output_type": "stream",
     "text": [
      "tcmalloc: large alloc 6144000000 bytes == 0x2e7f9e000 @ \n",
      "tcmalloc: large alloc 6144000000 bytes == 0x2e7f9e000 @ \n"
     ]
    }
   ],
   "source": [
    "embeddings_av_norm = embeddings_av / np.linalg.norm(\n",
    "    embeddings_av, axis=1\n",
    ").reshape(-1, 1)"
   ]
  },
  {
   "cell_type": "code",
   "execution_count": 17,
   "id": "432e6342-fcb8-4592-a81e-435418cb052b",
   "metadata": {},
   "outputs": [
    {
     "data": {
      "text/plain": [
       "(1000000, 768)"
      ]
     },
     "execution_count": 17,
     "metadata": {},
     "output_type": "execute_result"
    }
   ],
   "source": [
    "embeddings_av_norm.shape"
   ]
  },
  {
   "cell_type": "code",
   "execution_count": 10,
   "id": "c3181108-f4bb-46cc-919d-9d7f3e50bd15",
   "metadata": {},
   "outputs": [
    {
     "name": "stdout",
     "output_type": "stream",
     "text": [
      "[ 3.55270926e-05 -1.01416438e-04 -7.74966664e-07 -8.23686478e-06\n",
      " -7.06524465e-05]\n",
      "[ 0.08264855 -0.2359304  -0.00180285 -0.01916185 -0.16436251]\n"
     ]
    }
   ],
   "source": [
    "print(embeddings_av_norm[0, :5])\n",
    "print(embeddings_av[0, :5])"
   ]
  },
  {
   "cell_type": "code",
   "execution_count": 28,
   "id": "f29fc4d1-84e1-4050-b960-445e6f349caa",
   "metadata": {},
   "outputs": [
    {
     "name": "stderr",
     "output_type": "stream",
     "text": [
      "tcmalloc: large alloc 6082560000 bytes == 0x4589e4000 @ \n"
     ]
    },
    {
     "name": "stdout",
     "output_type": "stream",
     "text": [
      "CPU times: user 1h 12min 21s, sys: 54min 34s, total: 2h 6min 55s\n",
      "Wall time: 7min 24s\n"
     ]
    }
   ],
   "source": [
    "%%time\n",
    "knn_accuracy_SBERT_av_norm_2 = knn_accuracy_ls(embeddings_av_norm, labels)"
   ]
  },
  {
   "cell_type": "code",
   "execution_count": 30,
   "id": "a367f549-631f-43b2-9b43-a7f104957fcf",
   "metadata": {},
   "outputs": [
    {
     "data": {
      "text/plain": [
       "0.6442"
      ]
     },
     "execution_count": 30,
     "metadata": {},
     "output_type": "execute_result"
    }
   ],
   "source": [
    "knn_accuracy_SBERT_av_norm_2"
   ]
  },
  {
   "cell_type": "code",
   "execution_count": 23,
   "id": "54b1b2cb-09e1-4891-b911-73dcc4ad1628",
   "metadata": {},
   "outputs": [
    {
     "name": "stdout",
     "output_type": "stream",
     "text": [
      "(768,)\n",
      "1.0\n",
      "2.083858197235886\n"
     ]
    }
   ],
   "source": [
    "print(embeddings_av_norm[0].shape)\n",
    "print(np.linalg.norm(embeddings_av_norm[0]))\n",
    "print(np.linalg.norm(embeddings_av[0]))"
   ]
  },
  {
   "cell_type": "code",
   "execution_count": 20,
   "id": "65cfaa8c-fe79-4566-adf6-9433533033c9",
   "metadata": {},
   "outputs": [
    {
     "name": "stderr",
     "output_type": "stream",
     "text": [
      "tcmalloc: large alloc 6144000000 bytes == 0x17943e000 @ \n"
     ]
    },
    {
     "data": {
      "text/plain": [
       "(1000000, 1)"
      ]
     },
     "execution_count": 20,
     "metadata": {},
     "output_type": "execute_result"
    }
   ],
   "source": [
    "np.linalg.norm(embeddings_av, axis=1).reshape(-1, 1).shape"
   ]
  },
  {
   "cell_type": "code",
   "execution_count": 12,
   "id": "83e55c49-2e26-42e0-94fa-ee20cddcad2b",
   "metadata": {},
   "outputs": [
    {
     "data": {
      "text/plain": [
       "\u001b[0;31mSignature:\u001b[0m \u001b[0mnp\u001b[0m\u001b[0;34m.\u001b[0m\u001b[0mlinalg\u001b[0m\u001b[0;34m.\u001b[0m\u001b[0mnorm\u001b[0m\u001b[0;34m(\u001b[0m\u001b[0mx\u001b[0m\u001b[0;34m,\u001b[0m \u001b[0mord\u001b[0m\u001b[0;34m=\u001b[0m\u001b[0;32mNone\u001b[0m\u001b[0;34m,\u001b[0m \u001b[0maxis\u001b[0m\u001b[0;34m=\u001b[0m\u001b[0;32mNone\u001b[0m\u001b[0;34m,\u001b[0m \u001b[0mkeepdims\u001b[0m\u001b[0;34m=\u001b[0m\u001b[0;32mFalse\u001b[0m\u001b[0;34m)\u001b[0m\u001b[0;34m\u001b[0m\u001b[0;34m\u001b[0m\u001b[0m\n",
       "\u001b[0;31mDocstring:\u001b[0m\n",
       "Matrix or vector norm.\n",
       "\n",
       "This function is able to return one of eight different matrix norms,\n",
       "or one of an infinite number of vector norms (described below), depending\n",
       "on the value of the ``ord`` parameter.\n",
       "\n",
       "Parameters\n",
       "----------\n",
       "x : array_like\n",
       "    Input array.  If `axis` is None, `x` must be 1-D or 2-D, unless `ord`\n",
       "    is None. If both `axis` and `ord` are None, the 2-norm of\n",
       "    ``x.ravel`` will be returned.\n",
       "ord : {non-zero int, inf, -inf, 'fro', 'nuc'}, optional\n",
       "    Order of the norm (see table under ``Notes``). inf means numpy's\n",
       "    `inf` object. The default is None.\n",
       "axis : {None, int, 2-tuple of ints}, optional.\n",
       "    If `axis` is an integer, it specifies the axis of `x` along which to\n",
       "    compute the vector norms.  If `axis` is a 2-tuple, it specifies the\n",
       "    axes that hold 2-D matrices, and the matrix norms of these matrices\n",
       "    are computed.  If `axis` is None then either a vector norm (when `x`\n",
       "    is 1-D) or a matrix norm (when `x` is 2-D) is returned. The default\n",
       "    is None.\n",
       "\n",
       "    .. versionadded:: 1.8.0\n",
       "\n",
       "keepdims : bool, optional\n",
       "    If this is set to True, the axes which are normed over are left in the\n",
       "    result as dimensions with size one.  With this option the result will\n",
       "    broadcast correctly against the original `x`.\n",
       "\n",
       "    .. versionadded:: 1.10.0\n",
       "\n",
       "Returns\n",
       "-------\n",
       "n : float or ndarray\n",
       "    Norm of the matrix or vector(s).\n",
       "\n",
       "See Also\n",
       "--------\n",
       "scipy.linalg.norm : Similar function in SciPy.\n",
       "\n",
       "Notes\n",
       "-----\n",
       "For values of ``ord < 1``, the result is, strictly speaking, not a\n",
       "mathematical 'norm', but it may still be useful for various numerical\n",
       "purposes.\n",
       "\n",
       "The following norms can be calculated:\n",
       "\n",
       "=====  ============================  ==========================\n",
       "ord    norm for matrices             norm for vectors\n",
       "=====  ============================  ==========================\n",
       "None   Frobenius norm                2-norm\n",
       "'fro'  Frobenius norm                --\n",
       "'nuc'  nuclear norm                  --\n",
       "inf    max(sum(abs(x), axis=1))      max(abs(x))\n",
       "-inf   min(sum(abs(x), axis=1))      min(abs(x))\n",
       "0      --                            sum(x != 0)\n",
       "1      max(sum(abs(x), axis=0))      as below\n",
       "-1     min(sum(abs(x), axis=0))      as below\n",
       "2      2-norm (largest sing. value)  as below\n",
       "-2     smallest singular value       as below\n",
       "other  --                            sum(abs(x)**ord)**(1./ord)\n",
       "=====  ============================  ==========================\n",
       "\n",
       "The Frobenius norm is given by [1]_:\n",
       "\n",
       "    :math:`||A||_F = [\\sum_{i,j} abs(a_{i,j})^2]^{1/2}`\n",
       "\n",
       "The nuclear norm is the sum of the singular values.\n",
       "\n",
       "Both the Frobenius and nuclear norm orders are only defined for\n",
       "matrices and raise a ValueError when ``x.ndim != 2``.\n",
       "\n",
       "References\n",
       "----------\n",
       ".. [1] G. H. Golub and C. F. Van Loan, *Matrix Computations*,\n",
       "       Baltimore, MD, Johns Hopkins University Press, 1985, pg. 15\n",
       "\n",
       "Examples\n",
       "--------\n",
       ">>> from numpy import linalg as LA\n",
       ">>> a = np.arange(9) - 4\n",
       ">>> a\n",
       "array([-4, -3, -2, ...,  2,  3,  4])\n",
       ">>> b = a.reshape((3, 3))\n",
       ">>> b\n",
       "array([[-4, -3, -2],\n",
       "       [-1,  0,  1],\n",
       "       [ 2,  3,  4]])\n",
       "\n",
       ">>> LA.norm(a)\n",
       "7.745966692414834\n",
       ">>> LA.norm(b)\n",
       "7.745966692414834\n",
       ">>> LA.norm(b, 'fro')\n",
       "7.745966692414834\n",
       ">>> LA.norm(a, np.inf)\n",
       "4.0\n",
       ">>> LA.norm(b, np.inf)\n",
       "9.0\n",
       ">>> LA.norm(a, -np.inf)\n",
       "0.0\n",
       ">>> LA.norm(b, -np.inf)\n",
       "2.0\n",
       "\n",
       ">>> LA.norm(a, 1)\n",
       "20.0\n",
       ">>> LA.norm(b, 1)\n",
       "7.0\n",
       ">>> LA.norm(a, -1)\n",
       "-4.6566128774142013e-010\n",
       ">>> LA.norm(b, -1)\n",
       "6.0\n",
       ">>> LA.norm(a, 2)\n",
       "7.745966692414834\n",
       ">>> LA.norm(b, 2)\n",
       "7.3484692283495345\n",
       "\n",
       ">>> LA.norm(a, -2)\n",
       "0.0\n",
       ">>> LA.norm(b, -2)\n",
       "1.8570331885190563e-016 # may vary\n",
       ">>> LA.norm(a, 3)\n",
       "5.8480354764257312 # may vary\n",
       ">>> LA.norm(a, -3)\n",
       "0.0\n",
       "\n",
       "Using the `axis` argument to compute vector norms:\n",
       "\n",
       ">>> c = np.array([[ 1, 2, 3],\n",
       "...               [-1, 1, 4]])\n",
       ">>> LA.norm(c, axis=0)\n",
       "array([ 1.41421356,  2.23606798,  5.        ])\n",
       ">>> LA.norm(c, axis=1)\n",
       "array([ 3.74165739,  4.24264069])\n",
       ">>> LA.norm(c, ord=1, axis=1)\n",
       "array([ 6.,  6.])\n",
       "\n",
       "Using the `axis` argument to compute matrix norms:\n",
       "\n",
       ">>> m = np.arange(8).reshape(2,2,2)\n",
       ">>> LA.norm(m, axis=(1,2))\n",
       "array([  3.74165739,  11.22497216])\n",
       ">>> LA.norm(m[0, :, :]), LA.norm(m[1, :, :])\n",
       "(3.7416573867739413, 11.224972160321824)\n",
       "\u001b[0;31mFile:\u001b[0m      /usr/local/lib/python3.8/dist-packages/numpy/linalg/linalg.py\n",
       "\u001b[0;31mType:\u001b[0m      function\n"
      ]
     },
     "metadata": {},
     "output_type": "display_data"
    }
   ],
   "source": [
    "?np.linalg.norm"
   ]
  },
  {
   "cell_type": "code",
   "execution_count": null,
   "id": "0eafee53-0ef2-4aef-94ca-51d118146038",
   "metadata": {},
   "outputs": [],
   "source": []
  }
 ],
 "metadata": {
  "kernelspec": {
   "display_name": "Python 3 (ipykernel)",
   "language": "python",
   "name": "python3"
  },
  "language_info": {
   "codemirror_mode": {
    "name": "ipython",
    "version": 3
   },
   "file_extension": ".py",
   "mimetype": "text/x-python",
   "name": "python",
   "nbconvert_exporter": "python",
   "pygments_lexer": "ipython3",
   "version": "3.11.5"
  }
 },
 "nbformat": 4,
 "nbformat_minor": 5
}
