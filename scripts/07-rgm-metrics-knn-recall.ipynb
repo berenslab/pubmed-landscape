{
 "cells": [
  {
   "cell_type": "code",
   "execution_count": 1,
   "id": "9412e6f0-0dba-4055-8600-f0594c0c4fe9",
   "metadata": {},
   "outputs": [],
   "source": [
    "import numpy as np\n",
    "from scipy import sparse\n",
    "from scipy.sparse import csr_matrix\n",
    "\n",
    "import time\n",
    "import memory_profiler\n",
    "%load_ext memory_profiler\n",
    "\n",
    "from pathlib import Path"
   ]
  },
  {
   "cell_type": "code",
   "execution_count": 9,
   "id": "68aaa04d-f714-4ab7-a32d-dc7993847b35",
   "metadata": {},
   "outputs": [],
   "source": [
    "import black\n",
    "import jupyter_black\n",
    "\n",
    "jupyter_black.load(line_length=79)"
   ]
  },
  {
   "cell_type": "code",
   "execution_count": 3,
   "id": "abbe7540-3444-4f5b-b416-e67688536c83",
   "metadata": {},
   "outputs": [],
   "source": [
    "%load_ext autoreload\n",
    "%autoreload 2\n",
    "\n",
    "from pubmed_landscape_src.metrics import knn_recall"
   ]
  },
  {
   "cell_type": "code",
   "execution_count": 2,
   "id": "fe766957-4714-4e32-bd71-6f61f9628cd9",
   "metadata": {},
   "outputs": [],
   "source": [
    "variables_path = Path('../results/variables')\n",
    "figures_path = Path('../results/figures')\n",
    "berenslab_data_path = Path('/gpfs01/berens/data/data/pubmed_processed')"
   ]
  },
  {
   "cell_type": "markdown",
   "id": "65d7aba9-3a40-4b0f-9898-d842113c6fb5",
   "metadata": {},
   "source": [
    "# Import"
   ]
  },
  {
   "cell_type": "markdown",
   "id": "e30dc8a6-2115-40cc-ad64-162051ea34c0",
   "metadata": {},
   "source": [
    "## BERT"
   ]
  },
  {
   "cell_type": "code",
   "execution_count": 6,
   "id": "b61b2959-4c1d-4604-8c70-3db12afd3100",
   "metadata": {},
   "outputs": [
    {
     "name": "stderr",
     "output_type": "stream",
     "text": [
      "tcmalloc: large alloc 127101853696 bytes == 0x5762000 @ \n"
     ]
    },
    {
     "name": "stdout",
     "output_type": "stream",
     "text": [
      "peak memory: 121539.24 MiB, increment: 121253.85 MiB\n",
      "CPU times: user 108 ms, sys: 1min, total: 1min\n",
      "Wall time: 1min 43s\n"
     ]
    }
   ],
   "source": [
    "%%time\n",
    "%%memit\n",
    "embeddings_reparsed_all=np.load(berenslab_data_path / 'embeddings/embeddings_reparsed_all.npy')"
   ]
  },
  {
   "cell_type": "code",
   "execution_count": 7,
   "id": "b4428c51-dfb5-46cb-9130-dc992d3fb383",
   "metadata": {},
   "outputs": [],
   "source": [
    "tsne_bert_reparsed=np.load(variables_path / \"bert/tsne_reparsed.npy\")"
   ]
  },
  {
   "cell_type": "markdown",
   "id": "afb97258-1ea4-433d-a764-286de5c31046",
   "metadata": {},
   "source": [
    "## TF-IDF"
   ]
  },
  {
   "cell_type": "code",
   "execution_count": 64,
   "id": "877bcb04-4993-4112-bdae-ae5daf0ce3b0",
   "metadata": {},
   "outputs": [
    {
     "name": "stderr",
     "output_type": "stream",
     "text": [
      "tcmalloc: large alloc 18038185984 bytes == 0x65a6000 @ \n",
      "tcmalloc: large alloc 18038185984 bytes == 0x43a9f2000 @ \n"
     ]
    }
   ],
   "source": [
    "tfidf_features_updated_reparsed = sp.sparse.load_npz(variables_path / \"tfidf_features_updated_reparsed.npz\")"
   ]
  },
  {
   "cell_type": "code",
   "execution_count": 5,
   "id": "83f0a747-6d92-46b8-9d09-305e58d7d3f4",
   "metadata": {},
   "outputs": [
    {
     "name": "stderr",
     "output_type": "stream",
     "text": [
      "tcmalloc: large alloc 49649164288 bytes == 0x5d74000 @ \n"
     ]
    }
   ],
   "source": [
    "svd_data_updated_reparsed = np.load(variables_path / \"svd_data_updated_reparsed.npy\")"
   ]
  },
  {
   "cell_type": "code",
   "execution_count": 6,
   "id": "640af2df-1f20-45a4-b45a-9acee6c528fe",
   "metadata": {},
   "outputs": [],
   "source": [
    "tsne_tfidf_reparsed=np.load(variables_path / \"tsne_tfidf_reparsed.npy\")"
   ]
  },
  {
   "cell_type": "markdown",
   "id": "e8be4efb-fbe5-47d1-b1f6-607689a265a4",
   "metadata": {},
   "source": [
    "# kNN recall"
   ]
  },
  {
   "cell_type": "markdown",
   "id": "0933a7c7-8798-4da0-9d2a-6e41665545ef",
   "metadata": {},
   "source": [
    "## BERT -> t-SNE"
   ]
  },
  {
   "cell_type": "code",
   "execution_count": null,
   "id": "9ef01488-cdff-4224-9bdb-567809524783",
   "metadata": {},
   "outputs": [],
   "source": [
    "%%capture cap\n",
    "%%time\n",
    "%%memit\n",
    "knn_recall_bert= knn_recall(embeddings_reparsed_all, [tsne_bert_reparsed] , subset_size=10000)"
   ]
  },
  {
   "cell_type": "code",
   "execution_count": null,
   "id": "f29347fb-5035-40cd-a746-a8088625ed04",
   "metadata": {},
   "outputs": [],
   "source": [
    "with open( variables_path / 'verbose_knn_recall_bert_tsne.txt', 'w') as f:\n",
    "    f.write(cap.stdout)"
   ]
  },
  {
   "cell_type": "code",
   "execution_count": 12,
   "id": "8ed41382-dc5a-43c1-9989-fad145601025",
   "metadata": {},
   "outputs": [
    {
     "name": "stdout",
     "output_type": "stream",
     "text": [
      "[0.06243]\n"
     ]
    }
   ],
   "source": [
    "print(knn_recall_bert)"
   ]
  },
  {
   "cell_type": "code",
   "execution_count": null,
   "id": "9fcf9f8f-1204-416e-b46e-a152cad9ab03",
   "metadata": {},
   "outputs": [],
   "source": [
    "np.save(variables_path / \"knn_recall_bert\", knn_recall_bert)"
   ]
  },
  {
   "cell_type": "markdown",
   "id": "46c29f31-483a-4248-bbea-89ed929c9680",
   "metadata": {},
   "source": [
    "## TF-IDF -> t-SNE"
   ]
  },
  {
   "cell_type": "code",
   "execution_count": null,
   "id": "871c10c7-9854-49be-827d-23edeecca285",
   "metadata": {},
   "outputs": [
    {
     "name": "stderr",
     "output_type": "stream",
     "text": [
      "tcmalloc: large alloc 18038185984 bytes == 0x89442a000 @ \n",
      "tcmalloc: large alloc 18038185984 bytes == 0xcc86b8000 @ \n"
     ]
    }
   ],
   "source": [
    "%%capture cap\n",
    "%%time\n",
    "%%memit\n",
    "knn_recall_tfidf_tsne= knn_recall(tfidf_features_updated_reparsed, [tsne_tfidf_reparsed] , subset_size=5000)"
   ]
  },
  {
   "cell_type": "code",
   "execution_count": null,
   "id": "a8cfff3c-6e90-4161-bd4a-49b64286e2ea",
   "metadata": {},
   "outputs": [],
   "source": [
    "with open( variables_path / 'verbose_knn_recall_tfidf_tsne.txt', 'w') as f:\n",
    "    f.write(cap.stdout)"
   ]
  },
  {
   "cell_type": "code",
   "execution_count": 9,
   "id": "a94155ee-e4da-4685-b7c3-1b5b17174c48",
   "metadata": {},
   "outputs": [
    {
     "name": "stdout",
     "output_type": "stream",
     "text": [
      "[0.682]\n"
     ]
    }
   ],
   "source": [
    "print(knn_recall_tfidf_tsne*100)"
   ]
  },
  {
   "cell_type": "code",
   "execution_count": null,
   "id": "e1ae41cd-9a0b-4954-986f-2e11847bdcbf",
   "metadata": {},
   "outputs": [],
   "source": [
    "np.save(variables_path / \"knn_recall_tfidf_tsne\", knn_recall_tfidf_tsne)"
   ]
  },
  {
   "cell_type": "code",
   "execution_count": 7,
   "id": "fe0a4da9-c9d5-4443-b3b2-b645b71ebbac",
   "metadata": {},
   "outputs": [],
   "source": [
    "knn_recall_tfidf_tsne = np.load(variables_path / \"knn_recall_tfidf_tsne.npy\")"
   ]
  },
  {
   "cell_type": "markdown",
   "id": "3aaff526-f9a5-4dbc-b099-caa70d47d2e9",
   "metadata": {},
   "source": [
    "## TF-IDF -> SVD"
   ]
  },
  {
   "cell_type": "code",
   "execution_count": null,
   "id": "1e6d85b9-362e-4ebe-af94-77cd4c427255",
   "metadata": {},
   "outputs": [
    {
     "name": "stderr",
     "output_type": "stream",
     "text": [
      "tcmalloc: large alloc 18038185984 bytes == 0x1414f4e000 @ \n",
      "tcmalloc: large alloc 18038185984 bytes == 0x18491dc000 @ \n"
     ]
    }
   ],
   "source": [
    "%%capture cap\n",
    "%%time\n",
    "%%memit\n",
    "knn_recall_tfidf_svd= knn_recall(tfidf_features_updated_reparsed, [svd_data_updated_reparsed] , subset_size=5000)"
   ]
  },
  {
   "cell_type": "code",
   "execution_count": null,
   "id": "3d3e2569-22f1-4bc5-8215-ee6ba6549559",
   "metadata": {},
   "outputs": [],
   "source": [
    "with open( variables_path / 'verbose_knn_recall_tfidf_svd.txt', 'w') as f:\n",
    "    f.write(cap.stdout)"
   ]
  },
  {
   "cell_type": "code",
   "execution_count": 7,
   "id": "b8c715cf-e023-4feb-9b8a-c014f868a005",
   "metadata": {},
   "outputs": [
    {
     "name": "stdout",
     "output_type": "stream",
     "text": [
      "[5.052]\n"
     ]
    }
   ],
   "source": [
    "print(knn_recall_tfidf_svd*100)"
   ]
  },
  {
   "cell_type": "code",
   "execution_count": null,
   "id": "5dedc84c-974c-4415-93d2-101f06666ebe",
   "metadata": {},
   "outputs": [],
   "source": [
    "np.save(variables_path / \"knn_recall_tfidf_svd\", knn_recall_tfidf_svd)"
   ]
  },
  {
   "cell_type": "code",
   "execution_count": 6,
   "id": "19839ecc-1f70-4faa-bf9b-329ff163984e",
   "metadata": {},
   "outputs": [],
   "source": [
    "knn_recall_tfidf_svd = np.load(variables_path / \"knn_recall_tfidf_svd.npy\")"
   ]
  },
  {
   "cell_type": "markdown",
   "id": "6f8e0b32-230a-4f62-b712-e267cf2238dd",
   "metadata": {},
   "source": [
    "## SVD -> t-SNE"
   ]
  },
  {
   "cell_type": "code",
   "execution_count": 7,
   "id": "4c5a88bb-0824-4107-9978-96b028ff7234",
   "metadata": {},
   "outputs": [],
   "source": [
    "%%capture cap\n",
    "%%time\n",
    "%%memit\n",
    "knn_recall_svd_tsne= knn_recall(svd_data_updated_reparsed, [tsne_tfidf_reparsed] , subset_size=5000)"
   ]
  },
  {
   "cell_type": "code",
   "execution_count": 8,
   "id": "83006f54-2bc7-408b-ba06-223bc6100c29",
   "metadata": {},
   "outputs": [],
   "source": [
    "with open( variables_path / 'verbose_knn_recall_svd_tsne.txt', 'w') as f:\n",
    "    f.write(cap.stdout)"
   ]
  },
  {
   "cell_type": "code",
   "execution_count": 9,
   "id": "2881f0a3-69f7-4bfc-b3bb-f697e1f3987e",
   "metadata": {},
   "outputs": [
    {
     "name": "stdout",
     "output_type": "stream",
     "text": [
      "[1.462]\n"
     ]
    }
   ],
   "source": [
    "print(knn_recall_svd_tsne*100)"
   ]
  },
  {
   "cell_type": "code",
   "execution_count": 10,
   "id": "8d647365-2594-4d06-865d-b4ce9a6ed5d4",
   "metadata": {},
   "outputs": [],
   "source": [
    "np.save(variables_path / \"knn_recall_svd_tsne\", knn_recall_svd_tsne)"
   ]
  },
  {
   "cell_type": "code",
   "execution_count": 6,
   "id": "7033d416-a461-4c94-8d46-5fc6332563cf",
   "metadata": {},
   "outputs": [],
   "source": [
    "knn_recall_svd_tsne = np.load(variables_path / \"knn_recall_svd_tsne.npy\")"
   ]
  }
 ],
 "metadata": {
  "kernelspec": {
   "display_name": "Python 3 (ipykernel)",
   "language": "python",
   "name": "python3"
  },
  "language_info": {
   "codemirror_mode": {
    "name": "ipython",
    "version": 3
   },
   "file_extension": ".py",
   "mimetype": "text/x-python",
   "name": "python",
   "nbconvert_exporter": "python",
   "pygments_lexer": "ipython3",
   "version": "3.8.10"
  }
 },
 "nbformat": 4,
 "nbformat_minor": 5
}
