{
 "cells": [
  {
   "cell_type": "code",
   "execution_count": 1,
   "metadata": {},
   "outputs": [],
   "source": [
    "import pandas as pd\n",
    "import numpy as np\n",
    "import scipy as sp\n",
    "from scipy import sparse\n",
    "from scipy.sparse import csr_matrix\n",
    "\n",
    "import time\n",
    "\n",
    "import memory_profiler\n",
    "%load_ext memory_profiler\n",
    "\n",
    "from pathlib import Path"
   ]
  },
  {
   "cell_type": "code",
   "execution_count": 2,
   "metadata": {},
   "outputs": [
    {
     "data": {
      "text/html": [
       "\n",
       "                <script type=\"application/javascript\" id=\"jupyter_black\">\n",
       "                (function() {\n",
       "                    if (window.IPython === undefined) {\n",
       "                        return\n",
       "                    }\n",
       "                    var msg = \"WARNING: it looks like you might have loaded \" +\n",
       "                        \"jupyter_black in a non-lab notebook with \" +\n",
       "                        \"`is_lab=True`. Please double check, and if \" +\n",
       "                        \"loading with `%load_ext` please review the README!\"\n",
       "                    console.log(msg)\n",
       "                    alert(msg)\n",
       "                })()\n",
       "                </script>\n",
       "                "
      ],
      "text/plain": [
       "<IPython.core.display.HTML object>"
      ]
     },
     "metadata": {},
     "output_type": "display_data"
    }
   ],
   "source": [
    "import black\n",
    "import jupyter_black\n",
    "\n",
    "jupyter_black.load(line_length=79)"
   ]
  },
  {
   "cell_type": "code",
   "execution_count": 4,
   "metadata": {},
   "outputs": [],
   "source": [
    "%load_ext autoreload\n",
    "%autoreload 2\n",
    "\n",
    "from pubmed_landscape_src.metrics import knn_covid"
   ]
  },
  {
   "cell_type": "code",
   "execution_count": 3,
   "metadata": {},
   "outputs": [],
   "source": [
    "variables_path = Path(\"../results/variables\")\n",
    "figures_path = Path(\"../results/figures\")\n",
    "berenslab_data_path = Path(\"/gpfs01/berens/data/data/pubmed_processed\")"
   ]
  },
  {
   "cell_type": "markdown",
   "metadata": {},
   "source": [
    "# Import"
   ]
  },
  {
   "cell_type": "code",
   "execution_count": 4,
   "metadata": {},
   "outputs": [
    {
     "name": "stderr",
     "output_type": "stream",
     "text": [
      "tcmalloc: large alloc 18038185984 bytes == 0x4d64000 @ \n",
      "tcmalloc: large alloc 18038185984 bytes == 0x43930a000 @ \n"
     ]
    }
   ],
   "source": [
    "tfidf_features_updated_reparsed = sp.sparse.load_npz(variables_path / \"tfidf_features_updated_reparsed.npz\")"
   ]
  },
  {
   "cell_type": "code",
   "execution_count": 5,
   "metadata": {},
   "outputs": [
    {
     "data": {
      "text/plain": [
       "(20687150, 4679130)"
      ]
     },
     "execution_count": 5,
     "metadata": {},
     "output_type": "execute_result"
    }
   ],
   "source": [
    "tfidf_features_updated_reparsed.shape"
   ]
  },
  {
   "cell_type": "code",
   "execution_count": 13,
   "metadata": {},
   "outputs": [
    {
     "name": "stderr",
     "output_type": "stream",
     "text": [
      "tcmalloc: large alloc 127101853696 bytes == 0x21aae88000 @ \n"
     ]
    },
    {
     "name": "stdout",
     "output_type": "stream",
     "text": [
      "peak memory: 156318.00 MiB, increment: 18199.42 MiB\n",
      "CPU times: user 184 ms, sys: 1min 12s, total: 1min 12s\n",
      "Wall time: 1min 44s\n"
     ]
    }
   ],
   "source": [
    "%%time\n",
    "%%memit\n",
    "embeddings_reparsed_all=np.load(berenslab_data_path / 'embeddings/embeddings_reparsed_all.npy')"
   ]
  },
  {
   "cell_type": "code",
   "execution_count": 3,
   "metadata": {},
   "outputs": [],
   "source": [
    "tsne_tfidf_reparsed=np.load(variables_path / \"tsne_tfidf_reparsed.npy\")"
   ]
  },
  {
   "cell_type": "code",
   "execution_count": 4,
   "metadata": {},
   "outputs": [],
   "source": [
    "tsne_bert_reparsed=np.load(variables_path / \"bert/tsne_reparsed.npy\")"
   ]
  },
  {
   "cell_type": "code",
   "execution_count": 15,
   "metadata": {},
   "outputs": [
    {
     "data": {
      "text/plain": [
       "(20687150, 4679130)"
      ]
     },
     "execution_count": 15,
     "metadata": {},
     "output_type": "execute_result"
    }
   ],
   "source": [
    "tfidf_features_updated_reparsed.shape"
   ]
  },
  {
   "cell_type": "markdown",
   "metadata": {
    "tags": []
   },
   "source": [
    "# Isolatedness (kNN covid)"
   ]
  },
  {
   "cell_type": "markdown",
   "metadata": {
    "tags": []
   },
   "source": [
    "## Keywords: Covid-19"
   ]
  },
  {
   "cell_type": "code",
   "execution_count": null,
   "metadata": {},
   "outputs": [],
   "source": [
    "# import clean_df_updated\n",
    "clean_df_updated_reparsed_filtered = pd.read_pickle(variables_path / \"clean_df_updated_reparsed_filtered\")"
   ]
  },
  {
   "cell_type": "code",
   "execution_count": 5,
   "metadata": {},
   "outputs": [
    {
     "name": "stdout",
     "output_type": "stream",
     "text": [
      "Number of titles with word 1:  521\n",
      "Number of titles with word 2:  115703\n",
      "Number of titles with word 3:  4474\n",
      "Number of titles with word 4:  66\n",
      "Number of titles with word 5:  948\n",
      "Number of titles with word 6:  45386\n",
      "Number of titles with word 7:  22193\n",
      "Number of titles with word 8:  4761\n",
      "Number of titles with word:  132802\n"
     ]
    }
   ],
   "source": [
    "titles=clean_df_updated_reparsed_filtered['AbstractText']\n",
    "sub1='covid-19'\n",
    "sub2='COVID-19'\n",
    "sub3='Covid-19'\n",
    "sub4='CoViD-19'\n",
    "sub5='2019-nCoV'\n",
    "sub6='SARS-CoV-2'\n",
    "sub7='coronavirus disease 2019'\n",
    "sub8='Coronavirus disease 2019'\n",
    "\n",
    "indexes1= titles.str.find(sub1)\n",
    "indexes2= titles.str.find(sub2)\n",
    "indexes3= titles.str.find(sub3)\n",
    "indexes4= titles.str.find(sub4)\n",
    "indexes5= titles.str.find(sub5)\n",
    "indexes6= titles.str.find(sub6)\n",
    "indexes7= titles.str.find(sub7)\n",
    "indexes8= titles.str.find(sub8)\n",
    "\n",
    "mask_covid_2 = (indexes1!=-1) | (indexes2!=-1) | (indexes3!=-1) | (indexes4!=-1) | (indexes5!=-1) | (indexes6!=-1) | (indexes7!=-1) | (indexes8!=-1)\n",
    "\n",
    "#information\n",
    "non_1_1=indexes1[indexes1!=-1]\n",
    "print('Number of titles with word 1: ',len(non_1_1))\n",
    "non_1_2=indexes2[indexes2!=-1]\n",
    "print('Number of titles with word 2: ',len(non_1_2))\n",
    "non_1_3=indexes2[indexes3!=-1]\n",
    "print('Number of titles with word 3: ',len(non_1_3))\n",
    "non_1_4=indexes2[indexes4!=-1]\n",
    "print('Number of titles with word 4: ',len(non_1_4))\n",
    "non_1_5=indexes2[indexes5!=-1]\n",
    "print('Number of titles with word 5: ',len(non_1_5))\n",
    "non_1_6=indexes2[indexes6!=-1]\n",
    "print('Number of titles with word 6: ',len(non_1_6))\n",
    "non_1_7=indexes2[indexes7!=-1]\n",
    "print('Number of titles with word 7: ',len(non_1_7))\n",
    "non_1_8=indexes2[indexes8!=-1]\n",
    "print('Number of titles with word 8: ',len(non_1_8))\n",
    "\n",
    "nsc_titles_word=titles[(indexes1!=-1) | (indexes2!=-1) | (indexes3!=-1) | (indexes4!=-1) | (indexes5!=-1) | (indexes6!=-1) | (indexes7!=-1) | (indexes8!=-1)]\n",
    "print('Number of titles with word: ',len(nsc_titles_word))"
   ]
  },
  {
   "cell_type": "code",
   "execution_count": 11,
   "metadata": {
    "tags": []
   },
   "outputs": [],
   "source": [
    "np.save(variables_path / 'mask_covid_2', mask_covid_2)"
   ]
  },
  {
   "cell_type": "code",
   "execution_count": 7,
   "metadata": {
    "tags": []
   },
   "outputs": [],
   "source": [
    "mask_covid_2 = np.load(variables_path / 'mask_covid_2.npy')"
   ]
  },
  {
   "cell_type": "markdown",
   "metadata": {
    "tags": []
   },
   "source": [
    "### TF-IDF"
   ]
  },
  {
   "cell_type": "code",
   "execution_count": null,
   "metadata": {
    "tags": []
   },
   "outputs": [
    {
     "name": "stderr",
     "output_type": "stream",
     "text": [
      "tcmalloc: large alloc 18038185984 bytes == 0x8db65a000 @ \n",
      "tcmalloc: large alloc 18038185984 bytes == 0xd0f900000 @ \n"
     ]
    }
   ],
   "source": [
    "%%time\n",
    "knn_covid_tfidf_5000 = knn_covid(tfidf_features_updated_reparsed, mask_covid_2, k=10, subset_size=5000)"
   ]
  },
  {
   "cell_type": "code",
   "execution_count": null,
   "metadata": {
    "tags": []
   },
   "outputs": [],
   "source": [
    "np.save(variables_path / 'knn_covid_tfidf_5000', knn_covid_tfidf_5000)"
   ]
  },
  {
   "cell_type": "code",
   "execution_count": 16,
   "metadata": {
    "tags": []
   },
   "outputs": [
    {
     "name": "stdout",
     "output_type": "stream",
     "text": [
      "0.7617200000000001\n"
     ]
    }
   ],
   "source": [
    "print(knn_covid_tfidf_5000)"
   ]
  },
  {
   "cell_type": "markdown",
   "metadata": {
    "tags": []
   },
   "source": [
    "### BERT"
   ]
  },
  {
   "cell_type": "code",
   "execution_count": null,
   "metadata": {},
   "outputs": [],
   "source": [
    "%%capture cap\n",
    "%%time\n",
    "%%memit\n",
    "knn_covid_bert_5000 = knn_covid(embeddings_reparsed_all, mask_covid_2, k=10, subset_size=5000)"
   ]
  },
  {
   "cell_type": "code",
   "execution_count": null,
   "metadata": {},
   "outputs": [],
   "source": [
    "with open( variables_path / 'verbose_knn_covid_bert_5000.txt', 'w') as f:\n",
    "    f.write(cap.stdout)"
   ]
  },
  {
   "cell_type": "code",
   "execution_count": 70,
   "metadata": {
    "tags": []
   },
   "outputs": [
    {
     "name": "stdout",
     "output_type": "stream",
     "text": [
      "0.8056599999999999\n"
     ]
    }
   ],
   "source": [
    "print(knn_covid_bert_5000)"
   ]
  },
  {
   "cell_type": "code",
   "execution_count": null,
   "metadata": {},
   "outputs": [],
   "source": [
    "np.save(variables_path / 'knn_covid_bert_5000', knn_covid_bert_5000)"
   ]
  },
  {
   "cell_type": "markdown",
   "metadata": {
    "tags": []
   },
   "source": [
    "### t-SNE TF-IDF"
   ]
  },
  {
   "cell_type": "code",
   "execution_count": 10,
   "metadata": {
    "tags": []
   },
   "outputs": [
    {
     "name": "stdout",
     "output_type": "stream",
     "text": [
      "CPU times: user 31.6 s, sys: 638 ms, total: 32.3 s\n",
      "Wall time: 31.1 s\n"
     ]
    }
   ],
   "source": [
    "%%time\n",
    "knn_covid_tnse_tfidf = knn_covid(tsne_tfidf_reparsed, mask_covid_2, k=10, subset_size=10000)"
   ]
  },
  {
   "cell_type": "code",
   "execution_count": 11,
   "metadata": {
    "tags": []
   },
   "outputs": [],
   "source": [
    "np.save(variables_path / 'knn_covid_tnse_tfidf', knn_covid_tnse_tfidf)"
   ]
  },
  {
   "cell_type": "code",
   "execution_count": 12,
   "metadata": {
    "tags": []
   },
   "outputs": [
    {
     "name": "stdout",
     "output_type": "stream",
     "text": [
      "0.8452299999999999\n"
     ]
    }
   ],
   "source": [
    "print(knn_covid_tnse_tfidf)"
   ]
  },
  {
   "cell_type": "markdown",
   "metadata": {
    "tags": []
   },
   "source": [
    "### t-SNE BERT"
   ]
  },
  {
   "cell_type": "code",
   "execution_count": 13,
   "metadata": {},
   "outputs": [
    {
     "name": "stdout",
     "output_type": "stream",
     "text": [
      "CPU times: user 29 s, sys: 501 ms, total: 29.5 s\n",
      "Wall time: 27.9 s\n"
     ]
    }
   ],
   "source": [
    "%%time\n",
    "knn_covid_tsne_bert = knn_covid(tsne_bert_reparsed, mask_covid_2, k=10, subset_size=10000)"
   ]
  },
  {
   "cell_type": "code",
   "execution_count": 14,
   "metadata": {
    "tags": []
   },
   "outputs": [
    {
     "name": "stdout",
     "output_type": "stream",
     "text": [
      "0.65445\n"
     ]
    }
   ],
   "source": [
    "print(knn_covid_tsne_bert)"
   ]
  },
  {
   "cell_type": "code",
   "execution_count": 15,
   "metadata": {},
   "outputs": [],
   "source": [
    "np.save(variables_path / 'knn_covid_tsne_bert', knn_covid_tsne_bert)"
   ]
  },
  {
   "cell_type": "markdown",
   "metadata": {},
   "source": [
    "## Keyword: HIV"
   ]
  },
  {
   "cell_type": "code",
   "execution_count": 4,
   "metadata": {},
   "outputs": [
    {
     "name": "stderr",
     "output_type": "stream",
     "text": [
      "tcmalloc: large alloc 1073741824 bytes == 0x8c1ad4000 @ \n",
      "tcmalloc: large alloc 1233903616 bytes == 0x96ba6c000 @ \n"
     ]
    }
   ],
   "source": [
    "# import clean_df_updated\n",
    "clean_df_updated_reparsed_filtered = pd.read_pickle(variables_path / \"clean_df_updated_reparsed_filtered\")"
   ]
  },
  {
   "cell_type": "code",
   "execution_count": 5,
   "metadata": {},
   "outputs": [
    {
     "name": "stdout",
     "output_type": "stream",
     "text": [
      "Number of titles with word 1:  260386\n",
      "Number of titles with word 2:  1958\n",
      "Number of titles with word 3:  75537\n",
      "Number of titles with word 4:  25189\n",
      "Number of titles with word:  308077\n"
     ]
    }
   ],
   "source": [
    "#Neuroscience colors\n",
    "\n",
    "#Buscar \n",
    "titles=clean_df_updated_reparsed_filtered['AbstractText']\n",
    "sub1='HIV'\n",
    "sub2=' hiv'\n",
    "sub3='AIDS'\n",
    "sub4=' aids'\n",
    "\n",
    "indexes1= titles.str.find(sub1)\n",
    "indexes2= titles.str.find(sub2)\n",
    "indexes3= titles.str.find(sub3)\n",
    "indexes4= titles.str.find(sub4)\n",
    "\n",
    "mask_hiv = (indexes1!=-1) | (indexes2!=-1) | (indexes3!=-1) | (indexes4!=-1)\n",
    "\n",
    "#information\n",
    "non_1_1=indexes1[indexes1!=-1]\n",
    "print('Number of titles with word 1: ',len(non_1_1))\n",
    "non_1_2=indexes2[indexes2!=-1]\n",
    "print('Number of titles with word 2: ',len(non_1_2))\n",
    "non_1_3=indexes2[indexes3!=-1]\n",
    "print('Number of titles with word 3: ',len(non_1_3))\n",
    "non_1_4=indexes2[indexes4!=-1]\n",
    "print('Number of titles with word 4: ',len(non_1_4))\n",
    "\n",
    "nsc_titles_word=titles[(indexes1!=-1) | (indexes2!=-1) | (indexes3!=-1) | (indexes4!=-1)]\n",
    "print('Number of titles with word: ',len(nsc_titles_word))"
   ]
  },
  {
   "cell_type": "code",
   "execution_count": 6,
   "metadata": {},
   "outputs": [],
   "source": [
    "np.save(variables_path / 'mask_hiv', mask_hiv)"
   ]
  },
  {
   "cell_type": "markdown",
   "metadata": {
    "tags": []
   },
   "source": [
    "### TF-IDF"
   ]
  },
  {
   "cell_type": "code",
   "execution_count": null,
   "metadata": {
    "tags": []
   },
   "outputs": [],
   "source": [
    "%%capture cap\n",
    "%%time\n",
    "knn_hiv_tfidf_5000 = knn_covid(tfidf_features_updated_reparsed, mask_hiv, k=10, subset_size=5000)"
   ]
  },
  {
   "cell_type": "code",
   "execution_count": null,
   "metadata": {},
   "outputs": [],
   "source": [
    "with open( variables_path / 'verbose_knn_hiv_tfidf_5000.txt', 'w') as f:\n",
    "    f.write(cap.stdout)"
   ]
  },
  {
   "cell_type": "code",
   "execution_count": null,
   "metadata": {
    "tags": []
   },
   "outputs": [],
   "source": [
    "np.save(variables_path / 'knn_hiv_tfidf_5000', knn_hiv_tfidf_5000)"
   ]
  },
  {
   "cell_type": "code",
   "execution_count": 71,
   "metadata": {
    "tags": []
   },
   "outputs": [
    {
     "name": "stdout",
     "output_type": "stream",
     "text": [
      "0.62312\n"
     ]
    }
   ],
   "source": [
    "print(knn_hiv_tfidf_5000)"
   ]
  },
  {
   "cell_type": "markdown",
   "metadata": {
    "tags": []
   },
   "source": [
    "### BERT"
   ]
  },
  {
   "cell_type": "code",
   "execution_count": null,
   "metadata": {},
   "outputs": [],
   "source": [
    "%%capture cap\n",
    "%%time\n",
    "knn_hiv_bert_5000 = knn_covid(embeddings_reparsed_all, mask_hiv, k=10, subset_size=5000)"
   ]
  },
  {
   "cell_type": "code",
   "execution_count": null,
   "metadata": {},
   "outputs": [],
   "source": [
    "with open( variables_path / 'verbose_knn_hiv_bert_5000.txt', 'w') as f:\n",
    "    f.write(cap.stdout)"
   ]
  },
  {
   "cell_type": "code",
   "execution_count": 72,
   "metadata": {
    "tags": []
   },
   "outputs": [
    {
     "name": "stdout",
     "output_type": "stream",
     "text": [
      "0.6386000000000001\n"
     ]
    }
   ],
   "source": [
    "print(knn_hiv_bert_5000)"
   ]
  },
  {
   "cell_type": "code",
   "execution_count": null,
   "metadata": {},
   "outputs": [],
   "source": [
    "np.save(variables_path / 'knn_hiv_bert_5000', knn_hiv_bert_5000)"
   ]
  },
  {
   "cell_type": "markdown",
   "metadata": {},
   "source": [
    "## Keyword: influenza"
   ]
  },
  {
   "cell_type": "code",
   "execution_count": null,
   "metadata": {},
   "outputs": [],
   "source": [
    "# import clean_df_updated\n",
    "clean_df_updated_reparsed_filtered = pd.read_pickle(variables_path / \"clean_df_updated_reparsed_filtered\")"
   ]
  },
  {
   "cell_type": "code",
   "execution_count": 10,
   "metadata": {},
   "outputs": [
    {
     "name": "stdout",
     "output_type": "stream",
     "text": [
      "Number of titles with word 1:  88012\n",
      "Number of titles with word 2:  13001\n",
      "Number of titles with word:  90575\n"
     ]
    }
   ],
   "source": [
    "#Neuroscience colors\n",
    "\n",
    "#Buscar neuroscience\n",
    "titles=clean_df_updated_reparsed_filtered['AbstractText']\n",
    "word='influenza'\n",
    "sub1=' '+word\n",
    "sub2=word.capitalize()\n",
    "\n",
    "indexes1= titles.str.find(sub1)\n",
    "indexes2= titles.str.find(sub2)\n",
    "\n",
    "mask_influenza = (indexes1!=-1) | (indexes2!=-1) \n",
    "\n",
    "#information\n",
    "non_1_1=indexes1[indexes1!=-1]\n",
    "print('Number of titles with word 1: ',len(non_1_1))\n",
    "non_1_2=indexes2[indexes2!=-1]\n",
    "print('Number of titles with word 2: ',len(non_1_2))\n",
    "\n",
    "nsc_titles_word=titles[(indexes1!=-1) | (indexes2!=-1)]\n",
    "#print('Number of titles with word small and capital: ',len(non_1_1)+len(non_1_2)-len(nsc_titles_word))\n",
    "print('Number of titles with word: ',len(nsc_titles_word))\n"
   ]
  },
  {
   "cell_type": "code",
   "execution_count": 11,
   "metadata": {},
   "outputs": [],
   "source": [
    "np.save(variables_path / 'mask_influenza', mask_influenza)"
   ]
  },
  {
   "cell_type": "markdown",
   "metadata": {
    "tags": []
   },
   "source": [
    "### TF-IDF"
   ]
  },
  {
   "cell_type": "code",
   "execution_count": null,
   "metadata": {
    "tags": []
   },
   "outputs": [],
   "source": [
    "%%time\n",
    "knn_influenza_tfidf_5000 = knn_covid(tfidf_features_updated_reparsed, mask_influenza, k=10, subset_size=5000)"
   ]
  },
  {
   "cell_type": "code",
   "execution_count": null,
   "metadata": {
    "tags": []
   },
   "outputs": [],
   "source": [
    "np.save(variables_path / 'knn_influenza_tfidf_5000', knn_influenza_tfidf_5000)"
   ]
  },
  {
   "cell_type": "code",
   "execution_count": null,
   "metadata": {
    "tags": []
   },
   "outputs": [],
   "source": [
    "#knn_influenza_tfidf_5000 = np.load(knn_influenza_tfidf_5000 / 'knn_influenza_tfidf_5000.npy')"
   ]
  },
  {
   "cell_type": "code",
   "execution_count": 73,
   "metadata": {
    "tags": []
   },
   "outputs": [
    {
     "name": "stdout",
     "output_type": "stream",
     "text": [
      "0.64142\n"
     ]
    }
   ],
   "source": [
    "print(knn_influenza_tfidf_5000)"
   ]
  },
  {
   "cell_type": "markdown",
   "metadata": {
    "tags": []
   },
   "source": [
    "### BERT"
   ]
  },
  {
   "cell_type": "code",
   "execution_count": null,
   "metadata": {},
   "outputs": [],
   "source": [
    "knn_influenza_bert_5000 = knn_covid(embeddings_reparsed_all, mask_influenza, k=10, subset_size=5000)"
   ]
  },
  {
   "cell_type": "code",
   "execution_count": 74,
   "metadata": {
    "tags": []
   },
   "outputs": [
    {
     "name": "stdout",
     "output_type": "stream",
     "text": [
      "0.57938\n"
     ]
    }
   ],
   "source": [
    "print(knn_influenza_bert_5000)"
   ]
  },
  {
   "cell_type": "code",
   "execution_count": null,
   "metadata": {},
   "outputs": [],
   "source": [
    "np.save(variables_path / 'knn_influenza_bert_5000', knn_influenza_bert_5000)"
   ]
  },
  {
   "cell_type": "markdown",
   "metadata": {},
   "source": [
    "## Label: virology"
   ]
  },
  {
   "cell_type": "code",
   "execution_count": 24,
   "metadata": {},
   "outputs": [],
   "source": [
    "# load\n",
    "# legend colors\n",
    "pickle_in = open(variables_path / \"colors_new_labels_with_more_legend.pkl\",\"rb\")\n",
    "colors_new_labels_with_more_legend = pickle.load(pickle_in)\n",
    "\n",
    "colors_new_labels_with_more = np.load(variables_path / \"colors_new_labels_with_more.npy\", allow_pickle = True)"
   ]
  },
  {
   "cell_type": "code",
   "execution_count": 25,
   "metadata": {},
   "outputs": [
    {
     "data": {
      "text/plain": [
       "'#6F0062'"
      ]
     },
     "execution_count": 25,
     "metadata": {},
     "output_type": "execute_result"
    }
   ],
   "source": [
    "colors_new_labels_with_more_legend['virology']"
   ]
  },
  {
   "cell_type": "code",
   "execution_count": 26,
   "metadata": {},
   "outputs": [],
   "source": [
    "mask_virology = colors_new_labels_with_more == colors_new_labels_with_more_legend['virology']"
   ]
  },
  {
   "cell_type": "code",
   "execution_count": 27,
   "metadata": {},
   "outputs": [
    {
     "data": {
      "text/plain": [
       "112807"
      ]
     },
     "execution_count": 27,
     "metadata": {},
     "output_type": "execute_result"
    }
   ],
   "source": [
    "np.sum(mask_virology)"
   ]
  },
  {
   "cell_type": "markdown",
   "metadata": {
    "tags": []
   },
   "source": [
    "### TF-IDF"
   ]
  },
  {
   "cell_type": "code",
   "execution_count": null,
   "metadata": {
    "tags": []
   },
   "outputs": [],
   "source": [
    "%%time\n",
    "knn_virology_tfidf_5000 = knn_covid(tfidf_features_updated_reparsed, mask_virology, k=10, subset_size=5000)"
   ]
  },
  {
   "cell_type": "code",
   "execution_count": null,
   "metadata": {
    "tags": []
   },
   "outputs": [],
   "source": [
    "np.save(variables_path / 'knn_virology_tfidf_5000', knn_virology_tfidf_5000)"
   ]
  },
  {
   "cell_type": "code",
   "execution_count": 75,
   "metadata": {
    "tags": []
   },
   "outputs": [
    {
     "name": "stdout",
     "output_type": "stream",
     "text": [
      "0.39146000000000003\n"
     ]
    }
   ],
   "source": [
    "print(knn_virology_tfidf_5000)"
   ]
  },
  {
   "cell_type": "markdown",
   "metadata": {
    "tags": []
   },
   "source": [
    "### BERT"
   ]
  },
  {
   "cell_type": "code",
   "execution_count": null,
   "metadata": {},
   "outputs": [],
   "source": [
    "%%time\n",
    "knn_virology_bert_5000 = knn_covid(embeddings_reparsed_all, mask_virology, k=10, subset_size=5000)"
   ]
  },
  {
   "cell_type": "code",
   "execution_count": 76,
   "metadata": {
    "tags": []
   },
   "outputs": [
    {
     "name": "stdout",
     "output_type": "stream",
     "text": [
      "0.47737999999999997\n"
     ]
    }
   ],
   "source": [
    "print(knn_virology_bert_5000)"
   ]
  },
  {
   "cell_type": "code",
   "execution_count": null,
   "metadata": {},
   "outputs": [],
   "source": [
    "np.save(variables_path / 'knn_virology_bert_5000', knn_virology_bert_5000)"
   ]
  },
  {
   "cell_type": "markdown",
   "metadata": {},
   "source": [
    "## Label: ophtalmology"
   ]
  },
  {
   "cell_type": "code",
   "execution_count": 3,
   "metadata": {},
   "outputs": [],
   "source": [
    "# load\n",
    "# legend colors\n",
    "pickle_in = open(variables_path / \"colors_new_labels_with_more_legend.pkl\",\"rb\")\n",
    "colors_new_labels_with_more_legend = pickle.load(pickle_in)\n",
    "\n",
    "colors_new_labels_with_more = np.load(variables_path / \"colors_new_labels_with_more.npy\", allow_pickle = True)"
   ]
  },
  {
   "cell_type": "code",
   "execution_count": 28,
   "metadata": {},
   "outputs": [
    {
     "data": {
      "text/plain": [
       "'#A4E804'"
      ]
     },
     "execution_count": 28,
     "metadata": {},
     "output_type": "execute_result"
    }
   ],
   "source": [
    "colors_new_labels_with_more_legend['ophthalmology']"
   ]
  },
  {
   "cell_type": "code",
   "execution_count": 29,
   "metadata": {},
   "outputs": [],
   "source": [
    "mask_ophthalmology = colors_new_labels_with_more == colors_new_labels_with_more_legend['ophthalmology']"
   ]
  },
  {
   "cell_type": "code",
   "execution_count": 30,
   "metadata": {},
   "outputs": [
    {
     "data": {
      "text/plain": [
       "144411"
      ]
     },
     "execution_count": 30,
     "metadata": {},
     "output_type": "execute_result"
    }
   ],
   "source": [
    "np.sum(mask_ophthalmology)"
   ]
  },
  {
   "cell_type": "markdown",
   "metadata": {
    "tags": []
   },
   "source": [
    "### TF-IDF"
   ]
  },
  {
   "cell_type": "code",
   "execution_count": null,
   "metadata": {
    "tags": []
   },
   "outputs": [],
   "source": [
    "%%time\n",
    "knn_ophthalmology_tfidf_5000 = knn_covid(tfidf_features_updated_reparsed, mask_ophthalmology, k=10, subset_size=5000)"
   ]
  },
  {
   "cell_type": "code",
   "execution_count": null,
   "metadata": {
    "tags": []
   },
   "outputs": [],
   "source": [
    "np.save(variables_path / 'knn_ophthalmology_tfidf_5000', knn_ophthalmology_tfidf_5000)"
   ]
  },
  {
   "cell_type": "code",
   "execution_count": 77,
   "metadata": {
    "tags": []
   },
   "outputs": [
    {
     "name": "stdout",
     "output_type": "stream",
     "text": [
      "0.43632\n"
     ]
    }
   ],
   "source": [
    "print(knn_ophthalmology_tfidf_5000)"
   ]
  },
  {
   "cell_type": "markdown",
   "metadata": {
    "tags": []
   },
   "source": [
    "### BERT"
   ]
  },
  {
   "cell_type": "code",
   "execution_count": null,
   "metadata": {},
   "outputs": [],
   "source": [
    "%%time\n",
    "knn_ophthalmology_bert_5000 = knn_covid(embeddings_reparsed_all, mask_ophthalmology, k=10, subset_size=5000)"
   ]
  },
  {
   "cell_type": "code",
   "execution_count": 78,
   "metadata": {
    "tags": []
   },
   "outputs": [
    {
     "name": "stdout",
     "output_type": "stream",
     "text": [
      "0.47653999999999996\n"
     ]
    }
   ],
   "source": [
    "print(knn_ophthalmology_bert_5000)"
   ]
  },
  {
   "cell_type": "code",
   "execution_count": null,
   "metadata": {},
   "outputs": [],
   "source": [
    "np.save(variables_path / 'knn_ophthalmology_bert_5000', knn_ophthalmology_bert_5000)"
   ]
  },
  {
   "cell_type": "markdown",
   "metadata": {},
   "source": [
    "## Keyword: meta-analysis"
   ]
  },
  {
   "cell_type": "code",
   "execution_count": null,
   "metadata": {},
   "outputs": [],
   "source": [
    "# import clean_df_updated\n",
    "clean_df_updated_reparsed_filtered = pd.read_pickle(variables_path / \"clean_df_updated_reparsed_filtered\")"
   ]
  },
  {
   "cell_type": "code",
   "execution_count": 7,
   "metadata": {},
   "outputs": [
    {
     "name": "stdout",
     "output_type": "stream",
     "text": [
      "Number of titles with word 1:  138378\n",
      "Number of titles with word 2:  16100\n",
      "Number of titles with word:  145358\n"
     ]
    }
   ],
   "source": [
    "#Neuroscience colors\n",
    "\n",
    "#Buscar neuroscience\n",
    "titles=clean_df_updated_reparsed_filtered['AbstractText']\n",
    "word='meta-analysis'\n",
    "sub1=' '+word\n",
    "sub2=word.capitalize()\n",
    "\n",
    "indexes1= titles.str.find(sub1)\n",
    "indexes2= titles.str.find(sub2)\n",
    "\n",
    "mask_meta_analysis = (indexes1!=-1) | (indexes2!=-1) \n",
    "\n",
    "#information\n",
    "non_1_1=indexes1[indexes1!=-1]\n",
    "print('Number of titles with word 1: ',len(non_1_1))\n",
    "non_1_2=indexes2[indexes2!=-1]\n",
    "print('Number of titles with word 2: ',len(non_1_2))\n",
    "\n",
    "nsc_titles_word=titles[(indexes1!=-1) | (indexes2!=-1)]\n",
    "#print('Number of titles with word small and capital: ',len(non_1_1)+len(non_1_2)-len(nsc_titles_word))\n",
    "print('Number of titles with word: ',len(nsc_titles_word))\n"
   ]
  },
  {
   "cell_type": "code",
   "execution_count": 8,
   "metadata": {},
   "outputs": [],
   "source": [
    "np.save(variables_path_path / 'mask_meta_analysis', mask_meta_analysis)"
   ]
  },
  {
   "cell_type": "markdown",
   "metadata": {
    "tags": []
   },
   "source": [
    "### TF-IDF"
   ]
  },
  {
   "cell_type": "code",
   "execution_count": null,
   "metadata": {
    "tags": []
   },
   "outputs": [],
   "source": [
    "%%time\n",
    "knn_meta_analysis_tfidf_5000 = knn_covid(tfidf_features_updated_reparsed, mask_meta_analysis, k=10, subset_size=5000)"
   ]
  },
  {
   "cell_type": "code",
   "execution_count": null,
   "metadata": {
    "tags": []
   },
   "outputs": [],
   "source": [
    "np.save(variables_path / 'knn_meta_analysis_tfidf_5000', knn_meta_analysis_tfidf_5000)"
   ]
  },
  {
   "cell_type": "code",
   "execution_count": 79,
   "metadata": {
    "tags": []
   },
   "outputs": [
    {
     "name": "stdout",
     "output_type": "stream",
     "text": [
      "0.38472\n"
     ]
    }
   ],
   "source": [
    "print(knn_meta_analysis_tfidf_5000)"
   ]
  },
  {
   "cell_type": "code",
   "execution_count": 4,
   "metadata": {
    "tags": []
   },
   "outputs": [],
   "source": [
    "#knn_meta_analysis_tfidf_5000 = np.load(variables_path / 'knn_meta_analysis_tfidf_5000.npy')"
   ]
  },
  {
   "cell_type": "markdown",
   "metadata": {
    "tags": []
   },
   "source": [
    "### BERT"
   ]
  },
  {
   "cell_type": "code",
   "execution_count": null,
   "metadata": {},
   "outputs": [],
   "source": [
    "knn_meta_analysis_bert_5000 = knn_covid(embeddings_reparsed_all, mask_meta_analysis, k=10, subset_size=5000)"
   ]
  },
  {
   "cell_type": "code",
   "execution_count": 80,
   "metadata": {
    "tags": []
   },
   "outputs": [
    {
     "name": "stdout",
     "output_type": "stream",
     "text": [
      "0.52574\n"
     ]
    }
   ],
   "source": [
    "print(knn_meta_analysis_bert_5000)"
   ]
  },
  {
   "cell_type": "code",
   "execution_count": null,
   "metadata": {},
   "outputs": [],
   "source": [
    "np.save(variables_path / 'knn_meta_analysis_bert_5000', knn_meta_analysis_bert_5000)"
   ]
  },
  {
   "cell_type": "markdown",
   "metadata": {},
   "source": [
    "## Keyword: new species"
   ]
  },
  {
   "cell_type": "code",
   "execution_count": null,
   "metadata": {},
   "outputs": [],
   "source": [
    "# import clean_df_updated\n",
    "clean_df_updated_reparsed_filtered = pd.read_pickle(variables_path / \"clean_df_updated_reparsed_filtered\")"
   ]
  },
  {
   "cell_type": "code",
   "execution_count": 82,
   "metadata": {},
   "outputs": [
    {
     "name": "stdout",
     "output_type": "stream",
     "text": [
      "Number of titles with word 1:  27198\n",
      "Number of titles with word 2:  233\n",
      "Number of titles with word:  27354\n"
     ]
    }
   ],
   "source": [
    "#Neuroscience colors\n",
    "\n",
    "#Buscar neuroscience\n",
    "titles=clean_df_updated_reparsed_filtered['AbstractText']\n",
    "word='new species'\n",
    "sub1=' '+word\n",
    "sub2=word.capitalize()\n",
    "\n",
    "indexes1= titles.str.find(sub1)\n",
    "indexes2= titles.str.find(sub2)\n",
    "\n",
    "mask_new_species = (indexes1!=-1) | (indexes2!=-1) \n",
    "\n",
    "#information\n",
    "non_1_1=indexes1[indexes1!=-1]\n",
    "print('Number of titles with word 1: ',len(non_1_1))\n",
    "non_1_2=indexes2[indexes2!=-1]\n",
    "print('Number of titles with word 2: ',len(non_1_2))\n",
    "\n",
    "nsc_titles_word=titles[(indexes1!=-1) | (indexes2!=-1)]\n",
    "#print('Number of titles with word small and capital: ',len(non_1_1)+len(non_1_2)-len(nsc_titles_word))\n",
    "print('Number of titles with word: ',len(nsc_titles_word))\n"
   ]
  },
  {
   "cell_type": "markdown",
   "metadata": {
    "tags": []
   },
   "source": [
    "### TF-IDF"
   ]
  },
  {
   "cell_type": "code",
   "execution_count": null,
   "metadata": {
    "tags": []
   },
   "outputs": [
    {
     "name": "stderr",
     "output_type": "stream",
     "text": [
      "tcmalloc: large alloc 18038185984 bytes == 0xd0f900000 @ \n",
      "tcmalloc: large alloc 18038185984 bytes == 0x3f5e016000 @ \n"
     ]
    }
   ],
   "source": [
    "%%time\n",
    "knn_new_species_tfidf_5000 = knn_covid(tfidf_features_updated_reparsed, mask_new_species, k=10, subset_size=5000)"
   ]
  },
  {
   "cell_type": "code",
   "execution_count": null,
   "metadata": {
    "tags": []
   },
   "outputs": [],
   "source": [
    "np.save(variables_path / 'knn_new_species_tfidf_5000', knn_new_species_tfidf_5000)"
   ]
  },
  {
   "cell_type": "code",
   "execution_count": 90,
   "metadata": {
    "tags": []
   },
   "outputs": [
    {
     "name": "stdout",
     "output_type": "stream",
     "text": [
      "0.40484\n"
     ]
    }
   ],
   "source": [
    "print(knn_new_species_tfidf_5000)"
   ]
  },
  {
   "cell_type": "markdown",
   "metadata": {
    "tags": []
   },
   "source": [
    "### BERT"
   ]
  },
  {
   "cell_type": "code",
   "execution_count": null,
   "metadata": {},
   "outputs": [],
   "source": [
    "knn_new_species_bert_5000 = knn_covid(embeddings_reparsed_all, mask_new_species, k=10, subset_size=5000)"
   ]
  },
  {
   "cell_type": "code",
   "execution_count": 91,
   "metadata": {
    "tags": []
   },
   "outputs": [
    {
     "name": "stdout",
     "output_type": "stream",
     "text": [
      "0.52732\n"
     ]
    }
   ],
   "source": [
    "print(knn_new_species_bert_5000)"
   ]
  },
  {
   "cell_type": "code",
   "execution_count": null,
   "metadata": {},
   "outputs": [],
   "source": [
    "np.save(variables_path / 'knn_new_species_bert_5000', knn_new_species_bert_5000)"
   ]
  }
 ],
 "metadata": {
  "kernelspec": {
   "display_name": "Python 3 (ipykernel)",
   "language": "python",
   "name": "python3"
  },
  "language_info": {
   "codemirror_mode": {
    "name": "ipython",
    "version": 3
   },
   "file_extension": ".py",
   "mimetype": "text/x-python",
   "name": "python",
   "nbconvert_exporter": "python",
   "pygments_lexer": "ipython3",
   "version": "3.8.10"
  }
 },
 "nbformat": 4,
 "nbformat_minor": 4
}
