{
 "cells": [
  {
   "cell_type": "code",
   "execution_count": 2,
   "id": "750e8538-da46-4a00-9591-1fefb2a2979a",
   "metadata": {},
   "outputs": [],
   "source": [
    "%matplotlib notebook\n",
    "\n",
    "import pandas as pd\n",
    "import numpy as np\n",
    "import matplotlib.pyplot as plt\n",
    "import matplotlib\n",
    "\n",
    "import scipy as sp\n",
    "from scipy import sparse\n",
    "import sklearn\n",
    "\n",
    "import time\n",
    "import pickle\n",
    "\n",
    "from sklearn.metrics import accuracy_score\n",
    "\n",
    "from sklearn.neighbors import KNeighborsClassifier\n",
    "from sklearn.decomposition import PCA\n",
    "\n",
    "import memory_profiler\n",
    "%load_ext memory_profiler\n",
    "\n",
    "from pathlib import Path"
   ]
  },
  {
   "cell_type": "code",
   "execution_count": 3,
   "id": "b3f32216-76a0-4a50-b314-006f54407d80",
   "metadata": {},
   "outputs": [
    {
     "name": "stdout",
     "output_type": "stream",
     "text": [
      "1.23.1\n",
      "1.1.1\n"
     ]
    }
   ],
   "source": [
    "print(np.__version__)\n",
    "print(sklearn.__version__)"
   ]
  },
  {
   "cell_type": "code",
   "execution_count": 4,
   "id": "9a8f4d98-9816-476d-960a-1961d84f668e",
   "metadata": {},
   "outputs": [
    {
     "data": {
      "text/html": [
       "\n",
       "                <script type=\"application/javascript\" id=\"jupyter_black\">\n",
       "                (function() {\n",
       "                    if (window.IPython === undefined) {\n",
       "                        return\n",
       "                    }\n",
       "                    var msg = \"WARNING: it looks like you might have loaded \" +\n",
       "                        \"jupyter_black in a non-lab notebook with \" +\n",
       "                        \"`is_lab=True`. Please double check, and if \" +\n",
       "                        \"loading with `%load_ext` please review the README!\"\n",
       "                    console.log(msg)\n",
       "                    alert(msg)\n",
       "                })()\n",
       "                </script>\n",
       "                "
      ],
      "text/plain": [
       "<IPython.core.display.HTML object>"
      ]
     },
     "metadata": {},
     "output_type": "display_data"
    }
   ],
   "source": [
    "import black\n",
    "import jupyter_black\n",
    "\n",
    "jupyter_black.load(line_length=79)"
   ]
  },
  {
   "cell_type": "code",
   "execution_count": 3,
   "id": "fb48320f-8a9a-41c2-a07d-17a934fed04f",
   "metadata": {},
   "outputs": [],
   "source": [
    "%load_ext autoreload\n",
    "%autoreload 2\n",
    "\n",
    "from pubmed_landscape_src.metrics import knn_accuracy_whitening_scores"
   ]
  },
  {
   "cell_type": "code",
   "execution_count": 5,
   "id": "7086dffa-acb3-481a-a00d-9af6bec13ea0",
   "metadata": {},
   "outputs": [],
   "source": [
    "variables_path = Path(\"../results/variables\")\n",
    "figures_path = Path(\"../results/figures\")\n",
    "berenslab_data_path = Path(\"/gpfs01/berens/data/data/pubmed_processed\")"
   ]
  },
  {
   "cell_type": "markdown",
   "id": "5edb6f98-e45c-493a-bd12-adaa13d37e53",
   "metadata": {},
   "source": [
    "# Import"
   ]
  },
  {
   "cell_type": "code",
   "execution_count": 6,
   "id": "c7dde7a1-2f2b-4736-a4a2-65ddbb84543d",
   "metadata": {},
   "outputs": [
    {
     "name": "stdout",
     "output_type": "stream",
     "text": [
      "peak memory: 201.06 MiB, increment: -67.34 MiB\n"
     ]
    },
    {
     "name": "stderr",
     "output_type": "stream",
     "text": [
      "tcmalloc: large alloc 127101853696 bytes == 0x47ba000 @ \n"
     ]
    },
    {
     "name": "stdout",
     "output_type": "stream",
     "text": [
      "CPU times: user 133 ms, sys: 1min 1s, total: 1min 2s\n",
      "Wall time: 1min 43s\n"
     ]
    }
   ],
   "source": [
    "%%time\n",
    "%memit\n",
    "embeddings_reparsed_all=np.load(berenslab_data_path / 'embeddings/embeddings_reparsed_all.npy')"
   ]
  },
  {
   "cell_type": "code",
   "execution_count": 7,
   "id": "8d93a9da-71a8-4f52-9fdb-7de99f512544",
   "metadata": {},
   "outputs": [],
   "source": [
    "#save results\n",
    "colors_new = np.load(variables_path / \"colors_new.npy\", allow_pickle = True)"
   ]
  },
  {
   "cell_type": "code",
   "execution_count": 8,
   "id": "5ecc04db-6cf9-49b9-bd7f-ee174eeb2004",
   "metadata": {},
   "outputs": [],
   "source": [
    "pickle_in = open(variables_path / \"colors_new_legend.pkl\",\"rb\")\n",
    "colors_new_legend = pickle.load(pickle_in)"
   ]
  },
  {
   "cell_type": "markdown",
   "id": "55538461-3b4b-4cf3-a3b1-1c4c35de6052",
   "metadata": {},
   "source": [
    "## Labels"
   ]
  },
  {
   "cell_type": "code",
   "execution_count": 9,
   "id": "9a8c9124-4c93-422a-ae2c-4f552461803d",
   "metadata": {},
   "outputs": [],
   "source": [
    "# define vocabulary swap\n",
    "new_colors_legend_swap = {value:key for key, value in colors_new_legend.items()}"
   ]
  },
  {
   "cell_type": "code",
   "execution_count": 10,
   "id": "ad45399b-a843-452e-9b0d-448e475eb27a",
   "metadata": {},
   "outputs": [],
   "source": [
    "labels = np.vectorize(new_colors_legend_swap.get)(colors_new)"
   ]
  },
  {
   "cell_type": "code",
   "execution_count": 11,
   "id": "5a8e4ae2-6e4f-4bca-a21a-5c8b960c42c5",
   "metadata": {},
   "outputs": [],
   "source": [
    "labels = np.where(colors_new == 'lightgrey', 'unlabeled', labels)"
   ]
  },
  {
   "cell_type": "code",
   "execution_count": 12,
   "id": "66522a31-ab2f-4a83-a9f3-1bf2164a12e3",
   "metadata": {},
   "outputs": [
    {
     "data": {
      "text/plain": [
       "array(['unlabeled', 'unlabeled', 'unlabeled', 'unlabeled', 'unlabeled',\n",
       "       'unlabeled', 'unlabeled', 'unlabeled', 'unlabeled', 'unlabeled',\n",
       "       'unlabeled', 'unlabeled', 'unlabeled', 'unlabeled', 'unlabeled',\n",
       "       'unlabeled', 'unlabeled', 'unlabeled', 'unlabeled', 'unlabeled',\n",
       "       'unlabeled', 'unlabeled', 'unlabeled', 'unlabeled', 'unlabeled',\n",
       "       'unlabeled', 'unlabeled', 'unlabeled', 'unlabeled', 'unlabeled',\n",
       "       'unlabeled', 'cardiology', 'cardiology', 'cardiology',\n",
       "       'cardiology', 'cardiology', 'cardiology', 'cardiology',\n",
       "       'cardiology', 'unlabeled', 'unlabeled', 'unlabeled', 'unlabeled',\n",
       "       'unlabeled', 'unlabeled', 'unlabeled', 'unlabeled', 'unlabeled',\n",
       "       'unlabeled', 'unlabeled'], dtype=object)"
      ]
     },
     "execution_count": 12,
     "metadata": {},
     "output_type": "execute_result"
    }
   ],
   "source": [
    "labels[500:550]"
   ]
  },
  {
   "cell_type": "code",
   "execution_count": 13,
   "id": "6c831778-1e63-4b7a-882d-e6b264bd7a7f",
   "metadata": {},
   "outputs": [
    {
     "name": "stderr",
     "output_type": "stream",
     "text": [
      "tcmalloc: large alloc 43768053760 bytes == 0x1dc74d4000 @ \n"
     ]
    },
    {
     "data": {
      "text/plain": [
       "(7123706, 768)"
      ]
     },
     "execution_count": 13,
     "metadata": {},
     "output_type": "execute_result"
    }
   ],
   "source": [
    "embeddings_labeled = embeddings_reparsed_all[labels != 'unlabeled']\n",
    "embeddings_labeled.shape"
   ]
  },
  {
   "cell_type": "code",
   "execution_count": 14,
   "id": "6a5fcf0f-67c1-48e3-8ec1-2af679891807",
   "metadata": {},
   "outputs": [],
   "source": [
    "labels_labeled = labels[labels != 'unlabeled']"
   ]
  },
  {
   "cell_type": "markdown",
   "id": "227e991a-8801-4b6c-b36b-05feef1b50eb",
   "metadata": {},
   "source": [
    "## Subset of BERT embeddings"
   ]
  },
  {
   "cell_type": "code",
   "execution_count": 79,
   "id": "8d819643-b557-41d4-9f0d-22c3360cb8dc",
   "metadata": {},
   "outputs": [
    {
     "data": {
      "text/plain": [
       "(100000, 768)"
      ]
     },
     "execution_count": 79,
     "metadata": {},
     "output_type": "execute_result"
    }
   ],
   "source": [
    "np.random.seed(42)\n",
    "subset = np.random.choice(embeddings_labeled.shape[0], size=100000, replace=False)\n",
    "embeddings_subset = embeddings_labeled[subset]\n",
    "labels_subset = labels_labeled[subset]\n",
    "embeddings_subset.shape"
   ]
  },
  {
   "cell_type": "code",
   "execution_count": 80,
   "id": "975dbb08-829c-459c-929c-badffd63115d",
   "metadata": {},
   "outputs": [],
   "source": [
    "np.save(berenslab_data_path / 'embeddings_subset', embeddings_subset)\n",
    "np.save(berenslab_data_path / 'labels_subset', labels_subset)"
   ]
  },
  {
   "cell_type": "markdown",
   "id": "dd4666e2-d228-45de-b5c5-28f88a21d9c6",
   "metadata": {
    "tags": []
   },
   "source": [
    "# Experiment"
   ]
  },
  {
   "cell_type": "code",
   "execution_count": null,
   "id": "59886217-8dba-4d20-9965-8f143affbbe9",
   "metadata": {},
   "outputs": [
    {
     "name": "stderr",
     "output_type": "stream",
     "text": [
      "tcmalloc: large alloc 43768053760 bytes == 0x322f440000 @ \n",
      "tcmalloc: large alloc 43768053760 bytes == 0x3da9248000 @ \n",
      "tcmalloc: large alloc 43768053760 bytes == 0x5c42fb0000 @ \n",
      "tcmalloc: large alloc 43768053760 bytes == 0x6676428000 @ \n",
      "tcmalloc: large alloc 43768053760 bytes == 0x5c42fb0000 @ \n",
      "tcmalloc: large alloc 43764981760 bytes == 0x47dc6c0000 @ \n",
      "tcmalloc: large alloc 43764981760 bytes == 0x3da9248000 @ \n",
      "tcmalloc: large alloc 43764981760 bytes == 0x47dc6c0000 @ \n",
      "tcmalloc: large alloc 43764981760 bytes == 0x47dc6c0000 @ \n",
      "tcmalloc: large alloc 43764981760 bytes == 0x47dc6c0000 @ \n",
      "tcmalloc: large alloc 43764981760 bytes == 0x47dc6c0000 @ \n",
      "tcmalloc: large alloc 43764981760 bytes == 0x47dc6c0000 @ \n",
      "tcmalloc: large alloc 43764981760 bytes == 0x47dc6c0000 @ \n",
      "tcmalloc: large alloc 43764981760 bytes == 0x47dc6c0000 @ \n",
      "tcmalloc: large alloc 43764981760 bytes == 0x47dc6c0000 @ \n",
      "tcmalloc: large alloc 43764981760 bytes == 0x47dc6c0000 @ \n",
      "tcmalloc: large alloc 43764981760 bytes == 0x47dc6c0000 @ \n",
      "tcmalloc: large alloc 43764981760 bytes == 0x47dc6c0000 @ \n",
      "tcmalloc: large alloc 43764981760 bytes == 0x47dc6c0000 @ \n",
      "tcmalloc: large alloc 43764981760 bytes == 0x47dc6c0000 @ \n",
      "tcmalloc: large alloc 43764981760 bytes == 0x47dc6c0000 @ \n",
      "tcmalloc: large alloc 43764981760 bytes == 0x47dc6c0000 @ \n",
      "tcmalloc: large alloc 43764981760 bytes == 0x47dc6c0000 @ \n",
      "tcmalloc: large alloc 43764981760 bytes == 0x47dc6c0000 @ \n",
      "tcmalloc: large alloc 43764981760 bytes == 0x47dc6c0000 @ \n",
      "tcmalloc: large alloc 43764981760 bytes == 0x47dc6c0000 @ \n",
      "tcmalloc: large alloc 43764981760 bytes == 0x47dc6c0000 @ \n",
      "tcmalloc: large alloc 43764981760 bytes == 0x47dc6c0000 @ \n",
      "tcmalloc: large alloc 43764981760 bytes == 0x47dc6c0000 @ \n",
      "tcmalloc: large alloc 43764981760 bytes == 0x47dc6c0000 @ \n",
      "tcmalloc: large alloc 43764981760 bytes == 0x47dc6c0000 @ \n",
      "tcmalloc: large alloc 43764981760 bytes == 0x47dc6c0000 @ \n",
      "tcmalloc: large alloc 43764981760 bytes == 0x47dc6c0000 @ \n",
      "tcmalloc: large alloc 43764981760 bytes == 0x47dc6c0000 @ \n",
      "tcmalloc: large alloc 43764981760 bytes == 0x47dc6c0000 @ \n",
      "tcmalloc: large alloc 43764981760 bytes == 0x47dc6c0000 @ \n",
      "tcmalloc: large alloc 43764981760 bytes == 0x3da9248000 @ \n",
      "tcmalloc: large alloc 43764981760 bytes == 0x47dc6c0000 @ \n",
      "tcmalloc: large alloc 43764981760 bytes == 0x47dc6c0000 @ \n",
      "tcmalloc: large alloc 43764981760 bytes == 0x47dc6c0000 @ \n",
      "tcmalloc: large alloc 43764981760 bytes == 0x47dc6c0000 @ \n",
      "tcmalloc: large alloc 43764981760 bytes == 0x47dc6c0000 @ \n",
      "tcmalloc: large alloc 43764981760 bytes == 0x47dc6c0000 @ \n",
      "tcmalloc: large alloc 43764981760 bytes == 0x47dc6c0000 @ \n",
      "tcmalloc: large alloc 43764981760 bytes == 0x47dc6c0000 @ \n",
      "tcmalloc: large alloc 43764981760 bytes == 0x47dc6c0000 @ \n",
      "tcmalloc: large alloc 43764981760 bytes == 0x47dc6c0000 @ \n"
     ]
    }
   ],
   "source": [
    "%%time\n",
    "knn_accuracy_bert_centered_and_whitened = knn_accuracy_whitening_scores(embeddings_labeled, labels_labeled, ntest=500, rs=23)"
   ]
  },
  {
   "cell_type": "code",
   "execution_count": 32,
   "id": "cafc7797-f407-4795-88df-4faf0b477a34",
   "metadata": {},
   "outputs": [
    {
     "name": "stdout",
     "output_type": "stream",
     "text": [
      "[[0.678 0.678]\n",
      " [0.678 0.674]\n",
      " [0.642 0.654]]\n"
     ]
    }
   ],
   "source": [
    "#rs=23\n",
    "print(knn_accuracy_bert_centered_and_whitened)"
   ]
  },
  {
   "cell_type": "code",
   "execution_count": null,
   "id": "bf1c5ab5-4123-48f6-a319-491327d584c9",
   "metadata": {},
   "outputs": [],
   "source": [
    "np.save(variables_path / \"knn_accuracy_bert_centered_and_whitened\", knn_accuracy_bert_centered_and_whitened)"
   ]
  }
 ],
 "metadata": {
  "kernelspec": {
   "display_name": "Python 3 (ipykernel)",
   "language": "python",
   "name": "python3"
  },
  "language_info": {
   "codemirror_mode": {
    "name": "ipython",
    "version": 3
   },
   "file_extension": ".py",
   "mimetype": "text/x-python",
   "name": "python",
   "nbconvert_exporter": "python",
   "pygments_lexer": "ipython3",
   "version": "3.8.10"
  }
 },
 "nbformat": 4,
 "nbformat_minor": 5
}
