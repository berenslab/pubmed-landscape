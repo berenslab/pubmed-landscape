{
 "cells": [
  {
   "cell_type": "code",
   "execution_count": 1,
   "id": "08869943-5f38-4762-b517-8c8d23e00d6a",
   "metadata": {},
   "outputs": [],
   "source": [
    "%matplotlib notebook\n",
    "\n",
    "import pandas as pd\n",
    "import numpy as np\n",
    "import matplotlib.pyplot as plt\n",
    "import matplotlib as mpl\n",
    "import string\n",
    "from matplotlib import gridspec\n",
    "\n",
    "import time\n",
    "import pickle\n",
    "\n",
    "import memory_profiler\n",
    "\n",
    "%load_ext memory_profiler\n",
    "\n",
    "from pathlib import Path"
   ]
  },
  {
   "cell_type": "code",
   "execution_count": 2,
   "id": "b0f1b1c1-a9e0-45f1-82a1-56aaf04bf44c",
   "metadata": {},
   "outputs": [
    {
     "data": {
      "text/plain": [
       "'3.6.2'"
      ]
     },
     "execution_count": 2,
     "metadata": {},
     "output_type": "execute_result"
    }
   ],
   "source": [
    "mpl.__version__"
   ]
  },
  {
   "cell_type": "code",
   "execution_count": 3,
   "id": "6d15f3a0-a8b6-4586-9c8e-523a9fedd2ba",
   "metadata": {},
   "outputs": [
    {
     "data": {
      "text/html": [
       "\n",
       "                <script type=\"application/javascript\" id=\"jupyter_black\">\n",
       "                (function() {\n",
       "                    if (window.IPython === undefined) {\n",
       "                        return\n",
       "                    }\n",
       "                    var msg = \"WARNING: it looks like you might have loaded \" +\n",
       "                        \"jupyter_black in a non-lab notebook with \" +\n",
       "                        \"`is_lab=True`. Please double check, and if \" +\n",
       "                        \"loading with `%load_ext` please review the README!\"\n",
       "                    console.log(msg)\n",
       "                    alert(msg)\n",
       "                })()\n",
       "                </script>\n",
       "                "
      ],
      "text/plain": [
       "<IPython.core.display.HTML object>"
      ]
     },
     "metadata": {},
     "output_type": "display_data"
    }
   ],
   "source": [
    "import black\n",
    "import jupyter_black\n",
    "\n",
    "jupyter_black.load(line_length=79)"
   ]
  },
  {
   "cell_type": "code",
   "execution_count": 4,
   "id": "d4661aa0-d39d-4c72-98c0-3e33bc9eb8b7",
   "metadata": {},
   "outputs": [],
   "source": [
    "%load_ext autoreload\n",
    "%autoreload 2\n",
    "\n",
    "from pubmed_landscape_src.plotting import *"
   ]
  },
  {
   "cell_type": "code",
   "execution_count": 5,
   "id": "a17ce883-780a-4aca-a303-5b4e32d4fa5d",
   "metadata": {},
   "outputs": [],
   "source": [
    "variables_path = Path(\"../../results/variables\")\n",
    "figures_path = Path(\"../../results/figures\")\n",
    "berenslab_data_path = Path(\"/gpfs01/berens/data/data/pubmed_processed\")"
   ]
  },
  {
   "cell_type": "code",
   "execution_count": 6,
   "id": "e278c81f-03a5-4977-8e03-cc3c3e9246fe",
   "metadata": {},
   "outputs": [],
   "source": [
    "plt.style.use(\"../matplotlib_style.txt\")"
   ]
  },
  {
   "cell_type": "markdown",
   "id": "92a37f20-7427-4a28-a76c-33136d7e3437",
   "metadata": {},
   "source": [
    "## Fig S1: Summary of the PubMed dataset"
   ]
  },
  {
   "cell_type": "markdown",
   "id": "d4fa9941-5e72-41ad-b2a6-8e469ccaa384",
   "metadata": {
    "tags": []
   },
   "source": [
    "### Import"
   ]
  },
  {
   "cell_type": "code",
   "execution_count": 7,
   "id": "0c46127c-362d-4df9-bb7c-8a37dd363640",
   "metadata": {},
   "outputs": [
    {
     "name": "stderr",
     "output_type": "stream",
     "text": [
      "tcmalloc: large alloc 1073741824 bytes == 0x8c14fa000 @ \n",
      "tcmalloc: large alloc 1233903616 bytes == 0x96b48c000 @ \n"
     ]
    }
   ],
   "source": [
    "clean_df_updated_reparsed_filtered = pd.read_pickle(\n",
    "    berenslab_data_path / \"clean_df_updated_reparsed_filtered\"\n",
    ")"
   ]
  },
  {
   "cell_type": "code",
   "execution_count": 8,
   "id": "bc6b52e9-1a58-4fb0-9253-8a9e80271dce",
   "metadata": {},
   "outputs": [],
   "source": [
    "all_abstracts = clean_df_updated_reparsed_filtered.AbstractText"
   ]
  },
  {
   "cell_type": "code",
   "execution_count": 9,
   "id": "dc447d9c-a6ed-4f77-91d2-5bd2d5c9bdc7",
   "metadata": {},
   "outputs": [],
   "source": [
    "date_year = np.load(variables_path / \"date_year_reparsed.npy\")"
   ]
  },
  {
   "cell_type": "code",
   "execution_count": 10,
   "id": "6080ade2-8fe2-4bd9-8a18-ed5e314ad86a",
   "metadata": {},
   "outputs": [],
   "source": [
    "year_name_gender_first_author_df = pd.read_pickle(\n",
    "    variables_path / \"year_name_gender_first_author_df\"\n",
    ")\n",
    "year_name_gender_last_author_df = pd.read_pickle(\n",
    "    variables_path / \"year_name_gender_last_author_df\"\n",
    ")"
   ]
  },
  {
   "cell_type": "code",
   "execution_count": 11,
   "id": "29f921fd-c349-45db-ba8f-0c43ab0d230a",
   "metadata": {},
   "outputs": [],
   "source": [
    "gender_first_author = year_name_gender_first_author_df.Gender.to_numpy()\n",
    "names_first_author = year_name_gender_first_author_df.Names.to_numpy()"
   ]
  },
  {
   "cell_type": "code",
   "execution_count": 12,
   "id": "8e808ddb-3214-4cda-a347-b8e6d96674ca",
   "metadata": {},
   "outputs": [],
   "source": [
    "gender_last_author = year_name_gender_last_author_df.Gender.to_numpy()\n",
    "names_last_author = year_name_gender_last_author_df.Names.to_numpy()"
   ]
  },
  {
   "cell_type": "markdown",
   "id": "1a4053db-dc53-45d3-8991-e198b9119083",
   "metadata": {},
   "source": [
    "### Calculation"
   ]
  },
  {
   "cell_type": "code",
   "execution_count": 13,
   "id": "e03b23b7-3af8-4eae-8dbb-ad3a03e0334b",
   "metadata": {},
   "outputs": [
    {
     "name": "stdout",
     "output_type": "stream",
     "text": [
      "CPU times: user 4.41 s, sys: 488 ms, total: 4.9 s\n",
      "Wall time: 4.91 s\n"
     ]
    }
   ],
   "source": [
    "%%time\n",
    "len_abstracts_characters = [len(x) for x in all_abstracts]"
   ]
  },
  {
   "cell_type": "code",
   "execution_count": 14,
   "id": "7ed5fde9-c124-441b-94b5-98a2fb0d910e",
   "metadata": {},
   "outputs": [
    {
     "name": "stdout",
     "output_type": "stream",
     "text": [
      "CPU times: user 3min 8s, sys: 2.77 s, total: 3min 11s\n",
      "Wall time: 3min 11s\n"
     ]
    }
   ],
   "source": [
    "%%time\n",
    "len_abstracts_words = [len(elem.split()) for elem in all_abstracts]"
   ]
  },
  {
   "cell_type": "code",
   "execution_count": 15,
   "id": "19fdc387-d324-4db2-9546-607b4b58a6b5",
   "metadata": {},
   "outputs": [],
   "source": [
    "len_abstracts_characters = np.array(len_abstracts_characters)\n",
    "len_abstracts_words = np.array(len_abstracts_words)"
   ]
  },
  {
   "cell_type": "markdown",
   "id": "c5af5bfb-f21e-4345-8e1b-babde06106c8",
   "metadata": {},
   "source": [
    "#### (a)"
   ]
  },
  {
   "cell_type": "code",
   "execution_count": 16,
   "id": "b49ee9ad-6531-4b27-9131-636bc723f1b7",
   "metadata": {},
   "outputs": [],
   "source": [
    "bin_edges_characters = np.arange(230, 4000, 20)"
   ]
  },
  {
   "cell_type": "code",
   "execution_count": 17,
   "id": "9d845b15-b195-40e1-9a9c-0a9bf81e26c8",
   "metadata": {},
   "outputs": [
    {
     "name": "stdout",
     "output_type": "stream",
     "text": [
      "CPU times: user 970 ms, sys: 922 µs, total: 971 ms\n",
      "Wall time: 972 ms\n"
     ]
    }
   ],
   "source": [
    "%%time\n",
    "\n",
    "counts_characters, bins_characters = np.histogram(\n",
    "    len_abstracts_characters, bins=bin_edges_characters\n",
    ")"
   ]
  },
  {
   "cell_type": "markdown",
   "id": "838a2b16-d633-4ef7-b706-8d2b209d6879",
   "metadata": {},
   "source": [
    "#### (b)"
   ]
  },
  {
   "cell_type": "code",
   "execution_count": 18,
   "id": "08a90e10-7edb-4dd0-a01e-7bb26ce1e693",
   "metadata": {},
   "outputs": [],
   "source": [
    "bin_edges_words = np.arange(1, 724, 2)"
   ]
  },
  {
   "cell_type": "code",
   "execution_count": 19,
   "id": "e706ff2e-ee22-454a-8ad1-5d663996b60a",
   "metadata": {},
   "outputs": [
    {
     "name": "stdout",
     "output_type": "stream",
     "text": [
      "CPU times: user 763 ms, sys: 117 µs, total: 763 ms\n",
      "Wall time: 764 ms\n"
     ]
    }
   ],
   "source": [
    "%%time\n",
    "\n",
    "counts_words, bins_words = np.histogram(\n",
    "    len_abstracts_words, bins=bin_edges_words\n",
    ")"
   ]
  },
  {
   "cell_type": "markdown",
   "id": "47245aa3-48a7-420a-a4b8-df00a51a7b9e",
   "metadata": {},
   "source": [
    "#### (c)"
   ]
  },
  {
   "cell_type": "code",
   "execution_count": 20,
   "id": "003c118c-7f4e-4f58-ac8d-eb86b1508c5f",
   "metadata": {},
   "outputs": [],
   "source": [
    "unique_years, count_years = np.unique(\n",
    "    date_year[(date_year >= 1970) & (date_year <= 2021)], return_counts=True\n",
    ")"
   ]
  },
  {
   "cell_type": "code",
   "execution_count": 21,
   "id": "8acb0fb3-0cb7-48a0-b07d-311307736794",
   "metadata": {},
   "outputs": [],
   "source": [
    "dates_available_names_first = date_year[names_first_author != \"\"]"
   ]
  },
  {
   "cell_type": "code",
   "execution_count": 22,
   "id": "afab30ed-25ee-453f-87af-26a5906eb1bc",
   "metadata": {},
   "outputs": [],
   "source": [
    "unique_dates_available_first, number_available_names_first = np.unique(\n",
    "    dates_available_names_first[\n",
    "        (dates_available_names_first >= 1970)\n",
    "        & (dates_available_names_first <= 2021)\n",
    "    ],\n",
    "    return_counts=True,\n",
    ")"
   ]
  },
  {
   "cell_type": "code",
   "execution_count": 23,
   "id": "b906273e-2106-4b52-ade3-270c7ba042f7",
   "metadata": {},
   "outputs": [],
   "source": [
    "dates_available_names_last = date_year[names_last_author != \"\"]"
   ]
  },
  {
   "cell_type": "code",
   "execution_count": 24,
   "id": "d2ea484e-e9f1-4a23-854f-55828d9d4689",
   "metadata": {},
   "outputs": [],
   "source": [
    "unique_dates_available_last, number_available_names_last = np.unique(\n",
    "    dates_available_names_last[\n",
    "        (dates_available_names_last >= 1970)\n",
    "        & (dates_available_names_last <= 2021)\n",
    "    ],\n",
    "    return_counts=True,\n",
    ")"
   ]
  },
  {
   "cell_type": "code",
   "execution_count": 25,
   "id": "d063aee1-8577-4907-841a-b27e9f1a5664",
   "metadata": {},
   "outputs": [],
   "source": [
    "dates_predicted_names_first = date_year[gender_first_author != \"unknown\"]"
   ]
  },
  {
   "cell_type": "code",
   "execution_count": 26,
   "id": "43377e52-4cf7-40be-9da9-fac52b4a2cb2",
   "metadata": {},
   "outputs": [],
   "source": [
    "unique_dates_predicted_first, number_predicted_names_first = np.unique(\n",
    "    dates_predicted_names_first[\n",
    "        (dates_predicted_names_first >= 1970)\n",
    "        & (dates_predicted_names_first <= 2021)\n",
    "    ],\n",
    "    return_counts=True,\n",
    ")"
   ]
  },
  {
   "cell_type": "code",
   "execution_count": 27,
   "id": "06c2cf88-bb37-4057-a004-010b480038e8",
   "metadata": {},
   "outputs": [],
   "source": [
    "dates_predicted_names_last = date_year[gender_last_author != \"unknown\"]"
   ]
  },
  {
   "cell_type": "code",
   "execution_count": 28,
   "id": "90ad530c-a1aa-4e53-880a-c21d7f632834",
   "metadata": {},
   "outputs": [],
   "source": [
    "unique_dates_predicted_last, number_predicted_names_last = np.unique(\n",
    "    dates_predicted_names_last[\n",
    "        (dates_predicted_names_last >= 1970)\n",
    "        & (dates_predicted_names_last <= 2021)\n",
    "    ],\n",
    "    return_counts=True,\n",
    ")"
   ]
  },
  {
   "cell_type": "markdown",
   "id": "693a8fcf-f1b5-4a4b-ab5c-f79f0aa983d7",
   "metadata": {},
   "source": [
    "### Plot"
   ]
  },
  {
   "cell_type": "code",
   "execution_count": 29,
   "id": "2391e6fb-45d2-4cf6-a93c-ea7991353ac7",
   "metadata": {},
   "outputs": [
    {
     "data": {
      "image/png": "[encoded data removed]",
      "text/plain": [
       "<Figure size 1440x400 with 3 Axes>"
      ]
     },
     "metadata": {
      "needs_background": "light"
     },
     "output_type": "display_data"
    }
   ],
   "source": [
    "%matplotlib inline\n",
    "txtkwargs = dict(size=8, weight=\"bold\", va=\"top\", ha=\"left\")\n",
    "\n",
    "fig, ax = plt.subplots(1, 3, figsize=(7.2, 2), dpi=200, layout=\"constrained\")\n",
    "\n",
    "ax[0].hist(bins_characters[:-1], bins_characters, weights=counts_characters)\n",
    "ax[0].set_ylabel(\"Number of papers (thousands)\")\n",
    "ax[0].set_xlabel(\"Number of abstract characters\")\n",
    "ax[0].set_yticks(np.arange(0, 400, 50) * 1000)\n",
    "ax[0].set_yticklabels(np.arange(0, 400, 50))\n",
    "ax[0].set_xlim(0, 3500)\n",
    "ax[0].set_ylim(0, 350 * 1e3)\n",
    "ax[0].text(\n",
    "    -0.15,\n",
    "    1.08,\n",
    "    string.ascii_lowercase[0],\n",
    "    transform=ax[0].transAxes,\n",
    "    **txtkwargs\n",
    ")\n",
    "\n",
    "ax[1].hist(bins_words[:-1], bins_words, weights=counts_words)\n",
    "ax[1].set_ylabel(\"Number of papers (thousands)\")\n",
    "ax[1].set_xlabel(\"Number of abstract words\")\n",
    "ax[1].set_yticks(np.arange(0, 400, 50) * 1000)\n",
    "ax[1].set_yticklabels(np.arange(0, 400, 50))\n",
    "ax[1].set_xlim(0, 500)\n",
    "ax[1].text(\n",
    "    -0.15,\n",
    "    1.08,\n",
    "    string.ascii_lowercase[1],\n",
    "    transform=ax[1].transAxes,\n",
    "    **txtkwargs\n",
    ")\n",
    "\n",
    "\n",
    "ax[2].plot(\n",
    "    unique_years,\n",
    "    count_years,\n",
    "    \".-\",\n",
    "    label=\"Number of papers\",\n",
    "    markersize=1,\n",
    "    clip_on=False,\n",
    ")\n",
    "ax[2].plot(\n",
    "    unique_dates_available_first,\n",
    "    number_available_names_first,\n",
    "    \"-\",\n",
    "    label=\"Available first author names\",\n",
    "    markersize=0.5,\n",
    "    clip_on=False,\n",
    ")\n",
    "ax[2].plot(\n",
    "    unique_dates_available_last,\n",
    "    number_available_names_last,\n",
    "    \"--\",\n",
    "    c=\"tab:orange\",\n",
    "    label=\"Available last author names\",\n",
    "    markersize=1,\n",
    "    clip_on=False,\n",
    ")\n",
    "ax[2].plot(\n",
    "    unique_dates_predicted_first,\n",
    "    number_predicted_names_first,\n",
    "    \"-\",\n",
    "    label=\"Predicted first author names\",\n",
    "    markersize=1,\n",
    "    clip_on=False,\n",
    ")\n",
    "ax[2].plot(\n",
    "    unique_dates_predicted_last,\n",
    "    number_predicted_names_last,\n",
    "    \"--\",\n",
    "    c=\"tab:green\",\n",
    "    label=\"Predicted last author names\",\n",
    "    markersize=1,\n",
    "    clip_on=False,\n",
    ")\n",
    "ax[2].legend()\n",
    "ax[2].set_ylabel(\"Number of papers (millions)\")\n",
    "ax[2].set_xlabel(\"Publication year\")\n",
    "ax[2].set_yticks(np.arange(0, 1.6, 0.2) * 1e6)\n",
    "ax[2].set_yticklabels([0.0, 0.2, 0.4, 0.6, 0.8, 1.0, 1.2, 1.4])\n",
    "ax[2].set_ylim(0, 1.4e6)\n",
    "ax[2].spines.bottom.set_bounds(1970, 2021)\n",
    "ax[2].text(\n",
    "    -0.15,\n",
    "    1.08,\n",
    "    string.ascii_lowercase[2],\n",
    "    transform=ax[2].transAxes,\n",
    "    **txtkwargs\n",
    ")\n",
    "\n",
    "\n",
    "fig.savefig(figures_path / \"fig_S1_summary_data.pdf\")\n",
    "fig.savefig(figures_path / \"fig_S1_summary_data.png\")"
   ]
  }
 ],
 "metadata": {
  "kernelspec": {
   "display_name": "Python 3 (ipykernel)",
   "language": "python",
   "name": "python3"
  },
  "language_info": {
   "codemirror_mode": {
    "name": "ipython",
    "version": 3
   },
   "file_extension": ".py",
   "mimetype": "text/x-python",
   "name": "python",
   "nbconvert_exporter": "python",
   "pygments_lexer": "ipython3",
   "version": "3.8.10"
  }
 },
 "nbformat": 4,
 "nbformat_minor": 5
}
