{
 "cells": [
  {
   "cell_type": "code",
   "execution_count": 1,
   "metadata": {},
   "outputs": [],
   "source": [
    "import pandas as pd\n",
    "import numpy as np\n",
    "import random\n",
    "from random import randint\n",
    "\n",
    "import torch\n",
    "from transformers import AutoTokenizer, AutoModel\n",
    "from tqdm.notebook import tqdm\n",
    "\n",
    "import time\n",
    "\n",
    "import memory_profiler\n",
    "%load_ext memory_profiler\n",
    "\n",
    "from pathlib import Path"
   ]
  },
  {
   "cell_type": "code",
   "execution_count": 2,
   "metadata": {},
   "outputs": [
    {
     "data": {
      "text/html": [
       "\n",
       "                <script type=\"application/javascript\" id=\"jupyter_black\">\n",
       "                (function() {\n",
       "                    if (window.IPython === undefined) {\n",
       "                        return\n",
       "                    }\n",
       "                    var msg = \"WARNING: it looks like you might have loaded \" +\n",
       "                        \"jupyter_black in a non-lab notebook with \" +\n",
       "                        \"`is_lab=True`. Please double check, and if \" +\n",
       "                        \"loading with `%load_ext` please review the README!\"\n",
       "                    console.log(msg)\n",
       "                    alert(msg)\n",
       "                })()\n",
       "                </script>\n",
       "                "
      ],
      "text/plain": [
       "<IPython.core.display.HTML object>"
      ]
     },
     "metadata": {},
     "output_type": "display_data"
    }
   ],
   "source": [
    "import black\n",
    "import jupyter_black\n",
    "\n",
    "jupyter_black.load(line_length=79)"
   ]
  },
  {
   "cell_type": "code",
   "execution_count": 3,
   "metadata": {},
   "outputs": [],
   "source": [
    "%load_ext autoreload\n",
    "%autoreload 2\n",
    "\n",
    "from pubmed_landscape_src.data import generate_embeddings_batches"
   ]
  },
  {
   "cell_type": "code",
   "execution_count": 4,
   "metadata": {},
   "outputs": [],
   "source": [
    "variables_path = Path(\"../../results/variables/2024_baseline\")\n",
    "figures_path = Path(\"../../results/figures/2024_baseline\")\n",
    "berenslab_data_path = Path(\"/gpfs01/berens/data/data/pubmed_processed\")\n",
    "\n",
    "saving_path = Path(\"embeddings/2024_baseline\")"
   ]
  },
  {
   "cell_type": "markdown",
   "metadata": {},
   "source": [
    "# Import dataframe"
   ]
  },
  {
   "cell_type": "code",
   "execution_count": 5,
   "metadata": {},
   "outputs": [
    {
     "name": "stdout",
     "output_type": "stream",
     "text": [
      "peak memory: 67054.64 MiB, increment: 66472.96 MiB\n",
      "CPU times: user 57.5 s, sys: 42.7 s, total: 1min 40s\n",
      "Wall time: 1min 39s\n"
     ]
    }
   ],
   "source": [
    "%%time\n",
    "%%memit\n",
    "# import clean_2024_df\n",
    "clean_2024_df = pd.read_pickle(variables_path / \"clean_2024_df\")"
   ]
  },
  {
   "cell_type": "code",
   "execution_count": 6,
   "metadata": {},
   "outputs": [],
   "source": [
    "# extract abstract texts\n",
    "abstracts = clean_2024_df[\"AbstractText\"].tolist()"
   ]
  },
  {
   "cell_type": "code",
   "execution_count": 7,
   "metadata": {
    "scrolled": true
   },
   "outputs": [
    {
     "data": {
      "text/html": [
       "<div>\n",
       "<style scoped>\n",
       "    .dataframe tbody tr th:only-of-type {\n",
       "        vertical-align: middle;\n",
       "    }\n",
       "\n",
       "    .dataframe tbody tr th {\n",
       "        vertical-align: top;\n",
       "    }\n",
       "\n",
       "    .dataframe thead th {\n",
       "        text-align: right;\n",
       "    }\n",
       "</style>\n",
       "<table border=\"1\" class=\"dataframe\">\n",
       "  <thead>\n",
       "    <tr style=\"text-align: right;\">\n",
       "      <th></th>\n",
       "      <th>PMID</th>\n",
       "      <th>Title</th>\n",
       "      <th>AbstractText</th>\n",
       "      <th>Language</th>\n",
       "      <th>Journal</th>\n",
       "      <th>Date</th>\n",
       "      <th>NameFirstAuthor</th>\n",
       "      <th>NameLastAuthor</th>\n",
       "      <th>ISSN</th>\n",
       "      <th>AffiliationFirstAuthor</th>\n",
       "      <th>AffiliationLastAuthor</th>\n",
       "      <th>filename</th>\n",
       "    </tr>\n",
       "  </thead>\n",
       "  <tbody>\n",
       "    <tr>\n",
       "      <th>21</th>\n",
       "      <td>24</td>\n",
       "      <td>Influence of a new virostatic compound on the ...</td>\n",
       "      <td>The virostatic compound N,N-diethyl-4-[2-(2-ox...</td>\n",
       "      <td>eng</td>\n",
       "      <td>Arzneimittel-Forschung</td>\n",
       "      <td>1975 Sep</td>\n",
       "      <td>H</td>\n",
       "      <td>G</td>\n",
       "      <td>0004-4172</td>\n",
       "      <td></td>\n",
       "      <td></td>\n",
       "      <td>pubmed24n0001.xml</td>\n",
       "    </tr>\n",
       "    <tr>\n",
       "      <th>22</th>\n",
       "      <td>23</td>\n",
       "      <td>Effect of etafenone on total and regional myoc...</td>\n",
       "      <td>The distribution of blood flow to the subendoc...</td>\n",
       "      <td>eng</td>\n",
       "      <td>Arzneimittel-Forschung</td>\n",
       "      <td>1975 Sep</td>\n",
       "      <td>H</td>\n",
       "      <td>W</td>\n",
       "      <td>0004-4172</td>\n",
       "      <td></td>\n",
       "      <td></td>\n",
       "      <td>pubmed24n0001.xml</td>\n",
       "    </tr>\n",
       "    <tr>\n",
       "      <th>24</th>\n",
       "      <td>25</td>\n",
       "      <td>Pharmacological properties of new neuroleptic ...</td>\n",
       "      <td>RMI 61 140, RMI 61 144 and RMI 61 280 are newl...</td>\n",
       "      <td>eng</td>\n",
       "      <td>Arzneimittel-Forschung</td>\n",
       "      <td>1975 Sep</td>\n",
       "      <td>L</td>\n",
       "      <td>A</td>\n",
       "      <td>0004-4172</td>\n",
       "      <td></td>\n",
       "      <td></td>\n",
       "      <td>pubmed24n0001.xml</td>\n",
       "    </tr>\n",
       "    <tr>\n",
       "      <th>29</th>\n",
       "      <td>30</td>\n",
       "      <td>Lysosomal hydrolases of the epidermis. I. Glyc...</td>\n",
       "      <td>Seven distinct glycosidases (EC 3.2) have been...</td>\n",
       "      <td>eng</td>\n",
       "      <td>The British journal of dermatology</td>\n",
       "      <td>1975 Jul</td>\n",
       "      <td>P D</td>\n",
       "      <td>J J</td>\n",
       "      <td>0007-0963</td>\n",
       "      <td></td>\n",
       "      <td></td>\n",
       "      <td>pubmed24n0001.xml</td>\n",
       "    </tr>\n",
       "    <tr>\n",
       "      <th>31</th>\n",
       "      <td>32</td>\n",
       "      <td>A serum haemagglutinating property dependent u...</td>\n",
       "      <td>A serum agglutinin reactive with red cells in ...</td>\n",
       "      <td>eng</td>\n",
       "      <td>British journal of haematology</td>\n",
       "      <td>1975 Jan</td>\n",
       "      <td>M L</td>\n",
       "      <td>W L</td>\n",
       "      <td>0007-1048</td>\n",
       "      <td></td>\n",
       "      <td></td>\n",
       "      <td>pubmed24n0001.xml</td>\n",
       "    </tr>\n",
       "  </tbody>\n",
       "</table>\n",
       "</div>"
      ],
      "text/plain": [
       "   PMID                                              Title  \\\n",
       "21   24  Influence of a new virostatic compound on the ...   \n",
       "22   23  Effect of etafenone on total and regional myoc...   \n",
       "24   25  Pharmacological properties of new neuroleptic ...   \n",
       "29   30  Lysosomal hydrolases of the epidermis. I. Glyc...   \n",
       "31   32  A serum haemagglutinating property dependent u...   \n",
       "\n",
       "                                         AbstractText Language  \\\n",
       "21  The virostatic compound N,N-diethyl-4-[2-(2-ox...      eng   \n",
       "22  The distribution of blood flow to the subendoc...      eng   \n",
       "24  RMI 61 140, RMI 61 144 and RMI 61 280 are newl...      eng   \n",
       "29  Seven distinct glycosidases (EC 3.2) have been...      eng   \n",
       "31  A serum agglutinin reactive with red cells in ...      eng   \n",
       "\n",
       "                               Journal      Date NameFirstAuthor  \\\n",
       "21              Arzneimittel-Forschung  1975 Sep               H   \n",
       "22              Arzneimittel-Forschung  1975 Sep               H   \n",
       "24              Arzneimittel-Forschung  1975 Sep               L   \n",
       "29  The British journal of dermatology  1975 Jul             P D   \n",
       "31      British journal of haematology  1975 Jan             M L   \n",
       "\n",
       "   NameLastAuthor       ISSN AffiliationFirstAuthor AffiliationLastAuthor  \\\n",
       "21              G  0004-4172                                                \n",
       "22              W  0004-4172                                                \n",
       "24              A  0004-4172                                                \n",
       "29            J J  0007-0963                                                \n",
       "31            W L  0007-1048                                                \n",
       "\n",
       "             filename  \n",
       "21  pubmed24n0001.xml  \n",
       "22  pubmed24n0001.xml  \n",
       "24  pubmed24n0001.xml  \n",
       "29  pubmed24n0001.xml  \n",
       "31  pubmed24n0001.xml  "
      ]
     },
     "execution_count": 7,
     "metadata": {},
     "output_type": "execute_result"
    }
   ],
   "source": [
    "clean_2024_df.head()"
   ]
  },
  {
   "cell_type": "markdown",
   "metadata": {},
   "source": [
    "# Obtaining the PubMedBERT embeddings of the abstracts"
   ]
  },
  {
   "cell_type": "markdown",
   "metadata": {},
   "source": [
    "## Obtain embeddings"
   ]
  },
  {
   "cell_type": "code",
   "execution_count": 9,
   "metadata": {
    "collapsed": true,
    "jupyter": {
     "outputs_hidden": true
    },
    "scrolled": true
   },
   "outputs": [
    {
     "name": "stdout",
     "output_type": "stream",
     "text": [
      "Model:  PubMedBERT\n",
      "Running on device: cuda\n",
      "microsoft/BiomedNLP-PubMedBERT-base-uncased-abstract-fulltext\n",
      "CPU times: user 1.79 s, sys: 495 ms, total: 2.29 s\n",
      "Wall time: 2.83 s\n"
     ]
    },
    {
     "data": {
      "text/plain": [
       "BertModel(\n",
       "  (embeddings): BertEmbeddings(\n",
       "    (word_embeddings): Embedding(30522, 768, padding_idx=0)\n",
       "    (position_embeddings): Embedding(512, 768)\n",
       "    (token_type_embeddings): Embedding(2, 768)\n",
       "    (LayerNorm): LayerNorm((768,), eps=1e-12, elementwise_affine=True)\n",
       "    (dropout): Dropout(p=0.1, inplace=False)\n",
       "  )\n",
       "  (encoder): BertEncoder(\n",
       "    (layer): ModuleList(\n",
       "      (0-11): 12 x BertLayer(\n",
       "        (attention): BertAttention(\n",
       "          (self): BertSelfAttention(\n",
       "            (query): Linear(in_features=768, out_features=768, bias=True)\n",
       "            (key): Linear(in_features=768, out_features=768, bias=True)\n",
       "            (value): Linear(in_features=768, out_features=768, bias=True)\n",
       "            (dropout): Dropout(p=0.1, inplace=False)\n",
       "          )\n",
       "          (output): BertSelfOutput(\n",
       "            (dense): Linear(in_features=768, out_features=768, bias=True)\n",
       "            (LayerNorm): LayerNorm((768,), eps=1e-12, elementwise_affine=True)\n",
       "            (dropout): Dropout(p=0.1, inplace=False)\n",
       "          )\n",
       "        )\n",
       "        (intermediate): BertIntermediate(\n",
       "          (dense): Linear(in_features=768, out_features=3072, bias=True)\n",
       "          (intermediate_act_fn): GELUActivation()\n",
       "        )\n",
       "        (output): BertOutput(\n",
       "          (dense): Linear(in_features=3072, out_features=768, bias=True)\n",
       "          (LayerNorm): LayerNorm((768,), eps=1e-12, elementwise_affine=True)\n",
       "          (dropout): Dropout(p=0.1, inplace=False)\n",
       "        )\n",
       "      )\n",
       "    )\n",
       "  )\n",
       "  (pooler): BertPooler(\n",
       "    (dense): Linear(in_features=768, out_features=768, bias=True)\n",
       "    (activation): Tanh()\n",
       "  )\n",
       ")"
      ]
     },
     "execution_count": 9,
     "metadata": {},
     "output_type": "execute_result"
    }
   ],
   "source": [
    "%%time\n",
    "\n",
    "# specifying model\n",
    "model_name = \"PubMedBERT\"\n",
    "model_path = \"microsoft/BiomedNLP-PubMedBERT-base-uncased-abstract-fulltext\"\n",
    "\n",
    "# set up model\n",
    "print(\"Model: \", model_name)\n",
    "\n",
    "random_state = random.seed(42)\n",
    "device = \"cuda\" if torch.cuda.is_available() else \"cpu\"\n",
    "print(\"Running on device: {}\".format(device))\n",
    "\n",
    "tokenizer = AutoTokenizer.from_pretrained(model_path)\n",
    "model = AutoModel.from_pretrained(model_path)\n",
    "print(model_path)\n",
    "\n",
    "model.to(device)"
   ]
  },
  {
   "cell_type": "code",
   "execution_count": 11,
   "metadata": {},
   "outputs": [
    {
     "name": "stdout",
     "output_type": "stream",
     "text": [
      "23389083\n"
     ]
    }
   ],
   "source": [
    "print(len(abstracts))"
   ]
  },
  {
   "cell_type": "markdown",
   "metadata": {},
   "source": [
    "Starting time: 14:08 08.02.2024"
   ]
  },
  {
   "cell_type": "code",
   "execution_count": null,
   "metadata": {},
   "outputs": [
    {
     "data": {
      "application/vnd.jupyter.widget-view+json": {
       "model_id": "d5ec44f58f1c4373991343d1a619ed3e",
       "version_major": 2,
       "version_minor": 0
      },
      "text/plain": [
       "  0%|          | 0/91364 [00:00<?, ?it/s]"
      ]
     },
     "metadata": {},
     "output_type": "display_data"
    }
   ],
   "source": [
    "%%time\n",
    "\n",
    "start = time.time()\n",
    "saving_path = Path(\"embeddings/2024_baseline\")\n",
    "\n",
    "loader = torch.utils.data.DataLoader(abstracts, batch_size=256, num_workers=0)\n",
    "\n",
    "embedding_av = []\n",
    "embedding_sep = []\n",
    "embedding_cls = []\n",
    "\n",
    "for i_batch, batch in enumerate(tqdm(loader)):\n",
    "    embd_cls, embd_sep, embd_av = generate_embeddings_batches(\n",
    "        batch, tokenizer, model, device\n",
    "    )\n",
    "    embedding_av.append(embd_av)\n",
    "    embedding_cls.append(embd_cls)\n",
    "    embedding_sep.append(embd_sep)\n",
    "\n",
    "    if (i_batch % 200) == 0:\n",
    "        np.save(berenslab_data_path / saving_path / \"last_i_batch\", i_batch)\n",
    "        np.save(\n",
    "            berenslab_data_path / saving_path / \"embedding_av_interm\",\n",
    "            np.vstack(embedding_av),\n",
    "        )\n",
    "        np.save(\n",
    "            berenslab_data_path / saving_path / \"embedding_cls_interm\",\n",
    "            np.vstack(embedding_cls),\n",
    "        )\n",
    "        np.save(\n",
    "            berenslab_data_path / saving_path / \"embedding_sep_interm\",\n",
    "            np.vstack(embedding_sep),\n",
    "        )\n",
    "\n",
    "\n",
    "# save all\n",
    "np.save(\n",
    "    berenslab_data_path / saving_path / \"embedding_av_all\",\n",
    "    np.vstack(embedding_av),\n",
    ")\n",
    "np.save(\n",
    "    berenslab_data_path / saving_path / \"embedding_cls_all\",\n",
    "    np.vstack(embedding_cls),\n",
    ")\n",
    "np.save(\n",
    "    berenslab_data_path / saving_path / \"embedding_sep_all\",\n",
    "    np.vstack(embedding_sep),\n",
    ")\n",
    "\n",
    "end = time.time()\n",
    "runtime_total = end - start\n",
    "np.save(berenslab_data_path / saving_path / \"runtime_total\", runtime_total)"
   ]
  },
  {
   "cell_type": "code",
   "execution_count": 9,
   "metadata": {},
   "outputs": [
    {
     "name": "stdout",
     "output_type": "stream",
     "text": [
      "(17613056, 768)\n"
     ]
    }
   ],
   "source": [
    "saving_path = Path(\"embeddings/2024_baseline\")\n",
    "print(\n",
    "    np.load(\n",
    "        berenslab_data_path / saving_path / \"embedding_av_interm.npy\"\n",
    "    ).shape\n",
    ")"
   ]
  },
  {
   "cell_type": "markdown",
   "metadata": {},
   "source": [
    "## After crashing"
   ]
  },
  {
   "cell_type": "code",
   "execution_count": 17,
   "metadata": {
    "scrolled": true
   },
   "outputs": [
    {
     "name": "stdout",
     "output_type": "stream",
     "text": [
      "Model:  PubMedBERT\n",
      "Running on device: cuda\n",
      "microsoft/BiomedNLP-PubMedBERT-base-uncased-abstract-fulltext\n",
      "CPU times: user 1.94 s, sys: 574 ms, total: 2.51 s\n",
      "Wall time: 9.82 s\n"
     ]
    },
    {
     "data": {
      "text/plain": [
       "BertModel(\n",
       "  (embeddings): BertEmbeddings(\n",
       "    (word_embeddings): Embedding(30522, 768, padding_idx=0)\n",
       "    (position_embeddings): Embedding(512, 768)\n",
       "    (token_type_embeddings): Embedding(2, 768)\n",
       "    (LayerNorm): LayerNorm((768,), eps=1e-12, elementwise_affine=True)\n",
       "    (dropout): Dropout(p=0.1, inplace=False)\n",
       "  )\n",
       "  (encoder): BertEncoder(\n",
       "    (layer): ModuleList(\n",
       "      (0-11): 12 x BertLayer(\n",
       "        (attention): BertAttention(\n",
       "          (self): BertSelfAttention(\n",
       "            (query): Linear(in_features=768, out_features=768, bias=True)\n",
       "            (key): Linear(in_features=768, out_features=768, bias=True)\n",
       "            (value): Linear(in_features=768, out_features=768, bias=True)\n",
       "            (dropout): Dropout(p=0.1, inplace=False)\n",
       "          )\n",
       "          (output): BertSelfOutput(\n",
       "            (dense): Linear(in_features=768, out_features=768, bias=True)\n",
       "            (LayerNorm): LayerNorm((768,), eps=1e-12, elementwise_affine=True)\n",
       "            (dropout): Dropout(p=0.1, inplace=False)\n",
       "          )\n",
       "        )\n",
       "        (intermediate): BertIntermediate(\n",
       "          (dense): Linear(in_features=768, out_features=3072, bias=True)\n",
       "          (intermediate_act_fn): GELUActivation()\n",
       "        )\n",
       "        (output): BertOutput(\n",
       "          (dense): Linear(in_features=3072, out_features=768, bias=True)\n",
       "          (LayerNorm): LayerNorm((768,), eps=1e-12, elementwise_affine=True)\n",
       "          (dropout): Dropout(p=0.1, inplace=False)\n",
       "        )\n",
       "      )\n",
       "    )\n",
       "  )\n",
       "  (pooler): BertPooler(\n",
       "    (dense): Linear(in_features=768, out_features=768, bias=True)\n",
       "    (activation): Tanh()\n",
       "  )\n",
       ")"
      ]
     },
     "execution_count": 17,
     "metadata": {},
     "output_type": "execute_result"
    }
   ],
   "source": [
    "%%time\n",
    "\n",
    "# specifying model\n",
    "model_name = \"PubMedBERT\"\n",
    "model_path = \"microsoft/BiomedNLP-PubMedBERT-base-uncased-abstract-fulltext\"\n",
    "\n",
    "# set up model\n",
    "print(\"Model: \", model_name)\n",
    "\n",
    "random_state = random.seed(42)\n",
    "device = \"cuda\" if torch.cuda.is_available() else \"cpu\"\n",
    "print(\"Running on device: {}\".format(device))\n",
    "\n",
    "tokenizer = AutoTokenizer.from_pretrained(model_path)\n",
    "model = AutoModel.from_pretrained(model_path)\n",
    "print(model_path)\n",
    "\n",
    "model.to(device)"
   ]
  },
  {
   "cell_type": "code",
   "execution_count": 18,
   "metadata": {},
   "outputs": [
    {
     "name": "stdout",
     "output_type": "stream",
     "text": [
      "5776028\n"
     ]
    }
   ],
   "source": [
    "print(len(abstracts[17613055:]))"
   ]
  },
  {
   "cell_type": "markdown",
   "metadata": {},
   "source": [
    "Starting time: 18:26 11.02.2024\n",
    "total batches: 22563"
   ]
  },
  {
   "cell_type": "code",
   "execution_count": 22,
   "metadata": {},
   "outputs": [
    {
     "data": {
      "application/vnd.jupyter.widget-view+json": {
       "model_id": "57a3b0fad7504b569cdbbe4724c8d372",
       "version_major": 2,
       "version_minor": 0
      },
      "text/plain": [
       "  0%|          | 0/22563 [00:00<?, ?it/s]"
      ]
     },
     "metadata": {},
     "output_type": "display_data"
    },
    {
     "name": "stdout",
     "output_type": "stream",
     "text": [
      "CPU times: user 11h 4min 16s, sys: 12h 11min 40s, total: 23h 15min 57s\n",
      "Wall time: 14h 7min 31s\n"
     ]
    }
   ],
   "source": [
    "%%time\n",
    "\n",
    "start = time.time()\n",
    "saving_path = Path(\"embeddings/2024_baseline\")\n",
    "\n",
    "loader = torch.utils.data.DataLoader(\n",
    "    abstracts[17613055:], batch_size=256, num_workers=0\n",
    ")\n",
    "\n",
    "embedding_av = []\n",
    "embedding_sep = []\n",
    "embedding_cls = []\n",
    "\n",
    "for i_batch, batch in enumerate(tqdm(loader)):\n",
    "    embd_cls, embd_sep, embd_av = generate_embeddings_batches(\n",
    "        batch, tokenizer, model, device\n",
    "    )\n",
    "    embedding_av.append(embd_av)\n",
    "    embedding_cls.append(embd_cls)\n",
    "    embedding_sep.append(embd_sep)\n",
    "\n",
    "    if (i_batch % 200) == 0:\n",
    "        np.save(berenslab_data_path / saving_path / \"last_i_batch\", i_batch)\n",
    "        np.save(\n",
    "            berenslab_data_path / saving_path / \"embedding_av_interm_2\",\n",
    "            np.vstack(embedding_av),\n",
    "        )\n",
    "        np.save(\n",
    "            berenslab_data_path / saving_path / \"embedding_cls_interm_2\",\n",
    "            np.vstack(embedding_cls),\n",
    "        )\n",
    "        np.save(\n",
    "            berenslab_data_path / saving_path / \"embedding_sep_interm_2\",\n",
    "            np.vstack(embedding_sep),\n",
    "        )\n",
    "\n",
    "\n",
    "# save all\n",
    "np.save(\n",
    "    berenslab_data_path / saving_path / \"embedding_av_interm_2_final\",\n",
    "    np.vstack(embedding_av),\n",
    ")\n",
    "np.save(\n",
    "    berenslab_data_path / saving_path / \"embedding_cls_interm_2_final\",\n",
    "    np.vstack(embedding_cls),\n",
    ")\n",
    "np.save(\n",
    "    berenslab_data_path / saving_path / \"embedding_sep_interm_2_final\",\n",
    "    np.vstack(embedding_sep),\n",
    ")\n",
    "\n",
    "end = time.time()\n",
    "runtime_total = end - start\n",
    "np.save(berenslab_data_path / saving_path / \"runtime_total\", runtime_total)"
   ]
  },
  {
   "cell_type": "code",
   "execution_count": 26,
   "metadata": {},
   "outputs": [
    {
     "name": "stdout",
     "output_type": "stream",
     "text": [
      "(5776028, 768)\n"
     ]
    }
   ],
   "source": [
    "print(\n",
    "    np.load(\n",
    "        berenslab_data_path / saving_path / \"embedding_sep_interm_2_final.npy\"\n",
    "    ).shape\n",
    ")"
   ]
  },
  {
   "cell_type": "code",
   "execution_count": 18,
   "metadata": {},
   "outputs": [
    {
     "name": "stdout",
     "output_type": "stream",
     "text": [
      "5776028\n"
     ]
    }
   ],
   "source": [
    "print(len(abstracts[17613055:]))"
   ]
  },
  {
   "cell_type": "markdown",
   "metadata": {},
   "source": [
    "# Concatenate both"
   ]
  },
  {
   "cell_type": "markdown",
   "metadata": {},
   "source": [
    "## AV"
   ]
  },
  {
   "cell_type": "code",
   "execution_count": 23,
   "metadata": {},
   "outputs": [
    {
     "name": "stdout",
     "output_type": "stream",
     "text": [
      "23389083\n"
     ]
    }
   ],
   "source": [
    "print(len(abstracts))"
   ]
  },
  {
   "cell_type": "code",
   "execution_count": 27,
   "metadata": {},
   "outputs": [],
   "source": [
    "embedding_av_interm = np.load(\n",
    "    berenslab_data_path / saving_path / \"embedding_av_interm.npy\"\n",
    ")\n",
    "embedding_av_interm_2_final = np.load(\n",
    "    berenslab_data_path / saving_path / \"embedding_av_interm_2_final.npy\"\n",
    ")"
   ]
  },
  {
   "cell_type": "code",
   "execution_count": 35,
   "metadata": {},
   "outputs": [
    {
     "name": "stdout",
     "output_type": "stream",
     "text": [
      "(17613056, 768)\n",
      "(5776027, 768)\n"
     ]
    }
   ],
   "source": [
    "print(embedding_av_interm.shape)\n",
    "print(embedding_av_interm_2_final[1:, :].shape)"
   ]
  },
  {
   "cell_type": "code",
   "execution_count": 37,
   "metadata": {},
   "outputs": [
    {
     "name": "stdout",
     "output_type": "stream",
     "text": [
      "CPU times: user 22.5 s, sys: 40.8 s, total: 1min 3s\n",
      "Wall time: 1min 3s\n"
     ]
    },
    {
     "data": {
      "text/plain": [
       "(23389083, 768)"
      ]
     },
     "execution_count": 37,
     "metadata": {},
     "output_type": "execute_result"
    }
   ],
   "source": [
    "%%time\n",
    "embedding_av_all = np.vstack(\n",
    "    (embedding_av_interm, embedding_av_interm_2_final[1:, :])\n",
    ")\n",
    "embedding_av_all.shape"
   ]
  },
  {
   "cell_type": "code",
   "execution_count": 38,
   "metadata": {},
   "outputs": [],
   "source": [
    "np.save(\n",
    "    berenslab_data_path / saving_path / \"embedding_av_all\", embedding_av_all\n",
    ")"
   ]
  },
  {
   "cell_type": "markdown",
   "metadata": {},
   "source": [
    "## CLS"
   ]
  },
  {
   "cell_type": "code",
   "execution_count": 5,
   "metadata": {},
   "outputs": [],
   "source": [
    "embedding_cls_interm = np.load(\n",
    "    berenslab_data_path / saving_path / \"embedding_cls_interm.npy\"\n",
    ")\n",
    "embedding_cls_interm_2_final = np.load(\n",
    "    berenslab_data_path / saving_path / \"embedding_cls_interm_2_final.npy\"\n",
    ")"
   ]
  },
  {
   "cell_type": "code",
   "execution_count": 6,
   "metadata": {},
   "outputs": [
    {
     "name": "stdout",
     "output_type": "stream",
     "text": [
      "CPU times: user 11.9 s, sys: 14.1 s, total: 25.9 s\n",
      "Wall time: 26 s\n"
     ]
    },
    {
     "data": {
      "text/plain": [
       "(23389083, 768)"
      ]
     },
     "execution_count": 6,
     "metadata": {},
     "output_type": "execute_result"
    }
   ],
   "source": [
    "%%time\n",
    "embedding_cls_all = np.vstack(\n",
    "    (embedding_cls_interm, embedding_cls_interm_2_final[1:, :])\n",
    ")\n",
    "embedding_cls_all.shape"
   ]
  },
  {
   "cell_type": "code",
   "execution_count": 7,
   "metadata": {},
   "outputs": [],
   "source": [
    "np.save(\n",
    "    berenslab_data_path / saving_path / \"embedding_cls_all\", embedding_cls_all\n",
    ")"
   ]
  },
  {
   "cell_type": "markdown",
   "metadata": {},
   "source": [
    "## SEP"
   ]
  },
  {
   "cell_type": "code",
   "execution_count": 8,
   "metadata": {},
   "outputs": [],
   "source": [
    "embedding_sep_interm = np.load(\n",
    "    berenslab_data_path / saving_path / \"embedding_sep_interm.npy\"\n",
    ")\n",
    "embedding_sep_interm_2_final = np.load(\n",
    "    berenslab_data_path / saving_path / \"embedding_sep_interm_2_final.npy\"\n",
    ")"
   ]
  },
  {
   "cell_type": "code",
   "execution_count": 9,
   "metadata": {},
   "outputs": [
    {
     "name": "stdout",
     "output_type": "stream",
     "text": [
      "CPU times: user 24.9 s, sys: 42.5 s, total: 1min 7s\n",
      "Wall time: 1min 7s\n"
     ]
    },
    {
     "data": {
      "text/plain": [
       "(23389083, 768)"
      ]
     },
     "execution_count": 9,
     "metadata": {},
     "output_type": "execute_result"
    }
   ],
   "source": [
    "%%time\n",
    "embedding_sep_all = np.vstack(\n",
    "    (embedding_sep_interm, embedding_sep_interm_2_final[1:, :])\n",
    ")\n",
    "embedding_sep_all.shape"
   ]
  },
  {
   "cell_type": "code",
   "execution_count": 10,
   "metadata": {},
   "outputs": [],
   "source": [
    "np.save(\n",
    "    berenslab_data_path / saving_path / \"embedding_sep_all\", embedding_sep_all\n",
    ")"
   ]
  },
  {
   "cell_type": "markdown",
   "metadata": {},
   "source": [
    "# Save PubMedBERT SEP embeddings with float16 precission"
   ]
  },
  {
   "cell_type": "code",
   "execution_count": 5,
   "metadata": {},
   "outputs": [],
   "source": [
    "saving_path = Path(\"embeddings/2024_baseline\")\n",
    "embedding_sep_all = np.load(\n",
    "    berenslab_data_path / saving_path / \"embedding_sep_all.npy\"\n",
    ")"
   ]
  },
  {
   "cell_type": "code",
   "execution_count": 6,
   "metadata": {},
   "outputs": [
    {
     "data": {
      "text/plain": [
       "(23389083, 768)"
      ]
     },
     "execution_count": 6,
     "metadata": {},
     "output_type": "execute_result"
    }
   ],
   "source": [
    "embedding_sep_all.shape"
   ]
  },
  {
   "cell_type": "code",
   "execution_count": 7,
   "metadata": {},
   "outputs": [],
   "source": [
    "b = embedding_sep_all.astype(np.float16)"
   ]
  },
  {
   "cell_type": "code",
   "execution_count": 8,
   "metadata": {},
   "outputs": [
    {
     "name": "stdout",
     "output_type": "stream",
     "text": [
      "71851262976\n",
      "35925631488\n"
     ]
    }
   ],
   "source": [
    "print(embedding_sep_all.nbytes)\n",
    "print(b.nbytes)"
   ]
  },
  {
   "cell_type": "code",
   "execution_count": 9,
   "metadata": {},
   "outputs": [],
   "source": [
    "np.save(\n",
    "    berenslab_data_path / saving_path / \"PubMedBERT_embeddings_float16_2024\", b\n",
    ")"
   ]
  },
  {
   "cell_type": "code",
   "execution_count": 10,
   "metadata": {},
   "outputs": [
    {
     "data": {
      "text/plain": [
       "(23389083, 768)"
      ]
     },
     "execution_count": 10,
     "metadata": {},
     "output_type": "execute_result"
    }
   ],
   "source": [
    "b.shape"
   ]
  },
  {
   "cell_type": "code",
   "execution_count": null,
   "metadata": {},
   "outputs": [],
   "source": []
  }
 ],
 "metadata": {
  "kernelspec": {
   "display_name": "Python 3 (ipykernel)",
   "language": "python",
   "name": "python3"
  },
  "language_info": {
   "codemirror_mode": {
    "name": "ipython",
    "version": 3
   },
   "file_extension": ".py",
   "mimetype": "text/x-python",
   "name": "python",
   "nbconvert_exporter": "python",
   "pygments_lexer": "ipython3",
   "version": "3.11.5"
  },
  "varInspector": {
   "cols": {
    "lenName": 16,
    "lenType": 16,
    "lenVar": 40
   },
   "kernels_config": {
    "python": {
     "delete_cmd_postfix": "",
     "delete_cmd_prefix": "del ",
     "library": "var_list.py",
     "varRefreshCmd": "print(var_dic_list())"
    },
    "r": {
     "delete_cmd_postfix": ") ",
     "delete_cmd_prefix": "rm(",
     "library": "var_list.r",
     "varRefreshCmd": "cat(var_dic_list()) "
    }
   },
   "position": {
    "height": "144.183px",
    "left": "910px",
    "right": "20px",
    "top": "119px",
    "width": "350px"
   },
   "types_to_exclude": [
    "module",
    "function",
    "builtin_function_or_method",
    "instance",
    "_Feature"
   ],
   "window_display": false
  }
 },
 "nbformat": 4,
 "nbformat_minor": 4
}
