{
 "cells": [
  {
   "cell_type": "code",
   "execution_count": 3,
   "metadata": {},
   "outputs": [],
   "source": [
    "%matplotlib notebook\n",
    "\n",
    "import pandas as pd\n",
    "import numpy as np\n",
    "\n",
    "import time\n",
    "import pickle\n",
    "\n",
    "import memory_profiler\n",
    "%load_ext memory_profiler\n",
    "\n",
    "from pathlib import Path"
   ]
  },
  {
   "cell_type": "code",
   "execution_count": 9,
   "metadata": {},
   "outputs": [],
   "source": [
    "import black\n",
    "import jupyter_black\n",
    "\n",
    "jupyter_black.load(line_length=79)"
   ]
  },
  {
   "cell_type": "code",
   "execution_count": 18,
   "metadata": {},
   "outputs": [],
   "source": [
    "variables_path = Path('../results/variables')\n",
    "figures_path = Path('../results/figures')\n",
    "berenslab_data_path = Path('/gpfs01/berens/data/data/pubmed_processed')"
   ]
  },
  {
   "cell_type": "markdown",
   "metadata": {},
   "source": [
    "# Import"
   ]
  },
  {
   "cell_type": "code",
   "execution_count": 4,
   "metadata": {},
   "outputs": [
    {
     "name": "stderr",
     "output_type": "stream",
     "text": [
      "tcmalloc: large alloc 1073741824 bytes == 0x8b61c4000 @ \n",
      "tcmalloc: large alloc 1233903616 bytes == 0x960142000 @ \n",
      "tcmalloc: large alloc 2147483648 bytes == 0x9aa202000 @ \n",
      "tcmalloc: large alloc 1542381568 bytes == 0x8b61c4000 @ \n",
      "tcmalloc: large alloc 1927979008 bytes == 0xa2a202000 @ \n"
     ]
    }
   ],
   "source": [
    "# import clean_df_updated\n",
    "clean_df_updated_reparsed_filtered_with_authors_ISSN=pd.read_pickle(berenslab_data_path / \"clean_df_updated_reparsed_filtered_with_authors_ISSN\")"
   ]
  },
  {
   "cell_type": "code",
   "execution_count": 5,
   "metadata": {},
   "outputs": [
    {
     "data": {
      "text/plain": [
       "(20687150, 10)"
      ]
     },
     "execution_count": 5,
     "metadata": {},
     "output_type": "execute_result"
    }
   ],
   "source": [
    "clean_df_updated_reparsed_filtered_with_authors_ISSN.shape"
   ]
  },
  {
   "cell_type": "markdown",
   "metadata": {},
   "source": [
    "# Curate first name lists"
   ]
  },
  {
   "cell_type": "markdown",
   "metadata": {},
   "source": [
    "## First author"
   ]
  },
  {
   "cell_type": "code",
   "execution_count": 8,
   "metadata": {},
   "outputs": [],
   "source": [
    "name_first_author = clean_df_updated_reparsed_filtered_with_authors_ISSN.NameFirstAuthor"
   ]
  },
  {
   "cell_type": "markdown",
   "metadata": {},
   "source": [
    "### Correction of list problem"
   ]
  },
  {
   "cell_type": "code",
   "execution_count": 12,
   "metadata": {},
   "outputs": [],
   "source": [
    "name_first_author_corrected = ['' if elem == 'no tag' else elem for elem in name_first_author.to_list()]"
   ]
  },
  {
   "cell_type": "markdown",
   "metadata": {},
   "source": [
    "### Slicing"
   ]
  },
  {
   "cell_type": "code",
   "execution_count": 15,
   "metadata": {},
   "outputs": [
    {
     "name": "stdout",
     "output_type": "stream",
     "text": [
      "CPU times: user 4.01 s, sys: 10.1 ms, total: 4.02 s\n",
      "Wall time: 4.03 s\n"
     ]
    }
   ],
   "source": [
    "%%time\n",
    "sliced_name_first_author = [elem.split()[0] if elem != '' else elem for elem in name_first_author_corrected]"
   ]
  },
  {
   "cell_type": "code",
   "execution_count": 16,
   "metadata": {},
   "outputs": [
    {
     "name": "stdout",
     "output_type": "stream",
     "text": [
      "CPU times: user 3.96 s, sys: 0 ns, total: 3.96 s\n",
      "Wall time: 3.97 s\n"
     ]
    }
   ],
   "source": [
    "%%time\n",
    "sliced_name_first_author = [elem.split('-')[0] if elem != '' else elem for elem in sliced_name_first_author]"
   ]
  },
  {
   "cell_type": "code",
   "execution_count": 19,
   "metadata": {},
   "outputs": [
    {
     "name": "stdout",
     "output_type": "stream",
     "text": [
      "CPU times: user 1.51 s, sys: 0 ns, total: 1.51 s\n",
      "Wall time: 1.51 s\n"
     ]
    }
   ],
   "source": [
    "%%time\n",
    "len_sliced_name_first_author = [len(x) for x in sliced_name_first_author]"
   ]
  },
  {
   "cell_type": "markdown",
   "metadata": {},
   "source": [
    "### Filtering initials"
   ]
  },
  {
   "cell_type": "code",
   "execution_count": 23,
   "metadata": {},
   "outputs": [
    {
     "name": "stdout",
     "output_type": "stream",
     "text": [
      "Percentage of names that are just initials:  34.69233799725917\n"
     ]
    }
   ],
   "source": [
    "n_initials = len(np.array(len_sliced_name_first_author)[np.array(len_sliced_name_first_author) == 1])\n",
    "n_total_papers = len(np.array(len_sliced_name_first_author))\n",
    "print('Percentage of names that are just initials: ', n_initials/n_total_papers*100)"
   ]
  },
  {
   "cell_type": "code",
   "execution_count": 24,
   "metadata": {},
   "outputs": [
    {
     "name": "stderr",
     "output_type": "stream",
     "text": [
      "tcmalloc: large alloc 2399715328 bytes == 0x9aa202000 @ \n",
      "tcmalloc: large alloc 2399715328 bytes == 0xa3928e000 @ \n"
     ]
    },
    {
     "name": "stdout",
     "output_type": "stream",
     "text": [
      "Number of missing names:  81125\n"
     ]
    }
   ],
   "source": [
    "print('Number of missing names: ', len(np.array(sliced_name_first_author)[np.array(sliced_name_first_author) == '']))"
   ]
  },
  {
   "cell_type": "code",
   "execution_count": 25,
   "metadata": {},
   "outputs": [
    {
     "name": "stdout",
     "output_type": "stream",
     "text": [
      "CPU times: user 4.65 s, sys: 0 ns, total: 4.65 s\n",
      "Wall time: 4.65 s\n"
     ]
    }
   ],
   "source": [
    "%%time\n",
    "filtered_name_first_author = np.where(np.array(len_sliced_name_first_author) == 1, '', sliced_name_first_author)"
   ]
  },
  {
   "cell_type": "code",
   "execution_count": 27,
   "metadata": {},
   "outputs": [
    {
     "name": "stdout",
     "output_type": "stream",
     "text": [
      "Percentage of initials + missing names:  35.08448964695475\n"
     ]
    }
   ],
   "source": [
    "n_initials_and_missing = len(np.array(filtered_name_first_author)[np.array(filtered_name_first_author) == ''])\n",
    "print('Percentage of initials + missing names: ', n_initials_and_missing/n_total_papers*100)"
   ]
  },
  {
   "cell_type": "code",
   "execution_count": 29,
   "metadata": {},
   "outputs": [],
   "source": [
    "np.save(variables_path / 'filtered_name_first_author', filtered_name_first_author)"
   ]
  },
  {
   "cell_type": "markdown",
   "metadata": {},
   "source": [
    "## Last author"
   ]
  },
  {
   "cell_type": "code",
   "execution_count": 81,
   "metadata": {},
   "outputs": [],
   "source": [
    "name_last_author = clean_df_updated_reparsed_filtered_with_authors_ISSN.NameLastAuthor"
   ]
  },
  {
   "cell_type": "markdown",
   "metadata": {},
   "source": [
    "### Correction of list problem"
   ]
  },
  {
   "cell_type": "code",
   "execution_count": 79,
   "metadata": {},
   "outputs": [],
   "source": [
    "name_last_author_corrected = ['' if elem == ['no tag'] else elem for elem in name_last_author.to_list()]"
   ]
  },
  {
   "cell_type": "markdown",
   "metadata": {},
   "source": [
    "### Slicing"
   ]
  },
  {
   "cell_type": "code",
   "execution_count": 82,
   "metadata": {},
   "outputs": [
    {
     "name": "stdout",
     "output_type": "stream",
     "text": [
      "CPU times: user 3.81 s, sys: 130 ms, total: 3.94 s\n",
      "Wall time: 3.94 s\n"
     ]
    }
   ],
   "source": [
    "%%time\n",
    "sliced_name_last_author = [elem.split()[0] if elem != '' else elem for elem in name_last_author_corrected]"
   ]
  },
  {
   "cell_type": "code",
   "execution_count": 83,
   "metadata": {},
   "outputs": [
    {
     "name": "stdout",
     "output_type": "stream",
     "text": [
      "CPU times: user 3.65 s, sys: 29.6 ms, total: 3.68 s\n",
      "Wall time: 3.69 s\n"
     ]
    }
   ],
   "source": [
    "%%time\n",
    "sliced_name_last_author = [elem.split('-')[0] if elem != '' else elem for elem in sliced_name_last_author]"
   ]
  },
  {
   "cell_type": "code",
   "execution_count": 84,
   "metadata": {},
   "outputs": [
    {
     "name": "stdout",
     "output_type": "stream",
     "text": [
      "CPU times: user 1.49 s, sys: 9.01 ms, total: 1.5 s\n",
      "Wall time: 1.5 s\n"
     ]
    }
   ],
   "source": [
    "%%time\n",
    "len_sliced_name_last_author = [len(x) for x in sliced_name_last_author]"
   ]
  },
  {
   "cell_type": "markdown",
   "metadata": {},
   "source": [
    "### Filtering initials"
   ]
  },
  {
   "cell_type": "code",
   "execution_count": 90,
   "metadata": {},
   "outputs": [
    {
     "name": "stdout",
     "output_type": "stream",
     "text": [
      "Percentage of names that are just initials:  35.09700466231453\n"
     ]
    }
   ],
   "source": [
    "n_initials = len(np.array(len_sliced_name_last_author)[np.array(len_sliced_name_last_author) == 1])\n",
    "n_total_papers = len(np.array(len_sliced_name_last_author))\n",
    "print('Percentage of names that are just initials: ', n_initials/n_total_papers*100)"
   ]
  },
  {
   "cell_type": "code",
   "execution_count": 91,
   "metadata": {},
   "outputs": [
    {
     "name": "stdout",
     "output_type": "stream",
     "text": [
      "Number of missing names:  237309\n"
     ]
    }
   ],
   "source": [
    "print('Number of missing names: ', len(np.array(sliced_name_last_author)[np.array(sliced_name_last_author) == '']))"
   ]
  },
  {
   "cell_type": "code",
   "execution_count": 92,
   "metadata": {},
   "outputs": [
    {
     "name": "stdout",
     "output_type": "stream",
     "text": [
      "CPU times: user 5.11 s, sys: 60 ms, total: 5.17 s\n",
      "Wall time: 5.16 s\n"
     ]
    }
   ],
   "source": [
    "%%time\n",
    "filtered_name_last_author = np.where(np.array(len_sliced_name_last_author) == 1, '', sliced_name_last_author)"
   ]
  },
  {
   "cell_type": "code",
   "execution_count": 94,
   "metadata": {},
   "outputs": [
    {
     "name": "stdout",
     "output_type": "stream",
     "text": [
      "Percentage of initials + missing names:  36.24413706092913\n"
     ]
    }
   ],
   "source": [
    "n_initials_and_missing = len(np.array(filtered_name_last_author)[np.array(filtered_name_last_author) == ''])\n",
    "print('Percentage of initials + missing names: ', n_initials_and_missing/n_total_papers*100)"
   ]
  },
  {
   "cell_type": "code",
   "execution_count": 105,
   "metadata": {},
   "outputs": [],
   "source": [
    "np.save(variables_path / 'filtered_name_last_author', filtered_name_last_author)"
   ]
  }
 ],
 "metadata": {
  "kernelspec": {
   "display_name": "Python 3 (ipykernel)",
   "language": "python",
   "name": "python3"
  },
  "language_info": {
   "codemirror_mode": {
    "name": "ipython",
    "version": 3
   },
   "file_extension": ".py",
   "mimetype": "text/x-python",
   "name": "python",
   "nbconvert_exporter": "python",
   "pygments_lexer": "ipython3",
   "version": "3.8.10"
  }
 },
 "nbformat": 4,
 "nbformat_minor": 4
}
