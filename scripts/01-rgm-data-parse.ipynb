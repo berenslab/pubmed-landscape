{
 "cells": [
  {
   "cell_type": "code",
   "execution_count": 1,
   "metadata": {},
   "outputs": [],
   "source": [
    "import pandas as pd\n",
    "import numpy as np\n",
    "\n",
    "import time\n",
    "import pickle\n",
    "import memory_profiler\n",
    "%load_ext memory_profiler\n",
    "from pathlib import Path"
   ]
  },
  {
   "cell_type": "code",
   "execution_count": 2,
   "metadata": {},
   "outputs": [
    {
     "data": {
      "text/html": [
       "\n",
       "                <script type=\"application/javascript\" id=\"jupyter_black\">\n",
       "                (function() {\n",
       "                    if (window.IPython === undefined) {\n",
       "                        return\n",
       "                    }\n",
       "                    var msg = \"WARNING: it looks like you might have loaded \" +\n",
       "                        \"jupyter_black in a non-lab notebook with \" +\n",
       "                        \"`is_lab=True`. Please double check, and if \" +\n",
       "                        \"loading with `%load_ext` please review the README!\"\n",
       "                    console.log(msg)\n",
       "                    alert(msg)\n",
       "                })()\n",
       "                </script>\n",
       "                "
      ],
      "text/plain": [
       "<IPython.core.display.HTML object>"
      ]
     },
     "metadata": {},
     "output_type": "display_data"
    }
   ],
   "source": [
    "import black\n",
    "import jupyter_black\n",
    "\n",
    "jupyter_black.load(line_length=79)"
   ]
  },
  {
   "cell_type": "code",
   "execution_count": 3,
   "metadata": {},
   "outputs": [],
   "source": [
    "%load_ext autoreload\n",
    "%autoreload 2\n",
    "\n",
    "from pubmed_landscape_src.data import import_all_files"
   ]
  },
  {
   "cell_type": "code",
   "execution_count": 4,
   "metadata": {},
   "outputs": [],
   "source": [
    "variables_path = Path(\"../results/variables\")\n",
    "figures_path = Path(\"../results/figures\")\n",
    "berenslab_data_path = Path(\"/gpfs01/berens/data/data/pubmed_processed\")"
   ]
  },
  {
   "cell_type": "markdown",
   "metadata": {},
   "source": [
    "We extract from PubMed's metadata `.xml` files the following:\n",
    "- PubMed ID\n",
    "- title\n",
    "- abstract\n",
    "- language\n",
    "- journal title\n",
    "- ISSN\n",
    "- publication date\n",
    "- (first and last) author first names\n"
   ]
  },
  {
   "cell_type": "markdown",
   "metadata": {},
   "source": [
    "# Import data"
   ]
  },
  {
   "cell_type": "markdown",
   "metadata": {},
   "source": [
    "## 2021 baseline"
   ]
  },
  {
   "cell_type": "code",
   "execution_count": 195,
   "metadata": {
    "collapsed": true,
    "jupyter": {
     "outputs_hidden": true
    },
    "tags": []
   },
   "outputs": [
    {
     "name": "stdout",
     "output_type": "stream",
     "text": [
      "pubmed21n0038.xml\n",
      "pubmed21n0722.xml\n",
      "pubmed21n0814.xml\n",
      "pubmed21n0171.xml\n",
      "pubmed21n0124.xml\n",
      "pubmed21n0864.xml\n",
      "pubmed21n0876.xml\n",
      "pubmed21n0133.xml\n",
      "pubmed21n0539.xml\n",
      "pubmed21n0119.xml\n",
      "pubmed21n0056.xml\n",
      "pubmed21n0497.xml\n",
      "pubmed21n0821.xml\n",
      "pubmed21n0241.xml\n",
      "pubmed21n0986.xml\n",
      "pubmed21n0769.xml\n",
      "pubmed21n0857.xml\n",
      "pubmed21n0073.xml\n",
      "pubmed21n0479.xml\n",
      "pubmed21n0044.xml\n",
      "pubmed21n0208.xml\n",
      "pubmed21n0071.xml\n",
      "pubmed21n0014.xml\n",
      "pubmed21n0795.xml\n",
      "pubmed21n0074.xml\n",
      "pubmed21n0662.xml\n",
      "pubmed21n0543.xml\n",
      "pubmed21n0555.xml\n",
      "pubmed21n0048.xml\n",
      "pubmed21n0512.xml\n",
      "pubmed21n0152.xml\n",
      "pubmed21n0078.xml\n",
      "pubmed21n0093.xml\n",
      "pubmed21n1051.xml\n",
      "pubmed21n0304.xml\n",
      "pubmed21n0172.xml\n",
      "pubmed21n0361.xml\n",
      "pubmed21n0831.xml\n",
      "pubmed21n0376.xml\n",
      "pubmed21n0203.xml\n",
      "pubmed21n0885.xml\n",
      "pubmed21n0740.xml\n",
      "pubmed21n0154.xml\n",
      "pubmed21n1005.xml\n",
      "pubmed21n0398.xml\n",
      "pubmed21n0079.xml\n",
      "pubmed21n1011.xml\n",
      "pubmed21n0049.xml\n",
      "pubmed21n0929.xml\n",
      "pubmed21n0404.xml\n",
      "pubmed21n0887.xml\n",
      "pubmed21n0911.xml\n",
      "pubmed21n0668.xml\n",
      "pubmed21n0231.xml\n",
      "pubmed21n0013.xml\n",
      "pubmed21n0283.xml\n",
      "pubmed21n0837.xml\n",
      "pubmed21n0290.xml\n",
      "pubmed21n0549.xml\n",
      "pubmed21n0832.xml\n",
      "pubmed21n0884.xml\n",
      "pubmed21n0175.xml\n",
      "pubmed21n0665.xml\n",
      "pubmed21n0980.xml\n",
      "pubmed21n0474.xml\n",
      "pubmed21n0103.xml\n",
      "pubmed21n0352.xml\n",
      "pubmed21n0503.xml\n",
      "pubmed21n0766.xml\n",
      "pubmed21n0242.xml\n",
      "pubmed21n0216.xml\n",
      "pubmed21n0867.xml\n",
      "pubmed21n0550.xml\n",
      "pubmed21n0475.xml\n",
      "pubmed21n0303.xml\n",
      "pubmed21n0045.xml\n",
      "pubmed21n0422.xml\n",
      "pubmed21n0554.xml\n",
      "pubmed21n0200.xml\n",
      "pubmed21n0443.xml\n",
      "pubmed21n0772.xml\n",
      "pubmed21n0105.xml\n",
      "pubmed21n0002.xml\n",
      "pubmed21n0392.xml\n",
      "pubmed21n0173.xml\n",
      "pubmed21n0993.xml\n",
      "pubmed21n0396.xml\n",
      "pubmed21n0732.xml\n",
      "pubmed21n0725.xml\n",
      "pubmed21n1058.xml\n",
      "pubmed21n0839.xml\n",
      "pubmed21n0067.xml\n",
      "pubmed21n0631.xml\n",
      "pubmed21n0302.xml\n",
      "pubmed21n0449.xml\n",
      "pubmed21n0137.xml\n",
      "pubmed21n0658.xml\n",
      "pubmed21n1020.xml\n",
      "pubmed21n1054.xml\n",
      "pubmed21n0687.xml\n",
      "pubmed21n0612.xml\n",
      "pubmed21n0027.xml\n",
      "pubmed21n0810.xml\n",
      "pubmed21n0205.xml\n",
      "pubmed21n0031.xml\n",
      "pubmed21n0985.xml\n",
      "pubmed21n0366.xml\n",
      "pubmed21n0801.xml\n",
      "pubmed21n0164.xml\n",
      "pubmed21n0782.xml\n",
      "pubmed21n0926.xml\n",
      "pubmed21n0170.xml\n",
      "pubmed21n0359.xml\n",
      "pubmed21n0347.xml\n",
      "pubmed21n0899.xml\n",
      "pubmed21n0260.xml\n",
      "pubmed21n0660.xml\n",
      "pubmed21n0788.xml\n",
      "pubmed21n0019.xml\n",
      "pubmed21n0506.xml\n",
      "pubmed21n0115.xml\n",
      "pubmed21n0464.xml\n",
      "pubmed21n0652.xml\n",
      "pubmed21n0082.xml\n",
      "pubmed21n0519.xml\n",
      "pubmed21n0854.xml\n",
      "pubmed21n0733.xml\n",
      "pubmed21n0809.xml\n",
      "pubmed21n0369.xml\n",
      "pubmed21n0485.xml\n",
      "pubmed21n0322.xml\n",
      "pubmed21n0958.xml\n",
      "pubmed21n0808.xml\n",
      "pubmed21n0623.xml\n",
      "pubmed21n0542.xml\n",
      "pubmed21n0495.xml\n",
      "pubmed21n0022.xml\n",
      "pubmed21n0391.xml\n",
      "pubmed21n1061.xml\n",
      "pubmed21n0537.xml\n",
      "pubmed21n0356.xml\n",
      "pubmed21n0998.xml\n",
      "pubmed21n0341.xml\n",
      "pubmed21n0780.xml\n",
      "pubmed21n0778.xml\n",
      "pubmed21n0869.xml\n",
      "pubmed21n0462.xml\n",
      "pubmed21n0129.xml\n",
      "pubmed21n0737.xml\n",
      "pubmed21n0728.xml\n",
      "pubmed21n0092.xml\n",
      "pubmed21n0295.xml\n",
      "pubmed21n0969.xml\n",
      "pubmed21n0674.xml\n",
      "pubmed21n0087.xml\n",
      "pubmed21n0646.xml\n",
      "pubmed21n0223.xml\n",
      "pubmed21n0088.xml\n",
      "pubmed21n0804.xml\n",
      "pubmed21n0224.xml\n",
      "pubmed21n1029.xml\n",
      "pubmed21n0128.xml\n",
      "pubmed21n0528.xml\n",
      "pubmed21n0987.xml\n",
      "pubmed21n0402.xml\n",
      "pubmed21n0317.xml\n",
      "pubmed21n0028.xml\n",
      "pubmed21n0197.xml\n",
      "pubmed21n0308.xml\n",
      "pubmed21n0293.xml\n",
      "pubmed21n0960.xml\n",
      "pubmed21n0012.xml\n",
      "pubmed21n1013.xml\n",
      "pubmed21n0117.xml\n",
      "pubmed21n0393.xml\n",
      "pubmed21n0976.xml\n",
      "pubmed21n0381.xml\n",
      "pubmed21n0099.xml\n",
      "pubmed21n0195.xml\n",
      "pubmed21n0597.xml\n",
      "pubmed21n0297.xml\n",
      "pubmed21n0496.xml\n",
      "pubmed21n0708.xml\n",
      "pubmed21n0703.xml\n",
      "pubmed21n0315.xml\n",
      "pubmed21n0977.xml\n",
      "pubmed21n0914.xml\n",
      "pubmed21n0063.xml\n",
      "pubmed21n0746.xml\n",
      "pubmed21n0803.xml\n",
      "pubmed21n0997.xml\n",
      "pubmed21n0953.xml\n",
      "pubmed21n0925.xml\n",
      "pubmed21n0132.xml\n",
      "pubmed21n0276.xml\n",
      "pubmed21n0630.xml\n",
      "pubmed21n0018.xml\n",
      "pubmed21n0106.xml\n",
      "pubmed21n0797.xml\n",
      "pubmed21n0069.xml\n",
      "pubmed21n0967.xml\n",
      "pubmed21n0942.xml\n",
      "pubmed21n0165.xml\n",
      "pubmed21n0182.xml\n",
      "pubmed21n0619.xml\n",
      "pubmed21n0822.xml\n",
      "pubmed21n0368.xml\n",
      "pubmed21n0050.xml\n",
      "pubmed21n0228.xml\n",
      "pubmed21n0964.xml\n",
      "pubmed21n0779.xml\n",
      "pubmed21n0371.xml\n",
      "pubmed21n0812.xml\n",
      "pubmed21n0709.xml\n",
      "pubmed21n0158.xml\n",
      "pubmed21n0793.xml\n",
      "pubmed21n0472.xml\n",
      "pubmed21n0146.xml\n",
      "pubmed21n0902.xml\n",
      "pubmed21n0100.xml\n",
      "pubmed21n0544.xml\n",
      "pubmed21n0536.xml\n",
      "pubmed21n0486.xml\n",
      "pubmed21n0702.xml\n",
      "pubmed21n0363.xml\n",
      "pubmed21n0928.xml\n",
      "pubmed21n0441.xml\n",
      "pubmed21n0760.xml\n",
      "pubmed21n0177.xml\n",
      "pubmed21n0367.xml\n",
      "pubmed21n0336.xml\n",
      "pubmed21n0135.xml\n",
      "pubmed21n0162.xml\n",
      "pubmed21n0939.xml\n",
      "pubmed21n0377.xml\n",
      "pubmed21n0681.xml\n",
      "pubmed21n0686.xml\n",
      "pubmed21n0450.xml\n",
      "pubmed21n0238.xml\n",
      "pubmed21n0326.xml\n",
      "pubmed21n0345.xml\n",
      "pubmed21n0094.xml\n",
      "pubmed21n0871.xml\n",
      "pubmed21n0227.xml\n",
      "pubmed21n0920.xml\n",
      "pubmed21n0773.xml\n",
      "pubmed21n0206.xml\n",
      "pubmed21n0024.xml\n",
      "pubmed21n0918.xml\n",
      "pubmed21n1030.xml\n",
      "pubmed21n0025.xml\n",
      "pubmed21n0330.xml\n",
      "pubmed21n0041.xml\n",
      "pubmed21n0730.xml\n",
      "pubmed21n1024.xml\n",
      "pubmed21n0246.xml\n",
      "pubmed21n0529.xml\n",
      "pubmed21n0842.xml\n",
      "pubmed21n0118.xml\n",
      "pubmed21n0594.xml\n",
      "pubmed21n0310.xml\n",
      "pubmed21n0346.xml\n",
      "pubmed21n0640.xml\n",
      "pubmed21n0971.xml\n",
      "pubmed21n0683.xml\n",
      "pubmed21n0207.xml\n",
      "pubmed21n0845.xml\n",
      "pubmed21n0273.xml\n",
      "pubmed21n0932.xml\n",
      "pubmed21n0641.xml\n",
      "pubmed21n0786.xml\n",
      "pubmed21n0226.xml\n",
      "pubmed21n0190.xml\n",
      "pubmed21n0001.xml\n",
      "pubmed21n0714.xml\n",
      "pubmed21n1049.xml\n",
      "pubmed21n0225.xml\n",
      "pubmed21n0489.xml\n",
      "pubmed21n0859.xml\n",
      "pubmed21n0840.xml\n",
      "pubmed21n0666.xml\n",
      "pubmed21n0951.xml\n",
      "pubmed21n0734.xml\n",
      "pubmed21n0524.xml\n",
      "pubmed21n1062.xml\n",
      "pubmed21n0613.xml\n",
      "pubmed21n0339.xml\n",
      "pubmed21n0944.xml\n",
      "pubmed21n0627.xml\n",
      "pubmed21n0882.xml\n",
      "pubmed21n0349.xml\n",
      "pubmed21n0416.xml\n",
      "pubmed21n0150.xml\n",
      "pubmed21n0400.xml\n",
      "pubmed21n0763.xml\n",
      "pubmed21n0584.xml\n",
      "pubmed21n0230.xml\n",
      "pubmed21n0930.xml\n",
      "pubmed21n0247.xml\n",
      "pubmed21n0789.xml\n",
      "pubmed21n0664.xml\n",
      "pubmed21n0006.xml\n",
      "pubmed21n0824.xml\n",
      "pubmed21n0202.xml\n",
      "pubmed21n1004.xml\n",
      "pubmed21n0995.xml\n",
      "pubmed21n0695.xml\n",
      "pubmed21n1048.xml\n",
      "pubmed21n0642.xml\n",
      "pubmed21n0583.xml\n",
      "pubmed21n0974.xml\n",
      "pubmed21n0196.xml\n",
      "pubmed21n0973.xml\n",
      "pubmed21n0603.xml\n",
      "pubmed21n0343.xml\n",
      "pubmed21n0718.xml\n",
      "pubmed21n0581.xml\n",
      "pubmed21n0813.xml\n",
      "pubmed21n1006.xml\n",
      "pubmed21n0429.xml\n",
      "pubmed21n0807.xml\n",
      "pubmed21n0729.xml\n",
      "pubmed21n0390.xml\n",
      "pubmed21n0278.xml\n",
      "pubmed21n0739.xml\n",
      "pubmed21n0384.xml\n",
      "pubmed21n0186.xml\n",
      "pubmed21n0328.xml\n",
      "pubmed21n0426.xml\n",
      "pubmed21n0005.xml\n",
      "pubmed21n0604.xml\n",
      "pubmed21n0700.xml\n",
      "pubmed21n0333.xml\n",
      "pubmed21n0270.xml\n",
      "pubmed21n0916.xml\n",
      "pubmed21n0575.xml\n",
      "pubmed21n0878.xml\n",
      "pubmed21n1012.xml\n",
      "pubmed21n0557.xml\n",
      "pubmed21n1046.xml\n",
      "pubmed21n0427.xml\n",
      "pubmed21n0615.xml\n",
      "pubmed21n0811.xml\n",
      "pubmed21n0704.xml\n",
      "pubmed21n0562.xml\n",
      "pubmed21n0102.xml\n",
      "pubmed21n0941.xml\n",
      "pubmed21n0187.xml\n",
      "pubmed21n0251.xml\n",
      "pubmed21n0903.xml\n",
      "pubmed21n0794.xml\n",
      "pubmed21n0711.xml\n",
      "pubmed21n0095.xml\n",
      "pubmed21n0149.xml\n",
      "pubmed21n0855.xml\n",
      "pubmed21n0858.xml\n",
      "pubmed21n0240.xml\n",
      "pubmed21n0991.xml\n",
      "pubmed21n0558.xml\n",
      "pubmed21n0523.xml\n",
      "pubmed21n0957.xml\n",
      "pubmed21n0534.xml\n",
      "pubmed21n0735.xml\n",
      "pubmed21n0915.xml\n",
      "pubmed21n0406.xml\n",
      "pubmed21n0830.xml\n",
      "pubmed21n0547.xml\n",
      "pubmed21n0204.xml\n",
      "pubmed21n0312.xml\n",
      "pubmed21n0651.xml\n",
      "pubmed21n0008.xml\n",
      "pubmed21n0897.xml\n",
      "pubmed21n0643.xml\n",
      "pubmed21n1027.xml\n",
      "pubmed21n1007.xml\n",
      "pubmed21n0478.xml\n",
      "pubmed21n0752.xml\n",
      "pubmed21n0841.xml\n",
      "pubmed21n0468.xml\n",
      "pubmed21n0344.xml\n",
      "pubmed21n1034.xml\n",
      "pubmed21n0234.xml\n",
      "pubmed21n0819.xml\n",
      "pubmed21n1016.xml\n",
      "pubmed21n0896.xml\n",
      "pubmed21n0166.xml\n",
      "pubmed21n0743.xml\n",
      "pubmed21n0209.xml\n",
      "pubmed21n0338.xml\n",
      "pubmed21n0890.xml\n",
      "pubmed21n0965.xml\n",
      "pubmed21n0636.xml\n",
      "pubmed21n0984.xml\n",
      "pubmed21n0244.xml\n",
      "pubmed21n0717.xml\n",
      "pubmed21n0790.xml\n",
      "pubmed21n0081.xml\n",
      "pubmed21n0280.xml\n",
      "pubmed21n0125.xml\n",
      "pubmed21n0940.xml\n",
      "pubmed21n0191.xml\n",
      "pubmed21n0378.xml\n",
      "pubmed21n0963.xml\n",
      "pubmed21n0222.xml\n",
      "pubmed21n0756.xml\n",
      "pubmed21n0836.xml\n",
      "pubmed21n0120.xml\n",
      "pubmed21n0777.xml\n",
      "pubmed21n0448.xml\n",
      "pubmed21n0852.xml\n",
      "pubmed21n0324.xml\n",
      "pubmed21n0292.xml\n",
      "pubmed21n0499.xml\n",
      "pubmed21n0679.xml\n",
      "pubmed21n0083.xml\n",
      "pubmed21n0996.xml\n",
      "pubmed21n0143.xml\n",
      "pubmed21n0034.xml\n",
      "pubmed21n0284.xml\n",
      "pubmed21n0937.xml\n",
      "pubmed21n0250.xml\n",
      "pubmed21n0650.xml\n",
      "pubmed21n0802.xml\n",
      "pubmed21n0502.xml\n",
      "pubmed21n0582.xml\n",
      "pubmed21n0259.xml\n",
      "pubmed21n0571.xml\n",
      "pubmed21n0599.xml\n",
      "pubmed21n0047.xml\n",
      "pubmed21n0561.xml\n",
      "pubmed21n0026.xml\n",
      "pubmed21n0313.xml\n",
      "pubmed21n0245.xml\n",
      "pubmed21n0560.xml\n",
      "pubmed21n0364.xml\n",
      "pubmed21n0881.xml\n",
      "pubmed21n0373.xml\n",
      "pubmed21n0514.xml\n",
      "pubmed21n0654.xml\n",
      "pubmed21n0917.xml\n",
      "pubmed21n0353.xml\n",
      "pubmed21n0155.xml\n",
      "pubmed21n0872.xml\n",
      "pubmed21n0927.xml\n",
      "pubmed21n0147.xml\n",
      "pubmed21n0553.xml\n",
      "pubmed21n0327.xml\n",
      "pubmed21n0329.xml\n",
      "pubmed21n0933.xml\n",
      "pubmed21n0112.xml\n",
      "pubmed21n0425.xml\n",
      "pubmed21n0649.xml\n",
      "pubmed21n0413.xml\n",
      "pubmed21n0589.xml\n",
      "pubmed21n0762.xml\n",
      "pubmed21n0277.xml\n",
      "pubmed21n0471.xml\n",
      "pubmed21n0268.xml\n",
      "pubmed21n0385.xml\n",
      "pubmed21n0624.xml\n",
      "pubmed21n0538.xml\n",
      "pubmed21n0744.xml\n",
      "pubmed21n0274.xml\n",
      "pubmed21n0127.xml\n",
      "pubmed21n0440.xml\n",
      "pubmed21n0817.xml\n",
      "pubmed21n0741.xml\n",
      "pubmed21n0690.xml\n",
      "pubmed21n0483.xml\n",
      "pubmed21n0053.xml\n",
      "pubmed21n0068.xml\n",
      "pubmed21n1044.xml\n",
      "pubmed21n0248.xml\n",
      "pubmed21n0596.xml\n",
      "pubmed21n0482.xml\n",
      "pubmed21n0070.xml\n",
      "pubmed21n0892.xml\n",
      "pubmed21n0491.xml\n",
      "pubmed21n0816.xml\n",
      "pubmed21n0913.xml\n",
      "pubmed21n0296.xml\n",
      "pubmed21n0676.xml\n",
      "pubmed21n0950.xml\n",
      "pubmed21n0895.xml\n",
      "pubmed21n0723.xml\n",
      "pubmed21n0983.xml\n",
      "pubmed21n0057.xml\n",
      "pubmed21n0463.xml\n",
      "pubmed21n0109.xml\n",
      "pubmed21n0340.xml\n",
      "pubmed21n0291.xml\n",
      "pubmed21n0688.xml\n",
      "pubmed21n0515.xml\n",
      "pubmed21n0061.xml\n",
      "pubmed21n0692.xml\n",
      "pubmed21n0431.xml\n",
      "pubmed21n0875.xml\n",
      "pubmed21n0428.xml\n",
      "pubmed21n0321.xml\n",
      "pubmed21n0286.xml\n",
      "pubmed21n0184.xml\n",
      "pubmed21n0264.xml\n",
      "pubmed21n0607.xml\n",
      "pubmed21n0705.xml\n",
      "pubmed21n0606.xml\n",
      "pubmed21n0738.xml\n",
      "pubmed21n0370.xml\n",
      "pubmed21n0163.xml\n",
      "pubmed21n0098.xml\n",
      "pubmed21n0707.xml\n",
      "pubmed21n0966.xml\n",
      "pubmed21n0586.xml\n",
      "pubmed21n0255.xml\n",
      "pubmed21n1019.xml\n",
      "pubmed21n0865.xml\n",
      "pubmed21n0210.xml\n",
      "pubmed21n0909.xml\n",
      "pubmed21n1037.xml\n",
      "pubmed21n0616.xml\n",
      "pubmed21n0629.xml\n",
      "pubmed21n0721.xml\n",
      "pubmed21n0551.xml\n",
      "pubmed21n0153.xml\n",
      "pubmed21n0874.xml\n",
      "pubmed21n0745.xml\n",
      "pubmed21n0860.xml\n",
      "pubmed21n0931.xml\n",
      "pubmed21n0675.xml\n",
      "pubmed21n0097.xml\n",
      "pubmed21n0040.xml\n",
      "pubmed21n0706.xml\n",
      "pubmed21n0358.xml\n",
      "pubmed21n0829.xml\n",
      "pubmed21n0439.xml\n",
      "pubmed21n1000.xml\n",
      "pubmed21n0693.xml\n",
      "pubmed21n0843.xml\n",
      "pubmed21n0633.xml\n",
      "pubmed21n0301.xml\n",
      "pubmed21n0691.xml\n",
      "pubmed21n0806.xml\n",
      "pubmed21n0578.xml\n",
      "pubmed21n0060.xml\n",
      "pubmed21n0853.xml\n",
      "pubmed21n0954.xml\n",
      "pubmed21n0588.xml\n",
      "pubmed21n0617.xml\n",
      "pubmed21n0217.xml\n",
      "pubmed21n0521.xml\n",
      "pubmed21n0130.xml\n",
      "pubmed21n0900.xml\n",
      "pubmed21n0775.xml\n",
      "pubmed21n0906.xml\n",
      "pubmed21n0458.xml\n",
      "pubmed21n0066.xml\n",
      "pubmed21n0380.xml\n",
      "pubmed21n0279.xml\n",
      "pubmed21n0355.xml\n",
      "pubmed21n0590.xml\n",
      "pubmed21n0111.xml\n",
      "pubmed21n0375.xml\n",
      "pubmed21n0791.xml\n",
      "pubmed21n0844.xml\n",
      "pubmed21n0530.xml\n",
      "pubmed21n0199.xml\n",
      "pubmed21n0566.xml\n",
      "pubmed21n0696.xml\n",
      "pubmed21n1045.xml\n",
      "pubmed21n0035.xml\n",
      "pubmed21n0444.xml\n",
      "pubmed21n0600.xml\n",
      "pubmed21n0667.xml\n",
      "pubmed21n0176.xml\n",
      "pubmed21n0213.xml\n",
      "pubmed21n0595.xml\n",
      "pubmed21n0201.xml\n",
      "pubmed21n0220.xml\n",
      "pubmed21n0469.xml\n",
      "pubmed21n0476.xml\n",
      "pubmed21n1023.xml\n",
      "pubmed21n0653.xml\n",
      "pubmed21n0386.xml\n",
      "pubmed21n0579.xml\n",
      "pubmed21n0614.xml\n",
      "pubmed21n0348.xml\n",
      "pubmed21n0879.xml\n",
      "pubmed21n0713.xml\n",
      "pubmed21n0682.xml\n",
      "pubmed21n0628.xml\n",
      "pubmed21n0540.xml\n",
      "pubmed21n1038.xml\n",
      "pubmed21n0838.xml\n",
      "pubmed21n0010.xml\n",
      "pubmed21n0559.xml\n",
      "pubmed21n0272.xml\n",
      "pubmed21n0023.xml\n",
      "pubmed21n0635.xml\n",
      "pubmed21n0131.xml\n",
      "pubmed21n0156.xml\n",
      "pubmed21n0754.xml\n",
      "pubmed21n0007.xml\n",
      "pubmed21n0608.xml\n",
      "pubmed21n0805.xml\n",
      "pubmed21n0139.xml\n",
      "pubmed21n0663.xml\n",
      "pubmed21n0758.xml\n",
      "pubmed21n0508.xml\n",
      "pubmed21n0421.xml\n",
      "pubmed21n0437.xml\n",
      "pubmed21n1002.xml\n",
      "pubmed21n0211.xml\n",
      "pubmed21n0701.xml\n",
      "pubmed21n0771.xml\n",
      "pubmed21n1022.xml\n",
      "pubmed21n0868.xml\n",
      "pubmed21n0395.xml\n",
      "pubmed21n0952.xml\n",
      "pubmed21n0388.xml\n",
      "pubmed21n0305.xml\n",
      "pubmed21n1010.xml\n",
      "pubmed21n0994.xml\n",
      "pubmed21n0504.xml\n",
      "pubmed21n0972.xml\n",
      "pubmed21n0316.xml\n",
      "pubmed21n0430.xml\n",
      "pubmed21n0084.xml\n",
      "pubmed21n1008.xml\n",
      "pubmed21n0043.xml\n",
      "pubmed21n0412.xml\n",
      "pubmed21n0481.xml\n",
      "pubmed21n0372.xml\n",
      "pubmed21n0862.xml\n",
      "pubmed21n0033.xml\n",
      "pubmed21n0168.xml\n",
      "pubmed21n1001.xml\n",
      "pubmed21n0281.xml\n",
      "pubmed21n0042.xml\n",
      "pubmed21n0531.xml\n",
      "pubmed21n0655.xml\n",
      "pubmed21n0116.xml\n",
      "pubmed21n0275.xml\n",
      "pubmed21n0294.xml\n",
      "pubmed21n0473.xml\n",
      "pubmed21n0221.xml\n",
      "pubmed21n0638.xml\n",
      "pubmed21n0114.xml\n",
      "pubmed21n0510.xml\n",
      "pubmed21n0436.xml\n",
      "pubmed21n0017.xml\n",
      "pubmed21n0287.xml\n",
      "pubmed21n0403.xml\n",
      "pubmed21n0126.xml\n",
      "pubmed21n0861.xml\n",
      "pubmed21n0401.xml\n",
      "pubmed21n0580.xml\n",
      "pubmed21n0492.xml\n",
      "pubmed21n0252.xml\n",
      "pubmed21n0546.xml\n",
      "pubmed21n0907.xml\n",
      "pubmed21n0678.xml\n",
      "pubmed21n0104.xml\n",
      "pubmed21n1018.xml\n",
      "pubmed21n0815.xml\n",
      "pubmed21n0432.xml\n",
      "pubmed21n0160.xml\n",
      "pubmed21n0335.xml\n",
      "pubmed21n0765.xml\n",
      "pubmed21n0142.xml\n",
      "pubmed21n0289.xml\n",
      "pubmed21n0856.xml\n",
      "pubmed21n0891.xml\n",
      "pubmed21n0029.xml\n",
      "pubmed21n0866.xml\n",
      "pubmed21n0625.xml\n",
      "pubmed21n0568.xml\n",
      "pubmed21n1036.xml\n",
      "pubmed21n0307.xml\n",
      "pubmed21n0015.xml\n",
      "pubmed21n0552.xml\n",
      "pubmed21n0189.xml\n",
      "pubmed21n0314.xml\n",
      "pubmed21n0731.xml\n",
      "pubmed21n0908.xml\n",
      "pubmed21n0318.xml\n",
      "pubmed21n0572.xml\n",
      "pubmed21n0905.xml\n",
      "pubmed21n1026.xml\n",
      "pubmed21n0934.xml\n",
      "pubmed21n0178.xml\n",
      "pubmed21n0062.xml\n",
      "pubmed21n0727.xml\n",
      "pubmed21n0922.xml\n",
      "pubmed21n0894.xml\n",
      "pubmed21n0459.xml\n",
      "pubmed21n0901.xml\n",
      "pubmed21n0526.xml\n",
      "pubmed21n0477.xml\n",
      "pubmed21n0699.xml\n",
      "pubmed21n0397.xml\n",
      "pubmed21n0254.xml\n",
      "pubmed21n0935.xml\n",
      "pubmed21n0055.xml\n",
      "pubmed21n0567.xml\n",
      "pubmed21n0169.xml\n",
      "pubmed21n0237.xml\n",
      "pubmed21n0256.xml\n",
      "pubmed21n0113.xml\n",
      "pubmed21n0320.xml\n",
      "pubmed21n0077.xml\n",
      "pubmed21n0415.xml\n",
      "pubmed21n0955.xml\n",
      "pubmed21n0846.xml\n",
      "pubmed21n0632.xml\n",
      "pubmed21n0520.xml\n",
      "pubmed21n1042.xml\n",
      "pubmed21n0350.xml\n",
      "pubmed21n0750.xml\n",
      "pubmed21n0420.xml\n",
      "pubmed21n0949.xml\n",
      "pubmed21n0564.xml\n",
      "pubmed21n0522.xml\n",
      "pubmed21n0533.xml\n",
      "pubmed21n0141.xml\n",
      "pubmed21n0285.xml\n",
      "pubmed21n0877.xml\n",
      "pubmed21n0818.xml\n",
      "pubmed21n0618.xml\n",
      "pubmed21n0144.xml\n",
      "pubmed21n0507.xml\n",
      "pubmed21n0004.xml\n",
      "pubmed21n0183.xml\n",
      "pubmed21n0036.xml\n",
      "pubmed21n1039.xml\n",
      "pubmed21n1050.xml\n",
      "pubmed21n0517.xml\n",
      "pubmed21n1028.xml\n",
      "pubmed21n0982.xml\n",
      "pubmed21n0138.xml\n",
      "pubmed21n0194.xml\n",
      "pubmed21n0229.xml\n",
      "pubmed21n0455.xml\n",
      "pubmed21n0759.xml\n",
      "pubmed21n0669.xml\n",
      "pubmed21n0362.xml\n",
      "pubmed21n0161.xml\n",
      "pubmed21n0360.xml\n",
      "pubmed21n0767.xml\n",
      "pubmed21n0748.xml\n",
      "pubmed21n0089.xml\n",
      "pubmed21n0179.xml\n",
      "pubmed21n0466.xml\n",
      "pubmed21n0054.xml\n",
      "pubmed21n0787.xml\n",
      "pubmed21n0453.xml\n",
      "pubmed21n0188.xml\n",
      "pubmed21n0319.xml\n",
      "pubmed21n0946.xml\n",
      "pubmed21n0389.xml\n",
      "pubmed21n0484.xml\n",
      "pubmed21n0418.xml\n",
      "pubmed21n0989.xml\n",
      "pubmed21n0334.xml\n",
      "pubmed21n0446.xml\n",
      "pubmed21n0409.xml\n",
      "pubmed21n0576.xml\n",
      "pubmed21n0621.xml\n",
      "pubmed21n0605.xml\n",
      "pubmed21n0783.xml\n",
      "pubmed21n0671.xml\n",
      "pubmed21n0956.xml\n",
      "pubmed21n0945.xml\n",
      "pubmed21n0021.xml\n",
      "pubmed21n0140.xml\n",
      "pubmed21n0968.xml\n",
      "pubmed21n0298.xml\n",
      "pubmed21n0828.xml\n",
      "pubmed21n0761.xml\n",
      "pubmed21n0332.xml\n",
      "pubmed21n0423.xml\n",
      "pubmed21n0424.xml\n",
      "pubmed21n0365.xml\n",
      "pubmed21n0609.xml\n",
      "pubmed21n0622.xml\n",
      "pubmed21n0685.xml\n",
      "pubmed21n0569.xml\n",
      "pubmed21n0747.xml\n",
      "pubmed21n0309.xml\n",
      "pubmed21n0672.xml\n",
      "pubmed21n0331.xml\n",
      "pubmed21n0212.xml\n",
      "pubmed21n0626.xml\n",
      "pubmed21n0342.xml\n",
      "pubmed21n0525.xml\n",
      "pubmed21n1032.xml\n",
      "pubmed21n0085.xml\n",
      "pubmed21n0030.xml\n",
      "pubmed21n0720.xml\n",
      "pubmed21n0670.xml\n",
      "pubmed21n1015.xml\n",
      "pubmed21n0947.xml\n",
      "pubmed21n1009.xml\n",
      "pubmed21n0382.xml\n",
      "pubmed21n0351.xml\n",
      "pubmed21n0535.xml\n",
      "pubmed21n1021.xml\n",
      "pubmed21n0611.xml\n",
      "pubmed21n0585.xml\n",
      "pubmed21n0962.xml\n",
      "pubmed21n0505.xml\n",
      "pubmed21n0121.xml\n",
      "pubmed21n0796.xml\n",
      "pubmed21n1041.xml\n",
      "pubmed21n0610.xml\n",
      "pubmed21n0039.xml\n",
      "pubmed21n0032.xml\n",
      "pubmed21n1043.xml\n",
      "pubmed21n0716.xml\n",
      "pubmed21n0556.xml\n",
      "pubmed21n0394.xml\n",
      "pubmed21n0938.xml\n",
      "pubmed21n0873.xml\n",
      "pubmed21n0009.xml\n",
      "pubmed21n0541.xml\n",
      "pubmed21n1040.xml\n",
      "pubmed21n0052.xml\n",
      "pubmed21n0442.xml\n",
      "pubmed21n0645.xml\n",
      "pubmed21n0710.xml\n",
      "pubmed21n0768.xml\n",
      "pubmed21n0661.xml\n",
      "pubmed21n0751.xml\n",
      "pubmed21n0051.xml\n",
      "pubmed21n0136.xml\n",
      "pubmed21n1060.xml\n",
      "pubmed21n0086.xml\n",
      "pubmed21n0975.xml\n",
      "pubmed21n0999.xml\n",
      "pubmed21n0948.xml\n",
      "pubmed21n0835.xml\n",
      "pubmed21n0850.xml\n",
      "pubmed21n0959.xml\n",
      "pubmed21n0781.xml\n",
      "pubmed21n0673.xml\n",
      "pubmed21n0407.xml\n",
      "pubmed21n0565.xml\n",
      "pubmed21n0923.xml\n",
      "pubmed21n0849.xml\n",
      "pubmed21n0943.xml\n",
      "pubmed21n0910.xml\n",
      "pubmed21n0516.xml\n",
      "pubmed21n0059.xml\n",
      "pubmed21n0037.xml\n",
      "pubmed21n0249.xml\n",
      "pubmed21n0988.xml\n",
      "pubmed21n0218.xml\n",
      "pubmed21n0075.xml\n",
      "pubmed21n0587.xml\n",
      "pubmed21n1025.xml\n",
      "pubmed21n0374.xml\n",
      "pubmed21n0518.xml\n",
      "pubmed21n0257.xml\n",
      "pubmed21n0570.xml\n",
      "pubmed21n0970.xml\n",
      "pubmed21n0979.xml\n",
      "pubmed21n0267.xml\n",
      "pubmed21n0680.xml\n",
      "pubmed21n1035.xml\n",
      "pubmed21n0157.xml\n",
      "pubmed21n0799.xml\n",
      "pubmed21n0354.xml\n",
      "pubmed21n1057.xml\n",
      "pubmed21n0912.xml\n",
      "pubmed21n0644.xml\n",
      "pubmed21n0438.xml\n",
      "pubmed21n0408.xml\n",
      "pubmed21n1059.xml\n",
      "pubmed21n0110.xml\n",
      "pubmed21n1033.xml\n",
      "pubmed21n0271.xml\n",
      "pubmed21n0306.xml\n",
      "pubmed21n0620.xml\n",
      "pubmed21n0898.xml\n",
      "pubmed21n0656.xml\n",
      "pubmed21n0020.xml\n",
      "pubmed21n0601.xml\n",
      "pubmed21n0648.xml\n",
      "pubmed21n0689.xml\n",
      "pubmed21n0834.xml\n",
      "pubmed21n0379.xml\n",
      "pubmed21n0800.xml\n",
      "pubmed21n0434.xml\n",
      "pubmed21n0011.xml\n",
      "pubmed21n0090.xml\n",
      "pubmed21n0214.xml\n",
      "pubmed21n0863.xml\n",
      "pubmed21n0889.xml\n",
      "pubmed21n1017.xml\n",
      "pubmed21n0096.xml\n",
      "pubmed21n0749.xml\n",
      "pubmed21n0501.xml\n",
      "pubmed21n0961.xml\n",
      "pubmed21n0072.xml\n",
      "pubmed21n0300.xml\n",
      "pubmed21n0694.xml\n",
      "pubmed21n0080.xml\n",
      "pubmed21n0992.xml\n",
      "pubmed21n0753.xml\n",
      "pubmed21n0076.xml\n",
      "pubmed21n0698.xml\n",
      "pubmed21n0299.xml\n",
      "pubmed21n0233.xml\n",
      "pubmed21n0101.xml\n",
      "pubmed21n0219.xml\n",
      "pubmed21n0411.xml\n",
      "pubmed21n0825.xml\n",
      "pubmed21n0657.xml\n",
      "pubmed21n0509.xml\n",
      "pubmed21n0494.xml\n",
      "pubmed21n0774.xml\n",
      "pubmed21n0893.xml\n",
      "pubmed21n0399.xml\n",
      "pubmed21n0180.xml\n",
      "pubmed21n0065.xml\n",
      "pubmed21n0357.xml\n",
      "pubmed21n0757.xml\n",
      "pubmed21n1047.xml\n",
      "pubmed21n0511.xml\n",
      "pubmed21n0467.xml\n",
      "pubmed21n1055.xml\n",
      "pubmed21n0003.xml\n",
      "pubmed21n0978.xml\n",
      "pubmed21n0282.xml\n",
      "pubmed21n0148.xml\n",
      "pubmed21n0826.xml\n",
      "pubmed21n0904.xml\n",
      "pubmed21n0122.xml\n",
      "pubmed21n0647.xml\n",
      "pubmed21n0784.xml\n",
      "pubmed21n0253.xml\n",
      "pubmed21n0387.xml\n",
      "pubmed21n0827.xml\n",
      "pubmed21n0064.xml\n",
      "pubmed21n0684.xml\n",
      "pubmed21n0921.xml\n",
      "pubmed21n0435.xml\n",
      "pubmed21n0174.xml\n",
      "pubmed21n0151.xml\n",
      "pubmed21n0634.xml\n",
      "pubmed21n0736.xml\n",
      "pubmed21n0058.xml\n",
      "pubmed21n0288.xml\n",
      "pubmed21n0091.xml\n",
      "pubmed21n0924.xml\n",
      "pubmed21n0833.xml\n",
      "pubmed21n0185.xml\n",
      "pubmed21n0724.xml\n",
      "pubmed21n0880.xml\n",
      "pubmed21n0792.xml\n",
      "pubmed21n0269.xml\n",
      "pubmed21n0847.xml\n",
      "pubmed21n0823.xml\n",
      "pubmed21n0574.xml\n",
      "pubmed21n0262.xml\n",
      "pubmed21n0513.xml\n",
      "pubmed21n0936.xml\n",
      "pubmed21n0577.xml\n",
      "pubmed21n0563.xml\n",
      "pubmed21n0410.xml\n",
      "pubmed21n0470.xml\n",
      "pubmed21n0719.xml\n",
      "pubmed21n0770.xml\n",
      "pubmed21n0447.xml\n",
      "pubmed21n0198.xml\n",
      "pubmed21n0573.xml\n",
      "pubmed21n0886.xml\n",
      "pubmed21n0181.xml\n",
      "pubmed21n0639.xml\n",
      "pubmed21n0454.xml\n",
      "pubmed21n0883.xml\n",
      "pubmed21n0527.xml\n",
      "pubmed21n0457.xml\n",
      "pubmed21n0261.xml\n",
      "pubmed21n0500.xml\n",
      "pubmed21n1031.xml\n",
      "pubmed21n0637.xml\n",
      "pubmed21n0414.xml\n",
      "pubmed21n0215.xml\n",
      "pubmed21n0755.xml\n",
      "pubmed21n0193.xml\n",
      "pubmed21n0134.xml\n",
      "pubmed21n0167.xml\n",
      "pubmed21n0263.xml\n",
      "pubmed21n0532.xml\n",
      "pubmed21n0659.xml\n",
      "pubmed21n0405.xml\n",
      "pubmed21n0243.xml\n",
      "pubmed21n0785.xml\n",
      "pubmed21n0456.xml\n",
      "pubmed21n0820.xml\n",
      "pubmed21n0888.xml\n",
      "pubmed21n0848.xml\n",
      "pubmed21n0490.xml\n",
      "pubmed21n0677.xml\n",
      "pubmed21n0445.xml\n",
      "pubmed21n0798.xml\n",
      "pubmed21n0311.xml\n",
      "pubmed21n0419.xml\n",
      "pubmed21n0383.xml\n",
      "pubmed21n0145.xml\n",
      "pubmed21n0159.xml\n",
      "pubmed21n0266.xml\n",
      "pubmed21n0258.xml\n",
      "pubmed21n0016.xml\n",
      "pubmed21n1053.xml\n",
      "pubmed21n0337.xml\n",
      "pubmed21n0325.xml\n",
      "pubmed21n0851.xml\n",
      "pubmed21n0461.xml\n",
      "pubmed21n0548.xml\n",
      "pubmed21n0593.xml\n",
      "pubmed21n0232.xml\n",
      "pubmed21n0764.xml\n",
      "pubmed21n0239.xml\n",
      "pubmed21n0452.xml\n",
      "pubmed21n0480.xml\n",
      "pubmed21n0712.xml\n",
      "pubmed21n0487.xml\n",
      "pubmed21n0591.xml\n",
      "pubmed21n0451.xml\n",
      "pubmed21n0265.xml\n",
      "pubmed21n0108.xml\n",
      "pubmed21n0123.xml\n",
      "pubmed21n0236.xml\n",
      "pubmed21n0592.xml\n",
      "pubmed21n0192.xml\n",
      "pubmed21n0697.xml\n",
      "pubmed21n0493.xml\n",
      "pubmed21n0919.xml\n",
      "pubmed21n0981.xml\n",
      "pubmed21n0602.xml\n",
      "pubmed21n0417.xml\n",
      "pubmed21n0488.xml\n",
      "pubmed21n0545.xml\n",
      "pubmed21n0046.xml\n",
      "pubmed21n1003.xml\n",
      "pubmed21n0990.xml\n",
      "pubmed21n0107.xml\n",
      "pubmed21n0726.xml\n",
      "pubmed21n1014.xml\n",
      "pubmed21n0598.xml\n",
      "pubmed21n0742.xml\n",
      "pubmed21n1052.xml\n",
      "pubmed21n0776.xml\n",
      "pubmed21n0870.xml\n",
      "pubmed21n0235.xml\n",
      "pubmed21n0433.xml\n",
      "pubmed21n1056.xml\n",
      "pubmed21n0465.xml\n",
      "pubmed21n0498.xml\n",
      "pubmed21n0460.xml\n",
      "pubmed21n0323.xml\n"
     ]
    },
    {
     "name": "stderr",
     "output_type": "stream",
     "text": [
      "tcmalloc: large alloc 8589934592 bytes == 0xd915aa000 @ \n"
     ]
    },
    {
     "name": "stdout",
     "output_type": "stream",
     "text": [
      "CPU times: user 7h 25min 51s, sys: 16min 7s, total: 7h 41min 59s\n",
      "Wall time: 7h 43min 30s\n"
     ]
    }
   ],
   "source": [
    "%%time\n",
    "\n",
    "path=\"/gpfs01/berens/data/data/pubmed/\"\n",
    "\n",
    "files_2021_df_reparsed_with_authors_ISSN=import_all_files(path, order_files=True)\n",
    "\n",
    "#save results\n",
    "files_2021_df_reparsed_with_authors_ISSN.to_pickle(variables_path / \"files_2021_df_reparsed_with_authors_ISSN\")\n"
   ]
  },
  {
   "cell_type": "code",
   "execution_count": 196,
   "metadata": {},
   "outputs": [
    {
     "name": "stdout",
     "output_type": "stream",
     "text": [
      "There are 31820051 papers\n"
     ]
    }
   ],
   "source": [
    "print('There are {} papers'.format(files_2021_df_reparsed_with_authors_ISSN.shape[0]))"
   ]
  },
  {
   "cell_type": "markdown",
   "metadata": {},
   "source": [
    "## 2022 baseline"
   ]
  },
  {
   "cell_type": "code",
   "execution_count": null,
   "metadata": {
    "collapsed": true,
    "jupyter": {
     "outputs_hidden": true
    },
    "tags": []
   },
   "outputs": [
    {
     "name": "stdout",
     "output_type": "stream",
     "text": [
      "pubmed22n1070.xml\n",
      "pubmed22n1072.xml\n",
      "pubmed22n1078.xml\n",
      "pubmed22n1073.xml\n",
      "pubmed22n1106.xml\n",
      "pubmed22n1071.xml\n",
      "pubmed22n1096.xml\n",
      "pubmed22n1080.xml\n",
      "pubmed22n1062.xml\n",
      "pubmed22n1075.xml\n",
      "pubmed22n1105.xml\n",
      "pubmed22n1102.xml\n",
      "pubmed22n1112.xml\n",
      "pubmed22n1101.xml\n",
      "pubmed22n1108.xml\n",
      "pubmed22n1083.xml\n",
      "pubmed22n1065.xml\n",
      "pubmed22n1087.xml\n",
      "pubmed22n1069.xml\n",
      "pubmed22n1103.xml\n",
      "pubmed22n1097.xml\n",
      "pubmed22n1082.xml\n",
      "pubmed22n1109.xml\n",
      "pubmed22n1111.xml\n",
      "pubmed22n1084.xml\n",
      "pubmed22n1063.xml\n",
      "pubmed22n1098.xml\n",
      "pubmed22n1088.xml\n",
      "pubmed22n1085.xml\n",
      "pubmed22n1114.xml\n",
      "pubmed22n1092.xml\n",
      "pubmed22n1079.xml\n",
      "pubmed22n1113.xml\n",
      "pubmed22n1099.xml\n",
      "pubmed22n1107.xml\n",
      "pubmed22n1077.xml\n",
      "pubmed22n1104.xml\n",
      "pubmed22n1066.xml\n",
      "pubmed22n1064.xml\n",
      "pubmed22n1091.xml\n",
      "pubmed22n1076.xml\n",
      "pubmed22n1095.xml\n",
      "pubmed22n1110.xml\n",
      "pubmed22n1068.xml\n",
      "pubmed22n1074.xml\n",
      "pubmed22n1081.xml\n",
      "pubmed22n1093.xml\n",
      "pubmed22n1094.xml\n",
      "pubmed22n1067.xml\n",
      "pubmed22n1089.xml\n",
      "pubmed22n1100.xml\n",
      "pubmed22n1090.xml\n",
      "CPU times: user 26min 37s, sys: 25.8 s, total: 27min 3s\n",
      "Wall time: 27min 7s\n"
     ]
    }
   ],
   "source": [
    "%%time\n",
    "\n",
    "path=\"/gpfs01/berens/data/data/pubmed/2022_baseline/\"\n",
    "\n",
    "files_2022_df_reparsed_with_authors_ISSN=import_all_files(path, order_files=True)\n",
    "\n",
    "#save results\n",
    "files_2022_df_reparsed_with_authors_ISSN.to_pickle(variables_path / \"files_2022_df_reparsed_with_authors_ISSN\")\n"
   ]
  },
  {
   "cell_type": "code",
   "execution_count": 73,
   "metadata": {},
   "outputs": [
    {
     "name": "stdout",
     "output_type": "stream",
     "text": [
      "There are 1545863 papers\n"
     ]
    }
   ],
   "source": [
    "print('There are {} papers'.format(files_2022_df_reparsed_with_authors_ISSN.shape[0]))"
   ]
  },
  {
   "cell_type": "markdown",
   "metadata": {},
   "source": [
    "# Concatenate both baselines"
   ]
  },
  {
   "cell_type": "code",
   "execution_count": 4,
   "metadata": {},
   "outputs": [
    {
     "name": "stderr",
     "output_type": "stream",
     "text": [
      "tcmalloc: large alloc 1073741824 bytes == 0x19d108000 @ \n",
      "tcmalloc: large alloc 1233903616 bytes == 0x8b9146000 @ \n",
      "tcmalloc: large alloc 2147483648 bytes == 0x902a14000 @ \n",
      "tcmalloc: large alloc 1542381568 bytes == 0x982a4e000 @ \n",
      "tcmalloc: large alloc 1927979008 bytes == 0x9de93c000 @ \n",
      "tcmalloc: large alloc 2409979904 bytes == 0xa517e6000 @ \n",
      "tcmalloc: large alloc 3012476928 bytes == 0x982a4e000 @ \n",
      "tcmalloc: large alloc 2545606656 bytes == 0xa3633a000 @ \n"
     ]
    }
   ],
   "source": [
    "# import 2021\n",
    "files_2021_df_reparsed_with_authors_ISSN=pd.read_pickle(variables_path / \"files_2021_df_reparsed_with_authors_ISSN\")"
   ]
  },
  {
   "cell_type": "code",
   "execution_count": 5,
   "metadata": {},
   "outputs": [],
   "source": [
    "# import 2022\n",
    "files_2022_df_reparsed_with_authors_ISSN=pd.read_pickle(variables_path / \"files_2022_df_reparsed_with_authors_ISSN\")"
   ]
  },
  {
   "cell_type": "code",
   "execution_count": 6,
   "metadata": {},
   "outputs": [],
   "source": [
    "files_df_updated_reparsed_with_authors_ISSN=pd.concat((files_2021_df_reparsed_with_authors_ISSN, files_2022_df_reparsed_with_authors_ISSN), ignore_index=True)"
   ]
  },
  {
   "cell_type": "code",
   "execution_count": 7,
   "metadata": {},
   "outputs": [
    {
     "name": "stdout",
     "output_type": "stream",
     "text": [
      "There are 33365914 papers\n"
     ]
    }
   ],
   "source": [
    "print('There are {} papers'.format(files_df_updated_reparsed_with_authors_ISSN.shape[0]))"
   ]
  },
  {
   "cell_type": "code",
   "execution_count": 205,
   "metadata": {},
   "outputs": [],
   "source": [
    "#save df\n",
    "files_df_updated_reparsed_with_authors_ISSN.to_pickle(variables_path / \"files_df_updated_reparsed_with_authors_ISSN\")"
   ]
  },
  {
   "cell_type": "markdown",
   "metadata": {
    "tags": []
   },
   "source": [
    "## Explore"
   ]
  },
  {
   "cell_type": "code",
   "execution_count": 7,
   "metadata": {},
   "outputs": [
    {
     "name": "stdout",
     "output_type": "stream",
     "text": [
      "There are 4780207 non-english papers\n"
     ]
    }
   ],
   "source": [
    "#Eliminate non-english papers\n",
    "files_df_updated_reparsed_non_eng=files_df_updated_reparsed[files_df_updated_reparsed.Language != 'eng']\n",
    "\n",
    "#print size\n",
    "print('There are {} non-english papers'.format(files_df_updated_reparsed_non_eng.shape[0]))"
   ]
  },
  {
   "cell_type": "code",
   "execution_count": 9,
   "metadata": {},
   "outputs": [
    {
     "name": "stdout",
     "output_type": "stream",
     "text": [
      "There are 10870263 empty abstracts\n"
     ]
    }
   ],
   "source": [
    "#Eliminate empty abstracts\n",
    "files_df_updated_reparsed_empty=files_df_updated_reparsed[files_df_updated_reparsed.AbstractText == '']\n",
    "\n",
    "#print size\n",
    "print('There are {} empty abstracts'.format(files_df_updated_reparsed_empty.shape[0]))"
   ]
  },
  {
   "cell_type": "code",
   "execution_count": 10,
   "metadata": {},
   "outputs": [
    {
     "name": "stdout",
     "output_type": "stream",
     "text": [
      "There are 22495651 not empty abstracts\n"
     ]
    }
   ],
   "source": [
    "#Eliminate empty abstracts\n",
    "files_df_updated_reparsed_not_empty=files_df_updated_reparsed[files_df_updated_reparsed.AbstractText != '']\n",
    "\n",
    "#print size\n",
    "print('There are {} not empty abstracts'.format(files_df_updated_reparsed_not_empty.shape[0]))"
   ]
  },
  {
   "cell_type": "markdown",
   "metadata": {},
   "source": [
    "### Cut off = 4000"
   ]
  },
  {
   "cell_type": "code",
   "execution_count": 11,
   "metadata": {},
   "outputs": [
    {
     "name": "stdout",
     "output_type": "stream",
     "text": [
      "Before cut off, there are 22495651 papers\n",
      "After cut off, there are 22479623 papers\n"
     ]
    }
   ],
   "source": [
    "print('Before cut off, there are {} papers'.format(files_df_updated_reparsed_not_empty.shape[0]))\n",
    "abstracts=files_df_updated_reparsed_not_empty['AbstractText'].tolist()\n",
    "len_strings=map(len, abstracts)\n",
    "len_abstracts=np.fromiter(len_strings, dtype=np.int64,count=len(abstracts))\n",
    "\n",
    "\n",
    "cut_off=4000\n",
    "files_df_updated_reparsed_cutoff=files_df_updated_reparsed_not_empty[len_abstracts<cut_off]\n",
    "print('After cut off, there are {} papers'.format(files_df_updated_reparsed_cutoff.shape[0]))"
   ]
  },
  {
   "cell_type": "code",
   "execution_count": 15,
   "metadata": {},
   "outputs": [
    {
     "name": "stdout",
     "output_type": "stream",
     "text": [
      "There are 16028 papers longer than 4000\n"
     ]
    }
   ],
   "source": [
    "print('There are {} papers longer than {}'.format(22495651-22479623, cut_off))"
   ]
  },
  {
   "cell_type": "markdown",
   "metadata": {},
   "source": [
    "### Threshold = 250"
   ]
  },
  {
   "cell_type": "code",
   "execution_count": 12,
   "metadata": {},
   "outputs": [
    {
     "name": "stdout",
     "output_type": "stream",
     "text": [
      "After threshold, there are 22242115 papers\n"
     ]
    }
   ],
   "source": [
    "threshold=250\n",
    "len_short_abstracts=len_abstracts[len_abstracts<cut_off]\n",
    "files_df_updated_reparsed_cutoff_threshold=files_df_updated_reparsed_cutoff[len_short_abstracts>threshold]\n",
    "print('After threshold, there are {} papers'.format(files_df_updated_reparsed_cutoff_threshold.shape[0]))"
   ]
  },
  {
   "cell_type": "code",
   "execution_count": 16,
   "metadata": {},
   "outputs": [
    {
     "name": "stdout",
     "output_type": "stream",
     "text": [
      "There are 237508 papers shorter than 250\n"
     ]
    }
   ],
   "source": [
    "print('There are {} papers shorter than {}'.format(22479623-22242115, threshold))"
   ]
  },
  {
   "cell_type": "code",
   "execution_count": 17,
   "metadata": {},
   "outputs": [
    {
     "data": {
      "text/plain": [
       "253536"
      ]
     },
     "execution_count": 17,
     "metadata": {},
     "output_type": "execute_result"
    }
   ],
   "source": [
    "#papers filtered out by cutoff + threshold\n",
    "237508+16028"
   ]
  },
  {
   "cell_type": "markdown",
   "metadata": {},
   "source": [
    "# Filter\n",
    "\n",
    "Filter out:\n",
    "- non-English papers\n",
    "- papers with empty abstracts\n",
    "- papers with abstracts shorter than 250 or longer than 4000 symbols\n",
    "- papers with unfinished abstracts"
   ]
  },
  {
   "cell_type": "markdown",
   "metadata": {},
   "source": [
    "## Empty abstracts and non-english papers"
   ]
  },
  {
   "cell_type": "code",
   "execution_count": 8,
   "metadata": {},
   "outputs": [
    {
     "name": "stdout",
     "output_type": "stream",
     "text": [
      "Before, there were 33365914 papers\n",
      "After eliminating empty abstracts, there are 22495651 papers\n",
      "After first cleaning, there are 20942730 papers\n",
      "CPU times: user 16.6 s, sys: 3.27 s, total: 19.9 s\n",
      "Wall time: 19.8 s\n"
     ]
    }
   ],
   "source": [
    "%%time\n",
    "\n",
    "print('Before, there were {} papers'.format(files_df_updated_reparsed_with_authors_ISSN.shape[0]))\n",
    "\n",
    "#Eliminate empty abstracts\n",
    "clean_df_reparsed_with_authors_ISSN=files_df_updated_reparsed_with_authors_ISSN[files_df_updated_reparsed_with_authors_ISSN.AbstractText != '']\n",
    "\n",
    "print('After eliminating empty abstracts, there are {} papers'.format(clean_df_reparsed_with_authors_ISSN.shape[0]))\n",
    "\n",
    "#Eliminate non-english papers\n",
    "clean_df_reparsed_with_authors_ISSN=clean_df_reparsed_with_authors_ISSN[clean_df_reparsed_with_authors_ISSN.Language == 'eng']\n",
    "\n",
    "#print size\n",
    "print('After first cleaning, there are {} papers'.format(clean_df_reparsed_with_authors_ISSN.shape[0]))\n"
   ]
  },
  {
   "cell_type": "markdown",
   "metadata": {},
   "source": [
    "## Threshold and cut off"
   ]
  },
  {
   "cell_type": "markdown",
   "metadata": {},
   "source": [
    "### Cut off = 4000"
   ]
  },
  {
   "cell_type": "code",
   "execution_count": 9,
   "metadata": {},
   "outputs": [
    {
     "name": "stdout",
     "output_type": "stream",
     "text": [
      "Before cut off, there are 20942730 papers\n",
      "After cut off, there are 20928729 papers\n"
     ]
    }
   ],
   "source": [
    "print('Before cut off, there are {} papers'.format(clean_df_reparsed_with_authors_ISSN.shape[0]))\n",
    "abstracts=clean_df_reparsed_with_authors_ISSN['AbstractText'].tolist()\n",
    "len_strings=map(len, abstracts)\n",
    "len_abstracts=np.fromiter(len_strings, dtype=np.int64,count=len(abstracts))\n",
    "\n",
    "\n",
    "cut_off=4000\n",
    "clean_df_reparsed_with_authors_ISSN=clean_df_reparsed_with_authors_ISSN[len_abstracts<cut_off]\n",
    "print('After cut off, there are {} papers'.format(clean_df_reparsed_with_authors_ISSN.shape[0]))"
   ]
  },
  {
   "cell_type": "markdown",
   "metadata": {},
   "source": [
    "### Threshold = 250"
   ]
  },
  {
   "cell_type": "code",
   "execution_count": 10,
   "metadata": {},
   "outputs": [
    {
     "name": "stdout",
     "output_type": "stream",
     "text": [
      "After threshold, there are 20714957 papers\n"
     ]
    }
   ],
   "source": [
    "threshold=250\n",
    "len_short_abstracts=len_abstracts[len_abstracts<cut_off]\n",
    "clean_df_reparsed_with_authors_ISSN=clean_df_reparsed_with_authors_ISSN[len_short_abstracts>threshold]\n",
    "print('After threshold, there are {} papers'.format(clean_df_reparsed_with_authors_ISSN.shape[0]))"
   ]
  },
  {
   "cell_type": "markdown",
   "metadata": {
    "tags": []
   },
   "source": [
    "## Remove the truncated sentence from abstracts\n"
   ]
  },
  {
   "cell_type": "code",
   "execution_count": 290,
   "metadata": {},
   "outputs": [],
   "source": [
    "# import clean_df_updated\n",
    "#clean_df_updated_reparsed_with_authors_ISSN=pd.read_pickle(variables_path / \"clean_df_updated_reparsed_with_authors_ISSN\")"
   ]
  },
  {
   "cell_type": "code",
   "execution_count": 292,
   "metadata": {},
   "outputs": [],
   "source": [
    "abstracts = clean_df_updated_reparsed_with_authors_ISSN['AbstractText']\n",
    "abstracts_list = clean_df_updated_reparsed_with_authors_ISSN['AbstractText'].tolist()"
   ]
  },
  {
   "cell_type": "code",
   "execution_count": 10,
   "metadata": {},
   "outputs": [
    {
     "name": "stdout",
     "output_type": "stream",
     "text": [
      "CPU times: user 38.4 s, sys: 14.8 s, total: 53.1 s\n",
      "Wall time: 53.1 s\n"
     ]
    }
   ],
   "source": [
    "%%time\n",
    "#BUENO\n",
    "clean_df_updated_reparsed_with_authors_ISSN.AbstractText = list(map(lambda x, y: x[:y-1] if y!= -1 else x, \n",
    "                                                                    clean_df_updated_reparsed_with_authors_ISSN.AbstractText, \n",
    "                                                                    clean_df_updated_reparsed_with_authors_ISSN.AbstractText.str.find(\"ABSTRACT TRUNCATED AT\")))"
   ]
  },
  {
   "cell_type": "code",
   "execution_count": 11,
   "metadata": {},
   "outputs": [
    {
     "data": {
      "text/plain": [
       "(20714957, 10)"
      ]
     },
     "execution_count": 11,
     "metadata": {},
     "output_type": "execute_result"
    }
   ],
   "source": [
    "clean_df_updated_reparsed_with_authors_ISSN.shape"
   ]
  },
  {
   "cell_type": "markdown",
   "metadata": {},
   "source": [
    "## Remove unfinished abstracts"
   ]
  },
  {
   "cell_type": "code",
   "execution_count": 12,
   "metadata": {},
   "outputs": [
    {
     "name": "stdout",
     "output_type": "stream",
     "text": [
      "20714957\n"
     ]
    }
   ],
   "source": [
    "abstracts = clean_df_updated_reparsed_with_authors_ISSN['AbstractText']\n",
    "abstracts_list = clean_df_updated_reparsed_with_authors_ISSN['AbstractText'].tolist()\n",
    "print(len(abstracts_list))"
   ]
  },
  {
   "cell_type": "code",
   "execution_count": 13,
   "metadata": {},
   "outputs": [
    {
     "name": "stdout",
     "output_type": "stream",
     "text": [
      "CPU times: user 5.9 s, sys: 5.74 s, total: 11.6 s\n",
      "Wall time: 11.7 s\n"
     ]
    }
   ],
   "source": [
    "%%time\n",
    "end_abstracts = [x[-2:] for x in abstracts_list]"
   ]
  },
  {
   "cell_type": "code",
   "execution_count": null,
   "metadata": {},
   "outputs": [
    {
     "name": "stdout",
     "output_type": "stream",
     "text": [
      "CPU times: user 10.7 s, sys: 102 ms, total: 10.8 s\n",
      "Wall time: 10.8 s\n"
     ]
    }
   ],
   "source": [
    "%%time\n",
    "point_index = np.array([x.find(\".\") for x in end_abstracts])\n",
    "question_index = np.array([x.find(\"?\") for x in end_abstracts])\n",
    "exclamation_index = np.array([x.find(\"!\") for x in end_abstracts])"
   ]
  },
  {
   "cell_type": "code",
   "execution_count": 15,
   "metadata": {},
   "outputs": [
    {
     "name": "stdout",
     "output_type": "stream",
     "text": [
      "Before cleaning, there are 20714957 papers\n",
      "After cleaning, there are 20687150 papers\n",
      "CPU times: user 13 s, sys: 6.52 s, total: 19.5 s\n",
      "Wall time: 19.5 s\n"
     ]
    }
   ],
   "source": [
    "%%time\n",
    "\n",
    "print('Before cleaning, there are {} papers'.format(clean_df_updated_reparsed_with_authors_ISSN.shape[0]))\n",
    "\n",
    "#Eliminate unfinished abstracts\n",
    "clean_df_updated_reparsed_filtered_with_authors_ISSN=clean_df_updated_reparsed_with_authors_ISSN[(point_index!=-1) | (question_index!=-1) | (exclamation_index!=-1)]\n",
    "\n",
    "#print size\n",
    "print('After cleaning, there are {} papers'.format(clean_df_updated_reparsed_filtered_with_authors_ISSN.shape[0]))\n"
   ]
  },
  {
   "cell_type": "code",
   "execution_count": 4,
   "metadata": {},
   "outputs": [
    {
     "data": {
      "text/plain": [
       "(20687150, 10)"
      ]
     },
     "execution_count": 4,
     "metadata": {},
     "output_type": "execute_result"
    }
   ],
   "source": [
    "clean_df_updated_reparsed_filtered_with_authors_ISSN.shape"
   ]
  },
  {
   "cell_type": "code",
   "execution_count": null,
   "metadata": {},
   "outputs": [],
   "source": [
    "#save df\n",
    "clean_df_updated_reparsed_filtered_with_authors_ISSN.to_pickle(variables_path / \"clean_df_updated_reparsed_filtered_with_authors_ISSN\")"
   ]
  }
 ],
 "metadata": {
  "kernelspec": {
   "display_name": "Python 3 (ipykernel)",
   "language": "python",
   "name": "python3"
  },
  "language_info": {
   "codemirror_mode": {
    "name": "ipython",
    "version": 3
   },
   "file_extension": ".py",
   "mimetype": "text/x-python",
   "name": "python",
   "nbconvert_exporter": "python",
   "pygments_lexer": "ipython3",
   "version": "3.11.5"
  }
 },
 "nbformat": 4,
 "nbformat_minor": 4
}
