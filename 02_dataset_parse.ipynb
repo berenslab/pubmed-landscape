{
 "cells": [
  {
   "cell_type": "code",
   "execution_count": 28,
   "metadata": {},
   "outputs": [],
   "source": [
    "from pyarrow import parquet\n",
    "from pathlib import Path\n",
    "import random\n",
    "\n",
    "fs = [*Path(\"parquet\").glob(\"*.parquet\")]\n",
    "random.shuffle(fs)\n",
    "tb = parquet.read_table(fs[0])"
   ]
  },
  {
   "cell_type": "code",
   "execution_count": null,
   "metadata": {},
   "outputs": [],
   "source": [
    "def nlmid_for_issn:\n",
    "  https://eutils.ncbi.nlm.nih.gov/entrez/eutils/esearch.fcgi?db=nlmcatalog&term=0025-8172&format=json\n",
    "def entries_for_nlmid:\n",
    "  https://eutils.ncbi.nlm.nih.gov/entrez/eutils/esummary.fcgi?db=nlmcatalog&id=412004&format=json"
   ]
  },
  {
   "cell_type": "code",
   "execution_count": 41,
   "metadata": {},
   "outputs": [
    {
     "data": {
      "text/plain": [
       "pyarrow.RecordBatch\n",
       "PMID: string\n",
       "DateCompleted: struct<Year: string, Month: string, Day: string>\n",
       "  child 0, Year: string\n",
       "  child 1, Month: string\n",
       "  child 2, Day: string\n",
       "DateRevised: struct<Year: string, Month: string, Day: string>\n",
       "  child 0, Year: string\n",
       "  child 1, Month: string\n",
       "  child 2, Day: string\n",
       "Article: struct<Journal: struct<ISSN: string, JournalIssue: struct<Volume: string, Issue: string, PubDate: struct<Year: string, Month: string, Day: string, MedlineDate: string>>, Title: list<item: string>, ISOAbbreviation: string>, ArticleTitle: string, Pagination: struct<MedlinePgn: string>, Author: list<item: struct<LastName: string, ForeName: string, Initials: string, Suffix: string>>, Language: list<item: string>, PublicationTypeList: struct<PublicationType: list<item: string>>, VernacularTitle: string, Abstract: struct<AbstractText: string>, ELocationID: list<item: string>>\n",
       "  child 0, Journal: struct<ISSN: string, JournalIssue: struct<Volume: string, Issue: string, PubDate: struct<Year: string, Month: string, Day: string, MedlineDate: string>>, Title: list<item: string>, ISOAbbreviation: string>\n",
       "      child 0, ISSN: string\n",
       "      child 1, JournalIssue: struct<Volume: string, Issue: string, PubDate: struct<Year: string, Month: string, Day: string, MedlineDate: string>>\n",
       "          child 0, Volume: string\n",
       "          child 1, Issue: string\n",
       "          child 2, PubDate: struct<Year: string, Month: string, Day: string, MedlineDate: string>\n",
       "              child 0, Year: string\n",
       "              child 1, Month: string\n",
       "              child 2, Day: string\n",
       "              child 3, MedlineDate: string\n",
       "      child 2, Title: list<item: string>\n",
       "          child 0, item: string\n",
       "      child 3, ISOAbbreviation: string\n",
       "  child 1, ArticleTitle: string\n",
       "  child 2, Pagination: struct<MedlinePgn: string>\n",
       "      child 0, MedlinePgn: string\n",
       "  child 3, Author: list<item: struct<LastName: string, ForeName: string, Initials: string, Suffix: string>>\n",
       "      child 0, item: struct<LastName: string, ForeName: string, Initials: string, Suffix: string>\n",
       "          child 0, LastName: string\n",
       "          child 1, ForeName: string\n",
       "          child 2, Initials: string\n",
       "          child 3, Suffix: string\n",
       "  child 4, Language: list<item: string>\n",
       "      child 0, item: string\n",
       "  child 5, PublicationTypeList: struct<PublicationType: list<item: string>>\n",
       "      child 0, PublicationType: list<item: string>\n",
       "          child 0, item: string\n",
       "  child 6, VernacularTitle: string\n",
       "  child 7, Abstract: struct<AbstractText: string>\n",
       "      child 0, AbstractText: string\n",
       "  child 8, ELocationID: list<item: string>\n",
       "      child 0, item: string\n",
       "MedlineJournalInfo: struct<Country: string, MedlineTA: string, NlmUniqueID: string, ISSNLinking: string>\n",
       "  child 0, Country: string\n",
       "  child 1, MedlineTA: string\n",
       "  child 2, NlmUniqueID: string\n",
       "  child 3, ISSNLinking: string\n",
       "ChemicalList: struct<Chemical: list<item: struct<RegistryNumber: string, NameOfSubstance: string>>>\n",
       "  child 0, Chemical: list<item: struct<RegistryNumber: string, NameOfSubstance: string>>\n",
       "      child 0, item: struct<RegistryNumber: string, NameOfSubstance: string>\n",
       "          child 0, RegistryNumber: string\n",
       "          child 1, NameOfSubstance: string\n",
       "CitationSubset: string\n",
       "MeshHeading: list<item: struct<DescriptorName: string, QualifierName: list<item: string>>>\n",
       "  child 0, item: struct<DescriptorName: string, QualifierName: list<item: string>>\n",
       "      child 0, DescriptorName: string\n",
       "      child 1, QualifierName: list<item: string>\n",
       "          child 0, item: string\n",
       "OtherID: list<item: string>\n",
       "  child 0, item: string\n",
       "Keyword: string\n",
       "PersonalNameSubjectList: struct<PersonalNameSubject: list<item: struct<LastName: string, ForeName: string, Initials: string, Suffix: string>>>\n",
       "  child 0, PersonalNameSubject: list<item: struct<LastName: string, ForeName: string, Initials: string, Suffix: string>>\n",
       "      child 0, item: struct<LastName: string, ForeName: string, Initials: string, Suffix: string>\n",
       "          child 0, LastName: string\n",
       "          child 1, ForeName: string\n",
       "          child 2, Initials: string\n",
       "          child 3, Suffix: string\n",
       "SupplMeshList: struct<SupplMeshName: list<item: string>>\n",
       "  child 0, SupplMeshName: list<item: string>\n",
       "      child 0, item: string\n",
       "CommentsCorrectionsList: struct<CommentsCorrections: list<item: struct<RefSource: string, PMID: string>>>\n",
       "  child 0, CommentsCorrections: list<item: struct<RefSource: string, PMID: string>>\n",
       "      child 0, item: struct<RefSource: string, PMID: string>\n",
       "          child 0, RefSource: string\n",
       "          child 1, PMID: string"
      ]
     },
     "execution_count": 41,
     "metadata": {},
     "output_type": "execute_result"
    }
   ],
   "source": [
    "import pyarrow as pa\n",
    "pa.RecordBatch.from_struct_array(tb['MedlineCitation'].combine_chunks())"
   ]
  },
  {
   "cell_type": "code",
   "execution_count": 29,
   "metadata": {},
   "outputs": [
    {
     "data": {
      "text/plain": [
       "<pyarrow.lib.ChunkedArray object at 0x12aa6ec70>\n",
       "[\n",
       "  [\n",
       "    \"0025-7702\",\n",
       "    \"0025-7702\",\n",
       "    \"0025-7702\",\n",
       "    \"0025-7702\",\n",
       "    \"0025-7702\",\n",
       "    \"0025-7974\",\n",
       "    \"0025-7974\",\n",
       "    \"0025-8172\",\n",
       "    \"0025-8172\",\n",
       "    \"0025-8172\",\n",
       "    ...\n",
       "    \"0037-8771\",\n",
       "    \"0037-8771\",\n",
       "    \"0037-8771\",\n",
       "    \"0037-8771\",\n",
       "    \"0037-8771\",\n",
       "    \"0037-8771\",\n",
       "    \"0037-8771\",\n",
       "    \"0037-8771\",\n",
       "    \"0037-8771\",\n",
       "    \"0037-8771\"\n",
       "  ]\n",
       "]"
      ]
     },
     "execution_count": 29,
     "metadata": {},
     "output_type": "execute_result"
    }
   ],
   "source": [
    "tb.flatten().flatten().flatten().flatten()['MedlineCitation.Article.Journal.ISSN']"
   ]
  },
  {
   "cell_type": "code",
   "execution_count": null,
   "metadata": {},
   "outputs": [],
   "source": []
  }
 ],
 "metadata": {
  "kernelspec": {
   "display_name": "Python 3.9.12 64-bit",
   "language": "python",
   "name": "python3"
  },
  "language_info": {
   "codemirror_mode": {
    "name": "ipython",
    "version": 3
   },
   "file_extension": ".py",
   "mimetype": "text/x-python",
   "name": "python",
   "nbconvert_exporter": "python",
   "pygments_lexer": "ipython3",
   "version": "3.9.13"
  },
  "orig_nbformat": 4,
  "vscode": {
   "interpreter": {
    "hash": "b0fa6594d8f4cbf19f97940f81e996739fb7646882a419484c72d19e05852a7e"
   }
  }
 },
 "nbformat": 4,
 "nbformat_minor": 2
}
