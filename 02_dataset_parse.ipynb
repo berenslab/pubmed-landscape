{
 "cells": [
  {
   "cell_type": "code",
   "execution_count": 160,
   "metadata": {},
   "outputs": [],
   "source": [
    "from pyarrow import parquet\n",
    "from pathlib import Path\n",
    "import random\n",
    "from urllib.request import urlopen\n",
    "import json\n",
    "import time"
   ]
  },
  {
   "cell_type": "code",
   "execution_count": 169,
   "metadata": {},
   "outputs": [],
   "source": [
    "\n",
    "# A function to return the XML catalog record for an ISSN by two subsequence API calls.\n",
    "def nlm_xml(issn):\n",
    "  with urlopen(f\"https://eutils.ncbi.nlm.nih.gov/entrez/eutils/esearch.fcgi?db=nlmcatalog&term={issn}&format=json\") as response:\n",
    "    body = response.read()\n",
    "  id = json.loads(body)['esearchresult']['idlist'][0]\n",
    "  # Timeout under the limit right now.\n",
    "  time.sleep(.25)\n",
    "  with urlopen(f\"https://eutils.ncbi.nlm.nih.gov/entrez/eutils/efetch.fcgi?db=nlmcatalog&id={id}&format=xml\") as response:\n",
    "    body = response.read()\n",
    "  return body.decode(\"utf-8\")\n",
    "\n",
    "class Catalog_Cache():\n",
    "  \"\"\"\n",
    "  A dictionary-like object that handles the caching of XML catalog records \n",
    "  and the parsing of subject headings from them.\n",
    "  \"\"\"\n",
    "  def __init__(self):\n",
    "    self.cache = {}\n",
    "    self.p = Path(\"data\", \"issn.txt\")\n",
    "    self.__enter__()\n",
    "    if self.p.exists():\n",
    "      self.prepopulate_cache()\n",
    "    \n",
    "  def __getitem__(self, issn):\n",
    "    if self.cache.get(issn):\n",
    "      return self.cache[issn]\n",
    "    else:\n",
    "      print(\"Getting over HTTP\", end = \"\\r\")\n",
    "      self.cache[issn] = nlm_xml(issn)\n",
    "      # Limit of 3 queries a second.\n",
    "      time.sleep(0.5)\n",
    "      self.writer.write(f\"{issn}\\x1e{self.cache[issn]}\\x1d\")\n",
    "      return self.cache[issn]\n",
    "\n",
    "  def __enter__(self):\n",
    "    self.writer = self.p.open(mode=\"a\")\n",
    "    return self\n",
    "\n",
    "  def __exit__(self, type, value, traceback):\n",
    "    self.writer.close()\n",
    "\n",
    "  def close(self):\n",
    "    self.writer.close()\n",
    "\n",
    "  def prepopulate_cache(self):\n",
    "    lines = self.p.open('r').read().split('\\x1d')\n",
    "    for line in lines:\n",
    "      if len(line) > 1:\n",
    "        id, xml = line.split('\\x1e')\n",
    "        self.cache[id] = xml\n",
    "      \n",
    "  def subject_headings(self, issn):\n",
    "    body = self[issn]\n",
    "    f = BytesIO()\n",
    "    f.write(body.encode(\"utf-8\"))\n",
    "    f.seek(0)\n",
    "    xtree = et.parse(f)\n",
    "    xroot = xtree.getroot()\n",
    "    mesh_headings = [m.text for m in xroot.findall('.//MeshHeading//DescriptorName')]\n",
    "    return mesh_headings\n",
    "\n"
   ]
  },
  {
   "cell_type": "code",
   "execution_count": 174,
   "metadata": {},
   "outputs": [],
   "source": [
    "\n",
    "m = Catalog_Cache()"
   ]
  },
  {
   "cell_type": "code",
   "execution_count": 175,
   "metadata": {},
   "outputs": [
    {
     "data": {
      "text/plain": [
       "3690"
      ]
     },
     "execution_count": 175,
     "metadata": {},
     "output_type": "execute_result"
    }
   ],
   "source": [
    "len(m.cache)"
   ]
  },
  {
   "cell_type": "code",
   "execution_count": 176,
   "metadata": {},
   "outputs": [],
   "source": [
    "m.close()"
   ]
  },
  {
   "cell_type": "code",
   "execution_count": null,
   "metadata": {},
   "outputs": [],
   "source": []
  },
  {
   "cell_type": "code",
   "execution_count": 173,
   "metadata": {},
   "outputs": [
    {
     "name": "stdout",
     "output_type": "stream",
     "text": [
      "1090-3801 ['Pain Management', 'Pain']ilitation'], Ocular'] 'Primary Health Care']ealth', 'Sports Medicine', 'Travel']d States']physiology', 'Neuropsychology']]urveillance, Postmarketing']\r"
     ]
    }
   ],
   "source": [
    "\n",
    "fs = [*Path(\"parquet\").glob(\"*.parquet\")]\n",
    "random.shuffle(fs)\n",
    "tb = parquet.read_table(fs[0])\n",
    "with Catalog_Cache() as m:\n",
    "  for issn in [*set(tb.flatten().flatten().flatten().flatten()['MedlineCitation.Article.Journal.ISSN'].to_pylist())]:\n",
    "    subjects = m.subject_headings(issn)\n",
    "    print(issn, subjects, end = \"\\r\")\n"
   ]
  },
  {
   "cell_type": "code",
   "execution_count": 95,
   "metadata": {},
   "outputs": [],
   "source": [
    "from io import BytesIO\n",
    "import xml.etree.ElementTree as et\n",
    "\n"
   ]
  },
  {
   "cell_type": "code",
   "execution_count": 157,
   "metadata": {},
   "outputs": [],
   "source": [
    "m.close()"
   ]
  },
  {
   "cell_type": "code",
   "execution_count": null,
   "metadata": {},
   "outputs": [],
   "source": []
  },
  {
   "cell_type": "code",
   "execution_count": 96,
   "metadata": {},
   "outputs": [
    {
     "ename": "SyntaxError",
     "evalue": "invalid syntax (2208174421.py, line 2)",
     "output_type": "error",
     "traceback": [
      "\u001b[0;36m  File \u001b[0;32m\"/var/folders/32/kljptc3d7_vgm80m4l25vh6c0000gn/T/ipykernel_53631/2208174421.py\"\u001b[0;36m, line \u001b[0;32m2\u001b[0m\n\u001b[0;31m    https://eutils.ncbi.nlm.nih.gov/entrez/eutils/esearch.fcgi?db=nlmcatalog&term=0025-8172&format=json\u001b[0m\n\u001b[0m          ^\u001b[0m\n\u001b[0;31mSyntaxError\u001b[0m\u001b[0;31m:\u001b[0m invalid syntax\n"
     ]
    }
   ],
   "source": [
    "def nlmid_for_issn(issns):\n",
    "  https://eutils.ncbi.nlm.nih.gov/entrez/eutils/esearch.fcgi?db=nlmcatalog&term=0025-8172&format=json\n",
    "def entries_for_nlmid:\n",
    "  https://eutils.ncbi.nlm.nih.gov/entrez/eutils/efetch.fcgi?db=nlmcatalog&id=412004&format=xml"
   ]
  },
  {
   "cell_type": "code",
   "execution_count": null,
   "metadata": {},
   "outputs": [
    {
     "data": {
      "text/plain": [
       "pyarrow.RecordBatch\n",
       "PMID: string\n",
       "DateCompleted: struct<Year: string, Month: string, Day: string>\n",
       "  child 0, Year: string\n",
       "  child 1, Month: string\n",
       "  child 2, Day: string\n",
       "DateRevised: struct<Year: string, Month: string, Day: string>\n",
       "  child 0, Year: string\n",
       "  child 1, Month: string\n",
       "  child 2, Day: string\n",
       "Article: struct<Journal: struct<ISSN: string, JournalIssue: struct<Volume: string, Issue: string, PubDate: struct<Year: string, Month: string, MedlineDate: string, Season: string, Day: string>>, Title: list<item: string>, ISOAbbreviation: string>, ArticleTitle: string, Pagination: struct<MedlinePgn: string>, ELocationID: list<item: string>, Abstract: struct<AbstractText: string, CopyrightInformation: string>, Author: list<item: struct<LastName: string, ForeName: string, Initials: string, AffiliationInfo: list<item: struct<Affiliation: string>>, CollectiveName: string, Suffix: string, Identifier: list<item: string>>>, Language: list<item: string>, PublicationTypeList: struct<PublicationType: list<item: string>>, VernacularTitle: string, GrantList: struct<Grant: list<item: struct<GrantID: string, Acronym: string, Agency: string, Country: string>>>, ArticleDate: struct<Year: string, Month: string, Day: string>, DataBankList: struct<DataBank: list<item: struct<DataBankName: string, AccessionNumberList: struct<AccessionNumber: list<item: string>>>>>>\n",
       "  child 0, Journal: struct<ISSN: string, JournalIssue: struct<Volume: string, Issue: string, PubDate: struct<Year: string, Month: string, MedlineDate: string, Season: string, Day: string>>, Title: list<item: string>, ISOAbbreviation: string>\n",
       "      child 0, ISSN: string\n",
       "      child 1, JournalIssue: struct<Volume: string, Issue: string, PubDate: struct<Year: string, Month: string, MedlineDate: string, Season: string, Day: string>>\n",
       "          child 0, Volume: string\n",
       "          child 1, Issue: string\n",
       "          child 2, PubDate: struct<Year: string, Month: string, MedlineDate: string, Season: string, Day: string>\n",
       "              child 0, Year: string\n",
       "              child 1, Month: string\n",
       "              child 2, MedlineDate: string\n",
       "              child 3, Season: string\n",
       "              child 4, Day: string\n",
       "      child 2, Title: list<item: string>\n",
       "          child 0, item: string\n",
       "      child 3, ISOAbbreviation: string\n",
       "  child 1, ArticleTitle: string\n",
       "  child 2, Pagination: struct<MedlinePgn: string>\n",
       "      child 0, MedlinePgn: string\n",
       "  child 3, ELocationID: list<item: string>\n",
       "      child 0, item: string\n",
       "  child 4, Abstract: struct<AbstractText: string, CopyrightInformation: string>\n",
       "      child 0, AbstractText: string\n",
       "      child 1, CopyrightInformation: string\n",
       "  child 5, Author: list<item: struct<LastName: string, ForeName: string, Initials: string, AffiliationInfo: list<item: struct<Affiliation: string>>, CollectiveName: string, Suffix: string, Identifier: list<item: string>>>\n",
       "      child 0, item: struct<LastName: string, ForeName: string, Initials: string, AffiliationInfo: list<item: struct<Affiliation: string>>, CollectiveName: string, Suffix: string, Identifier: list<item: string>>\n",
       "          child 0, LastName: string\n",
       "          child 1, ForeName: string\n",
       "          child 2, Initials: string\n",
       "          child 3, AffiliationInfo: list<item: struct<Affiliation: string>>\n",
       "              child 0, item: struct<Affiliation: string>\n",
       "                  child 0, Affiliation: string\n",
       "          child 4, CollectiveName: string\n",
       "          child 5, Suffix: string\n",
       "          child 6, Identifier: list<item: string>\n",
       "              child 0, item: string\n",
       "  child 6, Language: list<item: string>\n",
       "      child 0, item: string\n",
       "  child 7, PublicationTypeList: struct<PublicationType: list<item: string>>\n",
       "      child 0, PublicationType: list<item: string>\n",
       "          child 0, item: string\n",
       "  child 8, VernacularTitle: string\n",
       "  child 9, GrantList: struct<Grant: list<item: struct<GrantID: string, Acronym: string, Agency: string, Country: string>>>\n",
       "      child 0, Grant: list<item: struct<GrantID: string, Acronym: string, Agency: string, Country: string>>\n",
       "          child 0, item: struct<GrantID: string, Acronym: string, Agency: string, Country: string>\n",
       "              child 0, GrantID: string\n",
       "              child 1, Acronym: string\n",
       "              child 2, Agency: string\n",
       "              child 3, Country: string\n",
       "  child 10, ArticleDate: struct<Year: string, Month: string, Day: string>\n",
       "      child 0, Year: string\n",
       "      child 1, Month: string\n",
       "      child 2, Day: string\n",
       "  child 11, DataBankList: struct<DataBank: list<item: struct<DataBankName: string, AccessionNumberList: struct<AccessionNumber: list<item: string>>>>>\n",
       "      child 0, DataBank: list<item: struct<DataBankName: string, AccessionNumberList: struct<AccessionNumber: list<item: string>>>>\n",
       "          child 0, item: struct<DataBankName: string, AccessionNumberList: struct<AccessionNumber: list<item: string>>>\n",
       "              child 0, DataBankName: string\n",
       "              child 1, AccessionNumberList: struct<AccessionNumber: list<item: string>>\n",
       "                  child 0, AccessionNumber: list<item: string>\n",
       "                      child 0, item: string\n",
       "MedlineJournalInfo: struct<Country: string, MedlineTA: string, NlmUniqueID: string, ISSNLinking: string>\n",
       "  child 0, Country: string\n",
       "  child 1, MedlineTA: string\n",
       "  child 2, NlmUniqueID: string\n",
       "  child 3, ISSNLinking: string\n",
       "ChemicalList: struct<Chemical: list<item: struct<RegistryNumber: string, NameOfSubstance: string>>>\n",
       "  child 0, Chemical: list<item: struct<RegistryNumber: string, NameOfSubstance: string>>\n",
       "      child 0, item: struct<RegistryNumber: string, NameOfSubstance: string>\n",
       "          child 0, RegistryNumber: string\n",
       "          child 1, NameOfSubstance: string\n",
       "CitationSubset: string\n",
       "MeshHeading: list<item: struct<DescriptorName: string, QualifierName: list<item: string>>>\n",
       "  child 0, item: struct<DescriptorName: string, QualifierName: list<item: string>>\n",
       "      child 0, DescriptorName: string\n",
       "      child 1, QualifierName: list<item: string>\n",
       "          child 0, item: string\n",
       "NumberOfReferences: string\n",
       "CommentsCorrectionsList: struct<CommentsCorrections: list<item: struct<RefSource: string, PMID: string, Note: string>>>\n",
       "  child 0, CommentsCorrections: list<item: struct<RefSource: string, PMID: string, Note: string>>\n",
       "      child 0, item: struct<RefSource: string, PMID: string, Note: string>\n",
       "          child 0, RefSource: string\n",
       "          child 1, PMID: string\n",
       "          child 2, Note: string\n",
       "SupplMeshList: struct<SupplMeshName: list<item: string>>\n",
       "  child 0, SupplMeshName: list<item: string>\n",
       "      child 0, item: string\n",
       "InvestigatorList: struct<Investigator: list<item: struct<LastName: string, ForeName: string, Initials: string, Suffix: string>>>\n",
       "  child 0, Investigator: list<item: struct<LastName: string, ForeName: string, Initials: string, Suffix: string>>\n",
       "      child 0, item: struct<LastName: string, ForeName: string, Initials: string, Suffix: string>\n",
       "          child 0, LastName: string\n",
       "          child 1, ForeName: string\n",
       "          child 2, Initials: string\n",
       "          child 3, Suffix: string\n",
       "PersonalNameSubjectList: struct<PersonalNameSubject: list<item: struct<LastName: string, ForeName: string, Initials: string, Suffix: string>>>\n",
       "  child 0, PersonalNameSubject: list<item: struct<LastName: string, ForeName: string, Initials: string, Suffix: string>>\n",
       "      child 0, item: struct<LastName: string, ForeName: string, Initials: string, Suffix: string>\n",
       "          child 0, LastName: string\n",
       "          child 1, ForeName: string\n",
       "          child 2, Initials: string\n",
       "          child 3, Suffix: string\n",
       "OtherID: list<item: string>\n",
       "  child 0, item: string\n",
       "Keyword: string\n",
       "CoiStatement: string"
      ]
     },
     "execution_count": 49,
     "metadata": {},
     "output_type": "execute_result"
    }
   ],
   "source": [
    "import pyarrow as pa\n",
    "pa.RecordBatch.from_struct_array(tb['MedlineCitation'].combine_chunks())"
   ]
  },
  {
   "cell_type": "code",
   "execution_count": 50,
   "metadata": {},
   "outputs": [
    {
     "data": {
      "text/plain": [
       "<pyarrow.lib.ChunkedArray object at 0x12ab0c360>\n",
       "[\n",
       "  [\n",
       "    \"1434-5293\",\n",
       "    \"1434-5293\",\n",
       "    \"1434-5293\",\n",
       "    \"1434-5293\",\n",
       "    \"1434-5293\",\n",
       "    \"1434-5293\",\n",
       "    \"1434-5293\",\n",
       "    \"0941-293X\",\n",
       "    \"1438-2199\",\n",
       "    \"0009-4722\",\n",
       "    ...\n",
       "    \"1556-4029\",\n",
       "    \"1556-4029\",\n",
       "    \"1365-2796\",\n",
       "    \"1600-0765\",\n",
       "    \"1423-0410\",\n",
       "    \"1399-3054\",\n",
       "    \"1423-0410\",\n",
       "    \"1478-3231\",\n",
       "    \"1478-3231\",\n",
       "    \"1478-3231\"\n",
       "  ]\n",
       "]"
      ]
     },
     "execution_count": 50,
     "metadata": {},
     "output_type": "execute_result"
    }
   ],
   "source": [
    "tb.flatten().flatten().flatten().flatten()['MedlineCitation.Article.Journal.ISSN']"
   ]
  },
  {
   "cell_type": "code",
   "execution_count": 52,
   "metadata": {},
   "outputs": [
    {
     "data": {
      "text/plain": [
       "<pyarrow.lib.ListArray object at 0x12aa37700>\n",
       "[\n",
       "  null,\n",
       "  null,\n",
       "  null,\n",
       "  null,\n",
       "  null,\n",
       "  null,\n",
       "  null,\n",
       "  null,\n",
       "  null,\n",
       "  null,\n",
       "  ...\n",
       "  null,\n",
       "  null,\n",
       "  null,\n",
       "  null,\n",
       "  null,\n",
       "  null,\n",
       "  null,\n",
       "  null,\n",
       "  null,\n",
       "  null\n",
       "]"
      ]
     },
     "execution_count": 52,
     "metadata": {},
     "output_type": "execute_result"
    }
   ],
   "source": [
    "from pyarrow import compute as pc\n",
    "r = pc.list_flatten(tb.flatten().flatten().flatten().flatten()['MedlineCitation.Article.Author'])\n",
    "\n",
    "pa.RecordBatch.from_struct_array(r.combine_chunks())['Identifier']"
   ]
  },
  {
   "cell_type": "code",
   "execution_count": null,
   "metadata": {},
   "outputs": [],
   "source": []
  }
 ],
 "metadata": {
  "kernelspec": {
   "display_name": "Python 3.9.12 64-bit",
   "language": "python",
   "name": "python3"
  },
  "language_info": {
   "codemirror_mode": {
    "name": "ipython",
    "version": 3
   },
   "file_extension": ".py",
   "mimetype": "text/x-python",
   "name": "python",
   "nbconvert_exporter": "python",
   "pygments_lexer": "ipython3",
   "version": "3.9.13"
  },
  "orig_nbformat": 4,
  "vscode": {
   "interpreter": {
    "hash": "b0fa6594d8f4cbf19f97940f81e996739fb7646882a419484c72d19e05852a7e"
   }
  }
 },
 "nbformat": 4,
 "nbformat_minor": 2
}
